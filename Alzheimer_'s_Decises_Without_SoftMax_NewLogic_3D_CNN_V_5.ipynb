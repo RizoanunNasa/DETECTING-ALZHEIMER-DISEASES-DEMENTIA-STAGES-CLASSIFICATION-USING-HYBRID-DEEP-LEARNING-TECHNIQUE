{
  "cells": [
    {
      "cell_type": "code",
      "execution_count": 1,
      "metadata": {
        "colab": {
          "base_uri": "https://localhost:8080/"
        },
        "id": "eB8O5hgu0O7_",
        "outputId": "13dc7a5d-41b5-4dcb-f27b-aa023b64655e"
      },
      "outputs": [
        {
          "output_type": "stream",
          "name": "stdout",
          "text": [
            "Collecting plot_model\n",
            "  Downloading plot_model-0.20-py3-none-any.whl (6.9 kB)\n",
            "Installing collected packages: plot_model\n",
            "Successfully installed plot_model-0.20\n"
          ]
        }
      ],
      "source": [
        "!pip install plot_model"
      ]
    },
    {
      "cell_type": "code",
      "execution_count": null,
      "metadata": {
        "id": "fouzi7Pn0mMF"
      },
      "outputs": [],
      "source": [
        "#!pip install imbalanced-learn"
      ]
    },
    {
      "cell_type": "code",
      "execution_count": 2,
      "metadata": {
        "colab": {
          "base_uri": "https://localhost:8080/"
        },
        "id": "totni3671k2_",
        "outputId": "b97a2cbe-5e32-49c7-ff94-8747fa721c10"
      },
      "outputs": [
        {
          "output_type": "stream",
          "name": "stdout",
          "text": [
            "Collecting tensorflow-addons\n",
            "  Downloading tensorflow_addons-0.23.0-cp310-cp310-manylinux_2_17_x86_64.manylinux2014_x86_64.whl (611 kB)\n",
            "\u001b[2K     \u001b[90m━━━━━━━━━━━━━━━━━━━━━━━━━━━━━━━━━━━━━━━━\u001b[0m \u001b[32m611.8/611.8 kB\u001b[0m \u001b[31m8.0 MB/s\u001b[0m eta \u001b[36m0:00:00\u001b[0m\n",
            "\u001b[?25hRequirement already satisfied: packaging in /usr/local/lib/python3.10/dist-packages (from tensorflow-addons) (24.0)\n",
            "Collecting typeguard<3.0.0,>=2.7 (from tensorflow-addons)\n",
            "  Downloading typeguard-2.13.3-py3-none-any.whl (17 kB)\n",
            "Installing collected packages: typeguard, tensorflow-addons\n",
            "Successfully installed tensorflow-addons-0.23.0 typeguard-2.13.3\n"
          ]
        }
      ],
      "source": [
        "!pip install tensorflow-addons"
      ]
    },
    {
      "cell_type": "code",
      "execution_count": null,
      "metadata": {
        "colab": {
          "base_uri": "https://localhost:8080/"
        },
        "id": "9mDzp6hc1q5Y",
        "outputId": "d597380f-da6e-4422-a4bf-f873ef163418"
      },
      "outputs": [
        {
          "name": "stdout",
          "output_type": "stream",
          "text": [
            "/bin/bash: line 1: nvidia-smi: command not found\n"
          ]
        }
      ],
      "source": [
        "!nvidia-smi"
      ]
    },
    {
      "cell_type": "code",
      "execution_count": null,
      "metadata": {
        "colab": {
          "base_uri": "https://localhost:8080/",
          "height": 35
        },
        "id": "cUSPLf8p1r1a",
        "outputId": "ed975b08-4966-4f68-a5b9-e23b7be706a9"
      },
      "outputs": [
        {
          "data": {
            "application/vnd.google.colaboratory.intrinsic+json": {
              "type": "string"
            },
            "text/plain": [
              "'2.15.0'"
            ]
          },
          "execution_count": 3,
          "metadata": {},
          "output_type": "execute_result"
        }
      ],
      "source": [
        "import tensorflow as tf\n",
        "tf.__version__"
      ]
    },
    {
      "cell_type": "code",
      "execution_count": 3,
      "metadata": {
        "colab": {
          "base_uri": "https://localhost:8080/"
        },
        "id": "O2TeY3nr1vrL",
        "outputId": "54f0d64f-bcdb-4102-ddc5-be2335a9c2a5"
      },
      "outputs": [
        {
          "output_type": "stream",
          "name": "stderr",
          "text": [
            "/usr/local/lib/python3.10/dist-packages/tensorflow_addons/utils/tfa_eol_msg.py:23: UserWarning: \n",
            "\n",
            "TensorFlow Addons (TFA) has ended development and introduction of new features.\n",
            "TFA has entered a minimal maintenance and release mode until a planned end of life in May 2024.\n",
            "Please modify downstream libraries to take dependencies from other repositories in our TensorFlow community (e.g. Keras, Keras-CV, and Keras-NLP). \n",
            "\n",
            "For more information see: https://github.com/tensorflow/addons/issues/2807 \n",
            "\n",
            "  warnings.warn(\n"
          ]
        }
      ],
      "source": [
        "import numpy as np\n",
        "import pandas as pd\n",
        "import seaborn as sns\n",
        "import random\n",
        "import tensorflow as tf\n",
        "import matplotlib.pyplot as plt\n",
        "import plotly.express as px\n",
        "\n",
        "import os\n",
        "import keras\n",
        "#import tensorflow.python.keras.utils.vis_utils\n",
        "from distutils.dir_util import copy_tree, remove_tree\n",
        "\n",
        "from PIL import Image\n",
        "from random import randint\n",
        "\n",
        "from imblearn.over_sampling import SMOTE\n",
        "from sklearn.model_selection import train_test_split\n",
        "from sklearn.metrics import matthews_corrcoef as MCC\n",
        "from sklearn.metrics import balanced_accuracy_score as BAS\n",
        "from sklearn.metrics import classification_report, confusion_matrix\n",
        "\n",
        "from sklearn.preprocessing import OneHotEncoder, label_binarize\n",
        "\n",
        "import tensorflow_addons as tfa\n",
        "#from keras.utils.vis_utils import plot_model\n",
        "from tensorflow.keras.utils import plot_model\n",
        "from tqdm import tqdm\n",
        "\n",
        "from tensorflow.keras import Sequential, Input\n",
        "from tensorflow.keras.layers import Dense, Dropout\n",
        "from tensorflow.keras.layers import Conv2D, Flatten\n",
        "from tensorflow.keras.callbacks import ReduceLROnPlateau\n",
        "from tensorflow.keras.applications.inception_v3 import InceptionV3\n",
        "from tensorflow.keras.preprocessing.image import ImageDataGenerator as IDG\n",
        "from tensorflow.keras.layers import SeparableConv2D, BatchNormalization, GlobalAveragePooling2D\n",
        "from matplotlib.colors import LogNorm, LinearSegmentedColormap\n",
        "from xgboost import XGBClassifier # XGBClassifier"
      ]
    },
    {
      "cell_type": "code",
      "execution_count": 4,
      "metadata": {
        "colab": {
          "base_uri": "https://localhost:8080/"
        },
        "id": "xPh_jgrw19bE",
        "outputId": "d0f9ce5a-7e18-4894-cc67-721c3249bbc4"
      },
      "outputs": [
        {
          "output_type": "stream",
          "name": "stdout",
          "text": [
            "Mounted at /content/drive\n"
          ]
        }
      ],
      "source": [
        "from google.colab import drive\n",
        "drive.mount('/content/drive')"
      ]
    },
    {
      "cell_type": "code",
      "execution_count": null,
      "metadata": {
        "colab": {
          "base_uri": "https://localhost:8080/"
        },
        "id": "vOD2OX7M2ZkD",
        "outputId": "1c926b7d-768d-4554-b70f-345f146a3a20"
      },
      "outputs": [
        {
          "output_type": "stream",
          "name": "stdout",
          "text": [
            "Drive already mounted at /content/drive; to attempt to forcibly remount, call drive.mount(\"/content/drive\", force_remount=True).\n",
            "Length of volumes_array: 1223\n",
            "Length of volumes_array: 1223\n"
          ]
        }
      ],
      "source": [
        "from google.colab import drive\n",
        "import os\n",
        "import pickle\n",
        "from sklearn.model_selection import train_test_split\n",
        "from sklearn.svm import SVC\n",
        "from sklearn.metrics import accuracy_score\n",
        "\n",
        "# Mount Google Drive\n",
        "drive.mount('/content/drive')\n",
        "\n",
        "# Navigate to the directory containing the .pkl file\n",
        "os.chdir('/content/drive/MyDrive/Alzheimer_s Dataset/')\n",
        "\n",
        "# Load the volumes_array.pkl file\n",
        "with open('volumes_array.pkl', 'rb') as f:\n",
        "    volumes_array = pickle.load(f)\n",
        "\n",
        "# Load the labels_array.pkl file if available\n",
        "with open('labels_array1.pkl', 'rb') as f:\n",
        "    labels_array = pickle.load(f)\n",
        "\n",
        "# Display the length of volumes_array\n",
        "print(\"Length of volumes_array:\", len(volumes_array))\n",
        "\n",
        "# Display the length of volumes_array\n",
        "print(\"Length of volumes_array:\", len(labels_array))"
      ]
    },
    {
      "cell_type": "code",
      "source": [
        "import numpy as np\n",
        "\n",
        "# Calculate class distribution\n",
        "unique_classes, class_counts = np.unique(labels_array, return_counts=True)\n",
        "\n",
        "# Display class distribution\n",
        "for class_label, count in zip(unique_classes, class_counts):\n",
        "    print(f\"Class {class_label}: {count} samples\")"
      ],
      "metadata": {
        "colab": {
          "base_uri": "https://localhost:8080/"
        },
        "id": "u3FGF9oGT09_",
        "outputId": "f033a9fc-69e9-4690-c761-c2339e99cd3b"
      },
      "execution_count": null,
      "outputs": [
        {
          "output_type": "stream",
          "name": "stdout",
          "text": [
            "Class Mild Dementia: 82 samples\n",
            "Class Moderate Dementia: 8 samples\n",
            "Class Non Demented: 1018 samples\n",
            "Class Very mild Dementia: 115 samples\n"
          ]
        }
      ]
    },
    {
      "cell_type": "code",
      "source": [
        "import seaborn as sns\n",
        "\n",
        "# Example data (replace with your data)\n",
        "class_labels = ['Mild Dementia', 'Moderate Dementia', 'Non Demented', 'Very Mild Dementia']\n",
        "sample_counts = [82, 8, 1018, 115]\n",
        "\n",
        "# Create a bar plot using Seaborn\n",
        "plt.figure(figsize=(8, 6))\n",
        "sns.barplot(x=class_labels, y=sample_counts, palette='pastel')\n",
        "plt.xlabel('Class Label')\n",
        "plt.ylabel('Number of Samples')\n",
        "plt.title('Class Distribution')\n",
        "plt.xticks(rotation=45)  # Rotate x-axis labels for better readability\n",
        "plt.show()"
      ],
      "metadata": {
        "colab": {
          "base_uri": "https://localhost:8080/",
          "height": 769
        },
        "id": "WX52ja-dSR_b",
        "outputId": "05400c36-0ba0-4b72-f3d9-fa6e5141847d"
      },
      "execution_count": null,
      "outputs": [
        {
          "output_type": "stream",
          "name": "stderr",
          "text": [
            "<ipython-input-6-d9d453dfb88d>:9: FutureWarning: \n",
            "\n",
            "Passing `palette` without assigning `hue` is deprecated and will be removed in v0.14.0. Assign the `x` variable to `hue` and set `legend=False` for the same effect.\n",
            "\n",
            "  sns.barplot(x=class_labels, y=sample_counts, palette='pastel')\n"
          ]
        },
        {
          "output_type": "display_data",
          "data": {
            "text/plain": [
              "<Figure size 800x600 with 1 Axes>"
            ],
            "image/png": "[encoded data removed]"
          },
          "metadata": {}
        }
      ]
    },
    {
      "cell_type": "code",
      "execution_count": null,
      "metadata": {
        "id": "xZeNzwkTHPfv",
        "colab": {
          "base_uri": "https://localhost:8080/"
        },
        "outputId": "9c387769-c724-47f7-acb2-72f1e0c1688a"
      },
      "outputs": [
        {
          "output_type": "stream",
          "name": "stdout",
          "text": [
            "Class Distribution after oversampling:\n",
            "{'Mild Dementia': 1018, 'Moderate Dementia': 1018, 'Non Demented': 1018, 'Very mild Dementia': 1018}\n"
          ]
        }
      ],
      "source": [
        "from imblearn.over_sampling import RandomOverSampler\n",
        "import numpy as np\n",
        "\n",
        "# Assuming you have loaded your volumes_array.pkl and labels_array1.pkl\n",
        "# volumes_array.pkl contains your feature vectors and labels_array1.pkl contains the corresponding labels\n",
        "\n",
        "# Reshape the feature vectors if necessary\n",
        "volumes_array = np.load('/content/drive/MyDrive/Alzheimer_s Dataset/volumes_array.pkl',allow_pickle=True)  # Assuming this contains your feature vectors\n",
        "labels_array = np.load('/content/drive/MyDrive/Alzheimer_s Dataset/labels_array1.pkl',allow_pickle=True)   # Assuming this contains your labels\n",
        "\n",
        "# Reshape the feature vectors if necessary\n",
        "volumes_array = volumes_array.reshape(volumes_array.shape[0], -1)\n",
        "\n",
        "# Perform oversampling\n",
        "oversampler = RandomOverSampler(random_state=42)\n",
        "volumes_resampled, labels_resampled = oversampler.fit_resample(volumes_array, labels_array)\n",
        "\n",
        "# Check the new class distribution\n",
        "unique, counts = np.unique(labels_resampled, return_counts=True)\n",
        "class_distribution = dict(zip(unique, counts))\n",
        "print(\"Class Distribution after oversampling:\")\n",
        "print(class_distribution)\n"
      ]
    },
    {
      "cell_type": "code",
      "execution_count": null,
      "metadata": {
        "colab": {
          "base_uri": "https://localhost:8080/"
        },
        "id": "PilrX53wInhm",
        "outputId": "f43de34f-3c99-45c3-af51-87f035c97d5c"
      },
      "outputs": [
        {
          "data": {
            "text/plain": [
              "(4072,)"
            ]
          },
          "execution_count": 4,
          "metadata": {},
          "output_type": "execute_result"
        }
      ],
      "source": [
        "labels_resampled.shape"
      ]
    },
    {
      "cell_type": "code",
      "execution_count": null,
      "metadata": {
        "id": "J6Ht4-yIJP5o"
      },
      "outputs": [],
      "source": [
        "# Assuming the original shape of each volume was (61, 248, 496)\n",
        "original_shape = (61, 248, 496)\n",
        "\n",
        "# Reshape volumes_resampled to its original shape\n",
        "volumes_resampled_restored = volumes_resampled.reshape((-1,) + original_shape)"
      ]
    },
    {
      "cell_type": "code",
      "execution_count": null,
      "metadata": {
        "colab": {
          "base_uri": "https://localhost:8080/"
        },
        "id": "TdAYu3Pf-dMf",
        "outputId": "adb21226-c320-4b5e-809f-cc327ad3f4d4"
      },
      "outputs": [
        {
          "data": {
            "text/plain": [
              "(4072, 61, 248, 496)"
            ]
          },
          "execution_count": 6,
          "metadata": {},
          "output_type": "execute_result"
        }
      ],
      "source": [
        "volumes_resampled_restored.shape"
      ]
    },
    {
      "cell_type": "code",
      "execution_count": null,
      "metadata": {
        "colab": {
          "base_uri": "https://localhost:8080/"
        },
        "id": "Vdpuc-QbLyc_",
        "outputId": "b905e2e9-1d8a-4608-9c3d-47cbfd168576"
      },
      "outputs": [
        {
          "output_type": "stream",
          "name": "stdout",
          "text": [
            "Class Mild Dementia: 1018 samples\n",
            "Class Moderate Dementia: 1018 samples\n",
            "Class Non Demented: 1018 samples\n",
            "Class Very mild Dementia: 1018 samples\n"
          ]
        }
      ],
      "source": [
        "import numpy as np\n",
        "\n",
        "# Calculate class distribution\n",
        "unique_classes, class_counts = np.unique(labels_resampled, return_counts=True)\n",
        "\n",
        "# Display class distribution\n",
        "for class_label, count in zip(unique_classes, class_counts):\n",
        "    print(f\"Class {class_label}: {count} samples\")"
      ]
    },
    {
      "cell_type": "code",
      "execution_count": null,
      "metadata": {
        "id": "kuCr-fbjL4t5"
      },
      "outputs": [],
      "source": [
        "import numpy as np\n",
        "# Specify the target number of samples for each class\n",
        "target_samples = 300\n",
        "\n",
        "# Get unique class labels and their counts\n",
        "unique_classes, class_counts = np.unique(labels_resampled, return_counts=True)\n",
        "\n",
        "# Create empty arrays to store limited data\n",
        "limited_volumes = []\n",
        "limited_labels = []\n",
        "\n",
        "# Iterate over each class\n",
        "for class_label, class_count in zip(unique_classes, class_counts):\n",
        "    # If the class count is less than the target, include all samples\n",
        "    if class_count <= target_samples:\n",
        "        indices = np.where(labels_resampled == class_label)[0]\n",
        "    # If the class count is greater than the target, randomly sample the required number\n",
        "    else:\n",
        "        indices = np.random.choice(np.where(labels_resampled == class_label)[0], target_samples, replace=False)\n",
        "    limited_volumes.extend(volumes_resampled_restored[indices])\n",
        "    limited_labels.extend(labels_resampled[indices])\n",
        "\n",
        "# Convert lists to numpy arrays\n",
        "limited_volumes = np.array(limited_volumes)\n",
        "limited_labels = np.array(limited_labels)\n"
      ]
    },
    {
      "cell_type": "code",
      "execution_count": null,
      "metadata": {
        "colab": {
          "base_uri": "https://localhost:8080/"
        },
        "id": "xjjJ-aXPM-D5",
        "outputId": "8dcd8ba7-69bf-447e-fb1f-b28d3b2b82a9"
      },
      "outputs": [
        {
          "output_type": "execute_result",
          "data": {
            "text/plain": [
              "(1200,)"
            ]
          },
          "metadata": {},
          "execution_count": 12
        }
      ],
      "source": [
        "limited_labels.shape"
      ]
    },
    {
      "cell_type": "code",
      "execution_count": null,
      "metadata": {
        "colab": {
          "base_uri": "https://localhost:8080/"
        },
        "id": "wIa7YTJ2OFx7",
        "outputId": "8b7318cf-5a17-4549-a449-55e7e19245bd"
      },
      "outputs": [
        {
          "output_type": "stream",
          "name": "stdout",
          "text": [
            "Class Mild Dementia: 300 samples\n",
            "Class Moderate Dementia: 300 samples\n",
            "Class Non Demented: 300 samples\n",
            "Class Very mild Dementia: 300 samples\n"
          ]
        }
      ],
      "source": [
        "import numpy as np\n",
        "\n",
        "# Calculate class distribution\n",
        "unique_classes, class_counts = np.unique(limited_labels, return_counts=True)\n",
        "\n",
        "# Display class distribution\n",
        "for class_label, count in zip(unique_classes, class_counts):\n",
        "    print(f\"Class {class_label}: {count} samples\")\n"
      ]
    },
    {
      "cell_type": "code",
      "execution_count": null,
      "metadata": {
        "id": "h1yqu94aNmss"
      },
      "outputs": [],
      "source": [
        "# Save the numpy array\n",
        "np.save('/content/drive/MyDrive/Without_Softmax_Feature_3DCNN/limited_volumes1.npy', limited_volumes)"
      ]
    },
    {
      "cell_type": "code",
      "execution_count": null,
      "metadata": {
        "id": "qHbf5oHdNn4v"
      },
      "outputs": [],
      "source": [
        "# Save the numpy array\n",
        "np.save('/content/drive/MyDrive/Without_Softmax_Feature_3DCNN/limited_labels1.npy', limited_labels)"
      ]
    },
    {
      "cell_type": "code",
      "execution_count": null,
      "metadata": {
        "colab": {
          "base_uri": "https://localhost:8080/"
        },
        "id": "v9QZfOPYRWTv",
        "outputId": "a06bc614-c4e1-4cec-9916-ad2905ba6d8f"
      },
      "outputs": [
        {
          "output_type": "stream",
          "name": "stdout",
          "text": [
            "Loaded array shape: (1200, 61, 248, 496)\n"
          ]
        }
      ],
      "source": [
        "import numpy as np\n",
        "\n",
        "# Load the NumPy array file\n",
        "file_path = '/content/drive/MyDrive/Without_Softmax_Feature_3DCNN/limited_volumes1.npy'\n",
        "limited_volumes = np.load(file_path)\n",
        "\n",
        "# Check the shape of the loaded array\n",
        "print(\"Loaded array shape:\", limited_volumes.shape)"
      ]
    },
    {
      "cell_type": "code",
      "execution_count": null,
      "metadata": {
        "colab": {
          "base_uri": "https://localhost:8080/"
        },
        "id": "kiO_vMOTQ0Yb",
        "outputId": "6f35332b-da4e-4b22-b232-a8bc592132fa"
      },
      "outputs": [
        {
          "output_type": "stream",
          "name": "stdout",
          "text": [
            "Loaded array shape: (1200,)\n"
          ]
        }
      ],
      "source": [
        "import numpy as np\n",
        "\n",
        "# Load the NumPy array file\n",
        "file_path = '/content/drive/MyDrive/Without_Softmax_Feature_3DCNN/limited_labels1.npy'\n",
        "limited_labels = np.load(file_path)\n",
        "\n",
        "# Check the shape of the loaded array\n",
        "print(\"Loaded array shape:\", limited_labels.shape)"
      ]
    },
    {
      "cell_type": "code",
      "execution_count": null,
      "metadata": {
        "colab": {
          "base_uri": "https://localhost:8080/"
        },
        "id": "arSiuA1wRC3A",
        "outputId": "215d7557-1f91-442f-81b8-32425354b46b"
      },
      "outputs": [
        {
          "output_type": "stream",
          "name": "stdout",
          "text": [
            "Class Mild Dementia: 300 samples\n",
            "Class Moderate Dementia: 300 samples\n",
            "Class Non Demented: 300 samples\n",
            "Class Very mild Dementia: 300 samples\n"
          ]
        }
      ],
      "source": [
        "import numpy as np\n",
        "\n",
        "# Calculate class distribution\n",
        "unique_classes, class_counts = np.unique(limited_labels, return_counts=True)\n",
        "\n",
        "# Display class distribution\n",
        "for class_label, count in zip(unique_classes, class_counts):\n",
        "    print(f\"Class {class_label}: {count} samples\")"
      ]
    },
    {
      "cell_type": "code",
      "execution_count": null,
      "metadata": {
        "id": "CwNh9hPTmgGS"
      },
      "outputs": [],
      "source": [
        "#================= # Split orginal volumes and labels into train and test sets=================="
      ]
    },
    {
      "cell_type": "code",
      "execution_count": null,
      "metadata": {
        "colab": {
          "base_uri": "https://localhost:8080/"
        },
        "id": "p2Aax36IRHVa",
        "outputId": "d114ea86-06d1-4442-ffd7-6a5ea31e4736"
      },
      "outputs": [
        {
          "output_type": "stream",
          "name": "stdout",
          "text": [
            "Length of X_train: 978\n",
            "Length of X_test: 245\n",
            "Length of y_train: 978\n",
            "Length of y_test: 245\n"
          ]
        }
      ],
      "source": [
        "# Split orginal volumes and labels into train and test sets\n",
        "from sklearn.preprocessing import LabelBinarizer\n",
        "X_train_o, X_test_o, y_train_o, y_test_o = train_test_split(volumes_array, labels_array, test_size=0.2, shuffle=True, random_state=42)\n",
        "# Convert labels to one-hot encoding\n",
        "# Convert labels to strings if they are numeric\n",
        "y_train_o_str = y_train_o.astype(str)\n",
        "y_test_o_str = y_test_o.astype(str)\n",
        "label_binarizer = LabelBinarizer()\n",
        "# Convert labels to one-hot encoding\n",
        "label_binarizer = LabelBinarizer()\n",
        "y_train_o_one_hot = label_binarizer.fit_transform(y_train_o_str)  # Fit to the training labels\n",
        "y_test_o_one_hot = label_binarizer.transform(y_test_o_str)\n",
        "#y_train_o_one_hot = label_binarizer.fit_transform(y_train_o)\n",
        "#y_test_o_one_hot = label_binarizer.transform(y_test_o)\n",
        "\n",
        "# Display the lengths of train and test sets\n",
        "print(\"Length of X_train:\", len(X_train_o)) # split  this data again train Val\n",
        "print(\"Length of X_test:\", len(y_test_o))   # split  this data again\n",
        "print(\"Length of y_train:\", len(y_train_o_one_hot))\n",
        "print(\"Length of y_test:\", len(y_test_o_one_hot))"
      ]
    },
    {
      "cell_type": "code",
      "execution_count": null,
      "metadata": {
        "colab": {
          "base_uri": "https://localhost:8080/"
        },
        "id": "d_Qni-IeAs1W",
        "outputId": "185bff0d-10a0-4a10-e354-cd8ee369178b"
      },
      "outputs": [
        {
          "output_type": "stream",
          "name": "stdout",
          "text": [
            "Class Mild Dementia: 19 samples\n",
            "Class Moderate Dementia: 1 samples\n",
            "Class Non Demented: 198 samples\n",
            "Class Very mild Dementia: 27 samples\n"
          ]
        }
      ],
      "source": [
        "import numpy as np\n",
        "\n",
        "# Calculate class distribution\n",
        "unique_classes, class_counts = np.unique(y_test_o_str, return_counts=True)\n",
        "\n",
        "# Display class distribution\n",
        "for class_label, count in zip(unique_classes, class_counts):\n",
        "    print(f\"Class {class_label}: {count} samples\")"
      ]
    },
    {
      "cell_type": "code",
      "execution_count": null,
      "metadata": {
        "id": "H-H6fNDdlZvF"
      },
      "outputs": [],
      "source": [
        "'''import numpy as np\n",
        "#Using this data only for test.\n",
        "# Expand dimensions to add channel dimension\n",
        "X_train_o = np.expand_dims(X_train_o, axis=-1)  # Add channel dimension at the end\n",
        "X_train_o = np.repeat(X_train_o, 3, axis=-1)'''"
      ]
    },
    {
      "cell_type": "code",
      "execution_count": null,
      "metadata": {
        "colab": {
          "base_uri": "https://localhost:8080/"
        },
        "id": "q8Ph6D_KloS4",
        "outputId": "9b80c34a-87d4-480f-8bcb-41ce5aa87f65"
      },
      "outputs": [
        {
          "data": {
            "text/plain": [
              "(244, 61, 248, 496, 3)"
            ]
          },
          "execution_count": 10,
          "metadata": {},
          "output_type": "execute_result"
        }
      ],
      "source": [
        "X_train_o.shape"
      ]
    },
    {
      "cell_type": "code",
      "execution_count": null,
      "metadata": {
        "id": "5OqZE20Kl4Rq"
      },
      "outputs": [],
      "source": [
        "# Save the numpy array\n",
        "np.save('/content/drive/MyDrive/Without_Softmax_Feature_3DCNN/X_train_o.npy', X_train_o)"
      ]
    },
    {
      "cell_type": "code",
      "execution_count": null,
      "metadata": {
        "colab": {
          "base_uri": "https://localhost:8080/"
        },
        "id": "bZ28DQsDmx_8",
        "outputId": "1724d0e6-95bd-4b15-8b3c-1821ab01dcdf"
      },
      "outputs": [
        {
          "name": "stdout",
          "output_type": "stream",
          "text": [
            "Loaded array shape: (244, 61, 248, 496, 3)\n"
          ]
        }
      ],
      "source": [
        "'''import numpy as np\n",
        "\n",
        "# Load the NumPy array file\n",
        "file_path = '/content/drive/MyDrive/Without_Softmax_Feature_3DCNN/X_train_o.npy'\n",
        "X_train_o = np.load(file_path)\n",
        "\n",
        "# Check the shape of the loaded array\n",
        "print(\"Loaded array shape:\", X_train_o.shape)'''"
      ]
    },
    {
      "cell_type": "code",
      "execution_count": null,
      "metadata": {
        "id": "MpzcqfYHmROx"
      },
      "outputs": [],
      "source": [
        "# Save the numpy array\n",
        "np.save('/content/drive/MyDrive/Without_Softmax_Feature_3DCNN/y_train_o_one_hot.npy', y_train_o_one_hot)"
      ]
    },
    {
      "cell_type": "code",
      "execution_count": null,
      "metadata": {
        "colab": {
          "base_uri": "https://localhost:8080/"
        },
        "id": "XdJy70NAmzua",
        "outputId": "2f932963-065a-4d8c-f09b-6fd89f8fef71"
      },
      "outputs": [
        {
          "name": "stdout",
          "output_type": "stream",
          "text": [
            "Loaded array shape: (244, 4)\n"
          ]
        }
      ],
      "source": [
        "'''import numpy as np\n",
        "\n",
        "# Load the NumPy array file\n",
        "file_path = '/content/drive/MyDrive/Without_Softmax_Feature_3DCNN/y_train_o_one_hot.npy'\n",
        "y_train_o_one_hot = np.load(file_path)\n",
        "\n",
        "# Check the shape of the loaded array\n",
        "print(\"Loaded array shape:\", y_train_o_one_hot.shape)'''"
      ]
    },
    {
      "cell_type": "code",
      "execution_count": null,
      "metadata": {
        "id": "XemuBVjxmcHd"
      },
      "outputs": [],
      "source": [
        "#========================= End Test ================================="
      ]
    },
    {
      "cell_type": "code",
      "execution_count": null,
      "metadata": {
        "colab": {
          "base_uri": "https://localhost:8080/"
        },
        "id": "aAkA7MIN2b8Z",
        "outputId": "262b4b28-a116-4f49-d23a-e787019b0024"
      },
      "outputs": [
        {
          "output_type": "stream",
          "name": "stdout",
          "text": [
            "Length of X_train: 960\n",
            "Length of X_test: 240\n",
            "Length of y_train: 960\n",
            "Length of y_test: 240\n"
          ]
        }
      ],
      "source": [
        "# Split after oversampleling volumes and labels into train and test sets\n",
        "from sklearn.preprocessing import LabelBinarizer\n",
        "X_train, X_test, y_train, y_test = train_test_split(limited_volumes, limited_labels, test_size=0.2, shuffle=True, random_state=42)\n",
        "# Convert labels to one-hot encoding\n",
        "label_binarizer = LabelBinarizer()\n",
        "y_train_one_hot = label_binarizer.fit_transform(y_train)\n",
        "y_test_one_hot = label_binarizer.transform(y_test)\n",
        "\n",
        "# Display the lengths of train and test sets\n",
        "print(\"Length of X_train:\", len(X_train)) # split  this data again train Val\n",
        "print(\"Length of X_test:\", len(X_test))   # split  this data again\n",
        "print(\"Length of y_train:\", len(y_train_one_hot))\n",
        "print(\"Length of y_test:\", len(y_test_one_hot))\n"
      ]
    },
    {
      "cell_type": "code",
      "execution_count": null,
      "metadata": {
        "colab": {
          "base_uri": "https://localhost:8080/"
        },
        "id": "cczMmi1G8jsJ",
        "outputId": "b85b231f-67bd-40a0-c316-2d35a3029f5c"
      },
      "outputs": [
        {
          "output_type": "stream",
          "name": "stdout",
          "text": [
            "Class Mild Dementia: 238 samples\n",
            "Class Moderate Dementia: 240 samples\n",
            "Class Non Demented: 240 samples\n",
            "Class Very mild Dementia: 242 samples\n"
          ]
        }
      ],
      "source": [
        "import numpy as np\n",
        "\n",
        "# Calculate class distribution\n",
        "unique_classes, class_counts = np.unique(y_train, return_counts=True)\n",
        "\n",
        "# Display class distribution\n",
        "for class_label, count in zip(unique_classes, class_counts):\n",
        "    print(f\"Class {class_label}: {count} samples\")"
      ]
    },
    {
      "cell_type": "code",
      "execution_count": null,
      "metadata": {
        "id": "cCRQvSikTEVm"
      },
      "outputs": [],
      "source": [
        "'''import numpy as np\n",
        "#Using this data only for test.\n",
        "# Expand dimensions to add channel dimension\n",
        "X_train = np.expand_dims(X_train, axis=-1)  # Add channel dimension at the end\n",
        "X_train = np.repeat(X_train, 3, axis=-1)'''"
      ]
    },
    {
      "cell_type": "code",
      "execution_count": null,
      "metadata": {
        "id": "U4JHsEchzyua"
      },
      "outputs": [],
      "source": [
        "np.save('/content/drive/MyDrive/Alzheimer_s Dataset/y_train55_3D.npy', y_train_one_hot)"
      ]
    },
    {
      "cell_type": "code",
      "execution_count": null,
      "metadata": {
        "colab": {
          "base_uri": "https://localhost:8080/"
        },
        "id": "tIsiGKHHO6oJ",
        "outputId": "8c3ff8ae-d221-4daa-9423-1dff56977192"
      },
      "outputs": [
        {
          "name": "stdout",
          "output_type": "stream",
          "text": [
            "Class Distribution in Training Data:\n",
            "Class Mild Dementia: 63 samples\n",
            "Class Moderate Dementia: 7 samples\n",
            "Class Non Demented: 820 samples\n",
            "Class Very mild Dementia: 88 samples\n"
          ]
        }
      ],
      "source": [
        "'''import numpy as np\n",
        "\n",
        "# Count the occurrences of each class label in the training data\n",
        "unique, counts = np.unique(y_train, return_counts=True)\n",
        "class_counts = dict(zip(unique, counts))\n",
        "print(\"Class Distribution in Training Data:\")\n",
        "for label, count in class_counts.items():\n",
        "    print(f\"Class {label}: {count} samples\")'''\n"
      ]
    },
    {
      "cell_type": "code",
      "execution_count": null,
      "metadata": {
        "colab": {
          "base_uri": "https://localhost:8080/"
        },
        "id": "ebhwvy31ArWu",
        "outputId": "b7cfd26d-c467-476e-f8e0-2020eedb735e"
      },
      "outputs": [
        {
          "data": {
            "text/plain": [
              "(550,)"
            ]
          },
          "execution_count": 16,
          "metadata": {},
          "output_type": "execute_result"
        }
      ],
      "source": [
        "y_train.shape"
      ]
    },
    {
      "cell_type": "code",
      "execution_count": null,
      "metadata": {
        "id": "TAT4LyFR4-X1"
      },
      "outputs": [],
      "source": [
        "X_train_D, X_val_D, y_train_D, y_val_D = train_test_split(X_train, y_train_one_hot, test_size=0.5, random_state=42)"
      ]
    },
    {
      "cell_type": "code",
      "execution_count": null,
      "metadata": {
        "colab": {
          "base_uri": "https://localhost:8080/"
        },
        "id": "wevn0xiY5Xpv",
        "outputId": "db391962-2798-4762-cd13-c6b4b34c3246"
      },
      "outputs": [
        {
          "output_type": "execute_result",
          "data": {
            "text/plain": [
              "(480, 61, 248, 496)"
            ]
          },
          "metadata": {},
          "execution_count": 9
        }
      ],
      "source": [
        "X_train_D.shape"
      ]
    },
    {
      "cell_type": "code",
      "execution_count": null,
      "metadata": {
        "id": "pPF-jJZjYU0L"
      },
      "outputs": [],
      "source": [
        "import numpy as np\n",
        "#Using this data only for test. (traget set 300)\n",
        "# Expand dimensions to add channel dimension\n",
        "X_train_D = np.expand_dims(X_train_D, axis=-1)  # Add channel dimension at the end\n",
        "X_train_D = np.repeat(X_train_D, 3, axis=-1)"
      ]
    },
    {
      "cell_type": "code",
      "execution_count": null,
      "metadata": {
        "colab": {
          "base_uri": "https://localhost:8080/"
        },
        "id": "oiWbojPHZHro",
        "outputId": "36cf4813-b7db-4c05-d35f-9eeb44ade8e3"
      },
      "outputs": [
        {
          "output_type": "execute_result",
          "data": {
            "text/plain": [
              "(480, 61, 248, 496, 3)"
            ]
          },
          "metadata": {},
          "execution_count": 10
        }
      ],
      "source": [
        "X_train_D.shape"
      ]
    },
    {
      "cell_type": "code",
      "execution_count": null,
      "metadata": {
        "id": "hLozbPDpYfA3"
      },
      "outputs": [],
      "source": [
        "# Save the numpy array\n",
        "np.save('/content/drive/MyDrive/Without_Softmax_Feature_3DCNN/X_train_D300.npy', X_train_D)"
      ]
    },
    {
      "cell_type": "code",
      "execution_count": null,
      "metadata": {
        "colab": {
          "base_uri": "https://localhost:8080/"
        },
        "id": "Jsbv65Svafqk",
        "outputId": "950fe186-5bfe-480c-e6c0-86b168f6e148"
      },
      "outputs": [
        {
          "output_type": "stream",
          "name": "stdout",
          "text": [
            "Loaded array shape: (480, 61, 248, 496, 3)\n"
          ]
        }
      ],
      "source": [
        "import numpy as np\n",
        "\n",
        "# Load the NumPy array file\n",
        "file_path = '/content/drive/MyDrive/Without_Softmax_Feature_3DCNN/X_train_D300.npy'\n",
        "X_train_D = np.load(file_path)\n",
        "\n",
        "# Check the shape of the loaded array\n",
        "print(\"Loaded array shape:\", X_train_D.shape)"
      ]
    },
    {
      "cell_type": "code",
      "execution_count": null,
      "metadata": {
        "id": "F-Y-iTzuZGZx"
      },
      "outputs": [],
      "source": [
        "# Save the numpy array\n",
        "np.save('/content/drive/MyDrive/Without_Softmax_Feature_3DCNN/y_train_D300.npy', y_train_D)"
      ]
    },
    {
      "cell_type": "code",
      "execution_count": null,
      "metadata": {
        "colab": {
          "base_uri": "https://localhost:8080/"
        },
        "id": "jXGL3HPZakwX",
        "outputId": "bb115ed4-ef6b-4c8e-d956-b481af86b4a4"
      },
      "outputs": [
        {
          "output_type": "stream",
          "name": "stdout",
          "text": [
            "Loaded array shape: (480, 4)\n"
          ]
        }
      ],
      "source": [
        "import numpy as np\n",
        "\n",
        "# Load the NumPy array file\n",
        "file_path = '/content/drive/MyDrive/Without_Softmax_Feature_3DCNN/y_train_D300.npy'\n",
        "y_train_D = np.load(file_path)\n",
        "\n",
        "# Check the shape of the loaded array\n",
        "print(\"Loaded array shape:\", y_train_D.shape)"
      ]
    },
    {
      "cell_type": "code",
      "execution_count": null,
      "metadata": {
        "id": "NDa0f9Ic8VQo"
      },
      "outputs": [],
      "source": []
    },
    {
      "cell_type": "code",
      "execution_count": null,
      "metadata": {
        "id": "myawyY0nZh2E"
      },
      "outputs": [],
      "source": [
        "import numpy as np\n",
        "#Using this data only for test.\n",
        "# Expand dimensions to add channel dimension\n",
        "X_val_D = np.expand_dims(X_val_D, axis=-1)  # Add channel dimension at the end\n",
        "X_val_D = np.repeat(X_val_D, 3, axis=-1)"
      ]
    },
    {
      "cell_type": "code",
      "execution_count": null,
      "metadata": {
        "id": "wHzAs4FgZ48W"
      },
      "outputs": [],
      "source": [
        "# Save the numpy array\n",
        "np.save('/content/drive/MyDrive/Without_Softmax_Feature_3DCNN/X_val_D300.npy', X_val_D)"
      ]
    },
    {
      "cell_type": "code",
      "source": [],
      "metadata": {
        "id": "MQFpfGpOJFuX"
      },
      "execution_count": null,
      "outputs": []
    },
    {
      "cell_type": "code",
      "execution_count": null,
      "metadata": {
        "colab": {
          "base_uri": "https://localhost:8080/"
        },
        "id": "LuWvnjxSawRe",
        "outputId": "21efc6e1-d535-4141-8214-56c4cf4c3426"
      },
      "outputs": [
        {
          "output_type": "stream",
          "name": "stdout",
          "text": [
            "Loaded array shape: (480, 61, 248, 496, 3)\n"
          ]
        }
      ],
      "source": [
        "import numpy as np\n",
        "\n",
        "# Load the NumPy array file\n",
        "file_path = '/content/drive/MyDrive/Without_Softmax_Feature_3DCNN/X_val_D300.npy'\n",
        "X_val_D = np.load(file_path)\n",
        "\n",
        "# Check the shape of the loaded array\n",
        "print(\"Loaded array shape:\", X_val_D.shape)"
      ]
    },
    {
      "cell_type": "code",
      "execution_count": null,
      "metadata": {
        "id": "Hbvl1dBgaLqc"
      },
      "outputs": [],
      "source": [
        "np.save('/content/drive/MyDrive/Without_Softmax_Feature_3DCNN/y_val_D300.npy', y_val_D)"
      ]
    },
    {
      "cell_type": "code",
      "execution_count": null,
      "metadata": {
        "colab": {
          "base_uri": "https://localhost:8080/"
        },
        "id": "v6oYLsxca36t",
        "outputId": "c0f85a2d-ccea-44bf-e02b-c7b619398345"
      },
      "outputs": [
        {
          "output_type": "stream",
          "name": "stdout",
          "text": [
            "Loaded array shape: (480, 4)\n"
          ]
        }
      ],
      "source": [
        "import numpy as np\n",
        "\n",
        "# Load the NumPy array file\n",
        "file_path = '/content/drive/MyDrive/Without_Softmax_Feature_3DCNN/y_val_D300.npy'\n",
        "y_val_D = np.load(file_path)\n",
        "\n",
        "# Check the shape of the loaded array\n",
        "print(\"Loaded array shape:\", y_val_D.shape)"
      ]
    },
    {
      "cell_type": "code",
      "execution_count": null,
      "metadata": {
        "colab": {
          "base_uri": "https://localhost:8080/"
        },
        "id": "aEXKmHyGZwe0",
        "outputId": "ec288ea2-d334-4601-e5d8-fcf2a3754c18"
      },
      "outputs": [
        {
          "data": {
            "text/plain": [
              "(240, 61, 248, 496, 3)"
            ]
          },
          "execution_count": 18,
          "metadata": {},
          "output_type": "execute_result"
        }
      ],
      "source": [
        "X_val_D.shape"
      ]
    },
    {
      "cell_type": "code",
      "execution_count": null,
      "metadata": {
        "id": "G-nwNM2Qd1pV"
      },
      "outputs": [],
      "source": [
        "#============ Part -1 ==============="
      ]
    },
    {
      "cell_type": "code",
      "execution_count": null,
      "metadata": {
        "id": "6q0W_YHDXGmE"
      },
      "outputs": [],
      "source": [
        "X_train_D1, X_train_D2, y_train_D1, y_train_D2 = train_test_split(X_train_D, y_train_D, test_size=0.5, random_state=42)"
      ]
    },
    {
      "cell_type": "code",
      "execution_count": null,
      "metadata": {
        "id": "dDPbicj-YcF3"
      },
      "outputs": [],
      "source": []
    },
    {
      "cell_type": "code",
      "execution_count": null,
      "metadata": {
        "colab": {
          "base_uri": "https://localhost:8080/"
        },
        "id": "lSNHT9dAZUnS",
        "outputId": "402e77f9-df9a-4f41-9b96-8144029f089d"
      },
      "outputs": [
        {
          "output_type": "execute_result",
          "data": {
            "text/plain": [
              "(240, 61, 248, 496, 3)"
            ]
          },
          "metadata": {},
          "execution_count": 9
        }
      ],
      "source": [
        "X_train_D1.shape"
      ]
    },
    {
      "cell_type": "code",
      "execution_count": null,
      "metadata": {
        "id": "JWjuDpLk7b1Z"
      },
      "outputs": [],
      "source": [
        "# Save the numpy array\n",
        "np.save('/content/drive/MyDrive/Without_Softmax_Feature_3DCNN/X_train_D1300.npy', X_train_D1)"
      ]
    },
    {
      "cell_type": "code",
      "execution_count": null,
      "metadata": {
        "id": "IPcY6YPeaWJL"
      },
      "outputs": [],
      "source": [
        "np.save('/content/drive/MyDrive/Without_Softmax_Feature_3DCNN/y_train_D1300.npy', y_train_D1)"
      ]
    },
    {
      "cell_type": "code",
      "execution_count": null,
      "metadata": {
        "colab": {
          "base_uri": "https://localhost:8080/"
        },
        "id": "gLGA8lDm9LWD",
        "outputId": "cf2c9998-b294-4aa5-9270-b8eefb582c3c"
      },
      "outputs": [
        {
          "output_type": "stream",
          "name": "stdout",
          "text": [
            "Loaded array shape: (240, 61, 248, 496, 3)\n"
          ]
        }
      ],
      "source": [
        "import numpy as np\n",
        "\n",
        "# Load the NumPy array file\n",
        "file_path = '/content/drive/MyDrive/Without_Softmax_Feature_3DCNN/X_train_D1300.npy'\n",
        "X_train_D1 = np.load(file_path)\n",
        "\n",
        "# Check the shape of the loaded array\n",
        "print(\"Loaded array shape:\", X_train_D1.shape)"
      ]
    },
    {
      "cell_type": "code",
      "execution_count": 5,
      "metadata": {
        "colab": {
          "base_uri": "https://localhost:8080/"
        },
        "id": "PfzmMwE_6M76",
        "outputId": "f2fedb05-19c2-4046-806c-322e361e78f4"
      },
      "outputs": [
        {
          "output_type": "stream",
          "name": "stdout",
          "text": [
            "Loaded array shape: (240, 4)\n"
          ]
        }
      ],
      "source": [
        "import numpy as np\n",
        "\n",
        "# Load the NumPy array file\n",
        "file_path = '/content/drive/MyDrive/Without_Softmax_Feature_3DCNN/y_train_D1300.npy'\n",
        "y_train_D1 = np.load(file_path)\n",
        "\n",
        "# Check the shape of the loaded array\n",
        "print(\"Loaded array shape:\", y_train_D1.shape)"
      ]
    },
    {
      "cell_type": "code",
      "execution_count": null,
      "metadata": {
        "id": "WK_QnlfbdAZJ"
      },
      "outputs": [],
      "source": [
        "#============ Seconde Part ==============="
      ]
    },
    {
      "cell_type": "code",
      "execution_count": null,
      "metadata": {
        "colab": {
          "base_uri": "https://localhost:8080/"
        },
        "id": "2WmCgWB4b2Q1",
        "outputId": "07b0191b-6df6-4549-94ed-ab9e50721b40"
      },
      "outputs": [
        {
          "data": {
            "text/plain": [
              "(120, 61, 248, 496, 3)"
            ]
          },
          "execution_count": 9,
          "metadata": {},
          "output_type": "execute_result"
        }
      ],
      "source": [
        "X_train_D2.shape"
      ]
    },
    {
      "cell_type": "code",
      "execution_count": null,
      "metadata": {
        "id": "72UeuNO98TxR"
      },
      "outputs": [],
      "source": [
        "# Save the numpy array\n",
        "np.save('/content/drive/MyDrive/Without_Softmax_Feature_3DCNN/X_train_D2300.npy', X_train_D2)"
      ]
    },
    {
      "cell_type": "code",
      "execution_count": null,
      "metadata": {
        "id": "ZtLdgL1ucaPV"
      },
      "outputs": [],
      "source": [
        "# Save the numpy array\n",
        "np.save('/content/drive/MyDrive/Without_Softmax_Feature_3DCNN/y_train_D2300.npy', y_train_D2)"
      ]
    },
    {
      "cell_type": "code",
      "execution_count": null,
      "metadata": {
        "id": "WpyRQrjm_jjE"
      },
      "outputs": [],
      "source": [
        "import numpy as np\n",
        "\n",
        "# Load the NumPy array file\n",
        "file_path = '/content/drive/MyDrive/Without_Softmax_Feature_3DCNN/X_train_D2300.npy'\n",
        "X_train_D2 = np.load(file_path)\n",
        "\n",
        "# Check the shape of the loaded array\n",
        "print(\"Loaded array shape:\", X_train_D2.shape)"
      ]
    },
    {
      "cell_type": "code",
      "execution_count": 6,
      "metadata": {
        "colab": {
          "base_uri": "https://localhost:8080/"
        },
        "id": "DU9v0MPFdXqG",
        "outputId": "29323d83-fc13-4ef0-b201-411c30c25273"
      },
      "outputs": [
        {
          "output_type": "stream",
          "name": "stdout",
          "text": [
            "Loaded array shape: (240, 4)\n"
          ]
        }
      ],
      "source": [
        "import numpy as np\n",
        "\n",
        "# Load the NumPy array file\n",
        "file_path = '/content/drive/MyDrive/Without_Softmax_Feature_3DCNN/y_train_D2300.npy'\n",
        "y_train_D2 = np.load(file_path)\n",
        "\n",
        "# Check the shape of the loaded array\n",
        "print(\"Loaded array shape:\", y_train_D2.shape)"
      ]
    },
    {
      "cell_type": "code",
      "execution_count": null,
      "metadata": {
        "id": "Bz230HSqdmn0"
      },
      "outputs": [],
      "source": [
        "#================== End Part-1 ============="
      ]
    },
    {
      "cell_type": "code",
      "execution_count": null,
      "metadata": {
        "id": "hHnXYDaGd906"
      },
      "outputs": [],
      "source": [
        "#================== Part-2 ====================="
      ]
    },
    {
      "cell_type": "code",
      "execution_count": null,
      "metadata": {
        "id": "r9MUX3o6elZz"
      },
      "outputs": [],
      "source": [
        "X_val_D1,X_val_D2,y_val_D1,y_val_D2 = train_test_split(X_val_D, y_val_D, test_size=0.5, random_state=42)"
      ]
    },
    {
      "cell_type": "code",
      "execution_count": null,
      "metadata": {
        "colab": {
          "base_uri": "https://localhost:8080/"
        },
        "id": "jdoqY-g0gFm_",
        "outputId": "e84d1c7e-34bc-4231-87ef-97ffbb6b1f82"
      },
      "outputs": [
        {
          "output_type": "execute_result",
          "data": {
            "text/plain": [
              "(240, 61, 248, 496, 3)"
            ]
          },
          "metadata": {},
          "execution_count": 20
        }
      ],
      "source": [
        "X_val_D1.shape"
      ]
    },
    {
      "cell_type": "code",
      "execution_count": null,
      "metadata": {
        "id": "MZGcHkMpuA0f"
      },
      "outputs": [],
      "source": [
        "# Save the numpy array\n",
        "np.save('/content/drive/MyDrive/Without_Softmax_Feature_3DCNN/X_val_D1300.npy', X_val_D1)"
      ]
    },
    {
      "cell_type": "code",
      "execution_count": null,
      "metadata": {
        "id": "Os1GW4OnuReS"
      },
      "outputs": [],
      "source": [
        "# Save the numpy array\n",
        "np.save('/content/drive/MyDrive/Without_Softmax_Feature_3DCNN/y_val_D1300.npy', y_val_D1)"
      ]
    },
    {
      "cell_type": "code",
      "execution_count": null,
      "metadata": {
        "id": "3Dr81bXgOalc"
      },
      "outputs": [],
      "source": [
        "import numpy as np\n",
        "\n",
        "# Load the NumPy array file\n",
        "file_path = '/content/drive/MyDrive/Without_Softmax_Feature_3DCNN/X_val_D1300.npy'\n",
        "X_val_D1 = np.load(file_path)\n",
        "\n",
        "# Check the shape of the loaded array\n",
        "print(\"Loaded array shape:\", X_val_D1.shape)"
      ]
    },
    {
      "cell_type": "code",
      "execution_count": 7,
      "metadata": {
        "colab": {
          "base_uri": "https://localhost:8080/"
        },
        "id": "aC4_iNWfN4Dx",
        "outputId": "78c1b755-8901-4d09-817d-9213171e7c06"
      },
      "outputs": [
        {
          "output_type": "stream",
          "name": "stdout",
          "text": [
            "Loaded array shape: (240, 4)\n"
          ]
        }
      ],
      "source": [
        "import numpy as np\n",
        "\n",
        "# Load the NumPy array file\n",
        "file_path = '/content/drive/MyDrive/Without_Softmax_Feature_3DCNN/y_val_D1300.npy'\n",
        "y_val_D1 = np.load(file_path)\n",
        "\n",
        "# Check the shape of the loaded array\n",
        "print(\"Loaded array shape:\", y_val_D1.shape)"
      ]
    },
    {
      "cell_type": "code",
      "execution_count": null,
      "metadata": {
        "id": "12tx6fHBu_nH"
      },
      "outputs": [],
      "source": [
        "#========= End Part -2 ============"
      ]
    },
    {
      "cell_type": "code",
      "execution_count": null,
      "metadata": {
        "colab": {
          "base_uri": "https://localhost:8080/"
        },
        "id": "JUh9t3zyiO24",
        "outputId": "852e7d47-9dec-4fae-e655-0cc279bb70f6"
      },
      "outputs": [
        {
          "output_type": "execute_result",
          "data": {
            "text/plain": [
              "(240, 61, 248, 496, 3)"
            ]
          },
          "metadata": {},
          "execution_count": 13
        }
      ],
      "source": [
        "X_val_D2.shape"
      ]
    },
    {
      "cell_type": "code",
      "execution_count": null,
      "metadata": {
        "id": "qWR0WrzuOBAR"
      },
      "outputs": [],
      "source": [
        "# Save the numpy array\n",
        "np.save('/content/drive/MyDrive/Without_Softmax_Feature_3DCNN/X_val_D2300.npy', X_val_D2)"
      ]
    },
    {
      "cell_type": "code",
      "execution_count": 8,
      "metadata": {
        "colab": {
          "base_uri": "https://localhost:8080/"
        },
        "id": "MX6f-dQr33eg",
        "outputId": "902b43ea-6cfc-4592-8ade-56eef09c35a7"
      },
      "outputs": [
        {
          "output_type": "stream",
          "name": "stdout",
          "text": [
            "Loaded array shape: (240, 61, 248, 496, 3)\n"
          ]
        }
      ],
      "source": [
        "import numpy as np\n",
        "\n",
        "# Load the NumPy array file\n",
        "file_path = '/content/drive/MyDrive/Without_Softmax_Feature_3DCNN/X_val_D2300.npy'\n",
        "X_val_D2 = np.load(file_path)\n",
        "\n",
        "# Check the shape of the loaded array\n",
        "print(\"Loaded array shape:\", X_val_D2.shape)"
      ]
    },
    {
      "cell_type": "code",
      "execution_count": null,
      "metadata": {
        "colab": {
          "base_uri": "https://localhost:8080/"
        },
        "id": "UpyouJ_7HvE-",
        "outputId": "81e460a5-07e9-4e18-caad-93f4d1e96f5f"
      },
      "outputs": [
        {
          "data": {
            "text/plain": [
              "(120, 4)"
            ]
          },
          "execution_count": 47,
          "metadata": {},
          "output_type": "execute_result"
        }
      ],
      "source": [
        "y_val_D2.shape"
      ]
    },
    {
      "cell_type": "code",
      "execution_count": null,
      "metadata": {
        "id": "bRMg_5t1FkPY"
      },
      "outputs": [],
      "source": [
        "# Save the numpy array\n",
        "np.save('/content/drive/MyDrive/Without_Softmax_Feature_3DCNN/y_val_D2300.npy', y_val_D2)"
      ]
    },
    {
      "cell_type": "code",
      "execution_count": 8,
      "metadata": {
        "colab": {
          "base_uri": "https://localhost:8080/"
        },
        "id": "n1sr4ErsRnmQ",
        "outputId": "46889e78-bc28-4b38-e3a2-d68df728e1c0"
      },
      "outputs": [
        {
          "output_type": "stream",
          "name": "stdout",
          "text": [
            "Loaded array shape: (240, 4)\n"
          ]
        }
      ],
      "source": [
        "import numpy as np\n",
        "\n",
        "# Load the NumPy array file\n",
        "file_path = '/content/drive/MyDrive/Without_Softmax_Feature_3DCNN/y_val_D2300.npy'\n",
        "y_val_D2 = np.load(file_path)\n",
        "\n",
        "# Check the shape of the loaded array\n",
        "print(\"Loaded array shape:\", y_val_D2.shape)"
      ]
    },
    {
      "cell_type": "code",
      "execution_count": null,
      "metadata": {
        "colab": {
          "base_uri": "https://localhost:8080/"
        },
        "id": "BnnxKUYcFrwv",
        "outputId": "93250bea-50f1-4029-96bf-4f4df676cf2b"
      },
      "outputs": [
        {
          "data": {
            "text/plain": [
              "(120, 4)"
            ]
          },
          "execution_count": 19,
          "metadata": {},
          "output_type": "execute_result"
        }
      ],
      "source": [
        "y_val_D2.shape"
      ]
    },
    {
      "cell_type": "code",
      "execution_count": null,
      "metadata": {
        "id": "3p09SqTwvXz0"
      },
      "outputs": [],
      "source": [
        "#========= Test Part ==============="
      ]
    },
    {
      "cell_type": "code",
      "source": [
        "import numpy as np\n",
        "#Using this data only for test.\n",
        "# Expand dimensions to add channel dimension\n",
        "X_test = np.expand_dims(X_test, axis=-1)  # Add channel dimension at the end\n",
        "X_test = np.repeat(X_test, 3, axis=-1)"
      ],
      "metadata": {
        "id": "p9tBFtm4YvJA"
      },
      "execution_count": null,
      "outputs": []
    },
    {
      "cell_type": "code",
      "execution_count": null,
      "metadata": {
        "id": "kH3EF-C0EQ2z"
      },
      "outputs": [],
      "source": [
        "# Save the numpy array(oversample 300 tragerset testset link)\n",
        "np.save('/content/drive/MyDrive/Without_Softmax_Feature_3DCNN/X_test300.npy', y_test_one_hot)"
      ]
    },
    {
      "cell_type": "code",
      "source": [
        "import numpy as np\n",
        "\n",
        "# Load the NumPy array file(oversample 300 tragerset testset link)\n",
        "#file_path = '/content/drive/MyDrive/Without_Softmax_Feature_3DCNN/X_test.npy'\n",
        "file_path = '/content/drive/MyDrive/Without_Softmax_Feature_3DCNN/X_test300.npy'\n",
        "X_test300 = np.load(file_path)\n",
        "\n",
        "# Check the shape of the loaded array\n",
        "print(\"Loaded array shape:\", X_test300.shape)"
      ],
      "metadata": {
        "colab": {
          "base_uri": "https://localhost:8080/"
        },
        "id": "l0UjrXnUy2G7",
        "outputId": "96feddc8-3b2e-436b-f3bc-43ca2e90d97f"
      },
      "execution_count": null,
      "outputs": [
        {
          "output_type": "stream",
          "name": "stdout",
          "text": [
            "Loaded array shape: (240, 61, 248, 496, 3)\n"
          ]
        }
      ]
    },
    {
      "cell_type": "code",
      "source": [
        "# Save the numpy array(oversample 300 tragerset testset link)\n",
        "np.save('/content/drive/MyDrive/Without_Softmax_Feature_3DCNN/y_testt300.npy', y_test_one_hot)"
      ],
      "metadata": {
        "id": "OvXH3UABzKEv"
      },
      "execution_count": null,
      "outputs": []
    },
    {
      "cell_type": "code",
      "source": [
        "import numpy as np\n",
        "\n",
        "# Load the NumPy array file(oversample 300 tragerset testset link)\n",
        "#file_path = '/content/drive/MyDrive/Without_Softmax_Feature_3DCNN/X_test.npy'\n",
        "file_path = '/content/drive/MyDrive/Without_Softmax_Feature_3DCNN/y_testt300.npy'\n",
        "y_test300 = np.load(file_path)\n",
        "\n",
        "# Check the shape of the loaded array\n",
        "print(\"Loaded array shape:\", y_test300.shape)"
      ],
      "metadata": {
        "colab": {
          "base_uri": "https://localhost:8080/"
        },
        "id": "Gra0d5uRz479",
        "outputId": "64990b59-804b-4ba8-ad51-e5a16c6bbea1"
      },
      "execution_count": 9,
      "outputs": [
        {
          "output_type": "stream",
          "name": "stdout",
          "text": [
            "Loaded array shape: (240, 4)\n"
          ]
        }
      ]
    },
    {
      "cell_type": "code",
      "source": [
        "np.save('/content/drive/MyDrive/Alzheimer_s Dataset/X_test_3D1.npy', X_test)"
      ],
      "metadata": {
        "id": "p73PbKBIyUEo"
      },
      "execution_count": null,
      "outputs": []
    },
    {
      "cell_type": "code",
      "execution_count": 11,
      "metadata": {
        "colab": {
          "base_uri": "https://localhost:8080/"
        },
        "id": "Xtj-1AERvcRW",
        "outputId": "2b05a6d5-db8a-4d5f-e021-f730ed583d9d"
      },
      "outputs": [
        {
          "output_type": "stream",
          "name": "stdout",
          "text": [
            "Loaded array shape: (245, 61, 248, 496, 3)\n"
          ]
        }
      ],
      "source": [
        "import numpy as np\n",
        "\n",
        "# Load the NumPy array file\n",
        "#file_path = '/content/drive/MyDrive/Without_Softmax_Feature_3DCNN/X_test.npy'\n",
        "file_path = '/content/drive/MyDrive/Alzheimer_s Dataset/X_test_3D1.npy'\n",
        "X_test_o = np.load(file_path)\n",
        "\n",
        "# Check the shape of the loaded array\n",
        "print(\"Loaded array shape:\", X_test_o.shape)"
      ]
    },
    {
      "cell_type": "code",
      "execution_count": 13,
      "metadata": {
        "id": "3csuMAnx2JX4",
        "colab": {
          "base_uri": "https://localhost:8080/"
        },
        "outputId": "6b1e8e4a-6e09-4243-e3f2-b480c9a2e8ef"
      },
      "outputs": [
        {
          "output_type": "execute_result",
          "data": {
            "text/plain": [
              "(245, 61, 248, 496, 3)"
            ]
          },
          "metadata": {},
          "execution_count": 13
        }
      ],
      "source": [
        "X_test_o.shape"
      ]
    },
    {
      "cell_type": "code",
      "execution_count": null,
      "metadata": {
        "id": "Vzh1hWCUvDg4"
      },
      "outputs": [],
      "source": [
        "np.save('/content/drive/MyDrive/Alzheimer_s Dataset/y_test2_3D.npy', y_test_o_one_hot)"
      ]
    },
    {
      "cell_type": "code",
      "execution_count": 10,
      "metadata": {
        "colab": {
          "base_uri": "https://localhost:8080/"
        },
        "id": "zXl-ii8SvWIP",
        "outputId": "7245314c-597c-400b-df50-8f166a88ccf4"
      },
      "outputs": [
        {
          "output_type": "stream",
          "name": "stdout",
          "text": [
            "Loaded array shape: (120, 4)\n"
          ]
        }
      ],
      "source": [
        "import numpy as np\n",
        "\n",
        "# Load the NumPy array file\n",
        "file_path = '/content/drive/MyDrive/Without_Softmax_Feature_3DCNN/y_test.npy'\n",
        "y_test = np.load(file_path)\n",
        "file_path = '/content/drive/MyDrive/Alzheimer_s Dataset/y_test2_3D.npy'\n",
        "y_test1 = np.load(file_path)\n",
        "\n",
        "# Check the shape of the loaded array\n",
        "print(\"Loaded array shape:\", y_test.shape)"
      ]
    },
    {
      "cell_type": "code",
      "execution_count": null,
      "metadata": {
        "colab": {
          "base_uri": "https://localhost:8080/"
        },
        "id": "69B9xYZ3To3o",
        "outputId": "deb87492-7955-4076-ae2b-c669275202eb"
      },
      "outputs": [
        {
          "output_type": "execute_result",
          "data": {
            "text/plain": [
              "(245, 4)"
            ]
          },
          "metadata": {},
          "execution_count": 12
        }
      ],
      "source": [
        "y_test1.shape"
      ]
    },
    {
      "cell_type": "code",
      "execution_count": 12,
      "metadata": {
        "colab": {
          "base_uri": "https://localhost:8080/"
        },
        "id": "UjkRL3_n7jJR",
        "outputId": "a37433bd-15f2-475b-a67b-6521c429f006"
      },
      "outputs": [
        {
          "output_type": "stream",
          "name": "stdout",
          "text": [
            "Model: \"sequential\"\n",
            "_________________________________________________________________\n",
            " Layer (type)                Output Shape              Param #   \n",
            "=================================================================\n",
            " conv3d (Conv3D)             (None, 59, 246, 494, 32   2624      \n",
            "                             )                                   \n",
            "                                                                 \n",
            " max_pooling3d (MaxPooling3  (None, 29, 123, 247, 32   0         \n",
            " D)                          )                                   \n",
            "                                                                 \n",
            " conv3d_1 (Conv3D)           (None, 27, 121, 245, 64   55360     \n",
            "                             )                                   \n",
            "                                                                 \n",
            " max_pooling3d_1 (MaxPoolin  (None, 13, 60, 122, 64)   0         \n",
            " g3D)                                                            \n",
            "                                                                 \n",
            " conv3d_2 (Conv3D)           (None, 11, 58, 120, 128   221312    \n",
            "                             )                                   \n",
            "                                                                 \n",
            " max_pooling3d_2 (MaxPoolin  (None, 5, 29, 60, 128)    0         \n",
            " g3D)                                                            \n",
            "                                                                 \n",
            " flatten (Flatten)           (None, 1113600)           0         \n",
            "                                                                 \n",
            " dense (Dense)               (None, 256)               285081856 \n",
            "                                                                 \n",
            " dense_1 (Dense)             (None, 4)                 1028      \n",
            "                                                                 \n",
            "=================================================================\n",
            "Total params: 285362180 (1.06 GB)\n",
            "Trainable params: 285362180 (1.06 GB)\n",
            "Non-trainable params: 0 (0.00 Byte)\n",
            "_________________________________________________________________\n"
          ]
        }
      ],
      "source": [
        "import tensorflow as tf\n",
        "from tensorflow.keras.models import Sequential\n",
        "from tensorflow.keras.layers import Conv3D, MaxPooling3D, Flatten, Dense\n",
        "from sklearn.model_selection import train_test_split\n",
        "input_shape = (61, 248, 496, 3)\n",
        "\n",
        "# Create the model\n",
        "model = Sequential([\n",
        "    Conv3D(32, kernel_size=(3, 3, 3), activation='relu', input_shape=input_shape),\n",
        "    MaxPooling3D(pool_size=(2, 2, 2)),\n",
        "    Conv3D(64, kernel_size=(3, 3, 3), activation='relu'),\n",
        "    MaxPooling3D(pool_size=(2, 2, 2)),\n",
        "    Conv3D(128, kernel_size=(3, 3, 3), activation='relu'),\n",
        "    MaxPooling3D(pool_size=(2, 2, 2)),\n",
        "    Flatten(),\n",
        "    Dense(256, activation='relu'),\n",
        "    Dense(4)  # Assuming 4 output classes, use softmax for multi-class classification\n",
        "])\n",
        "\n",
        "# Print model summary\n",
        "model.summary()"
      ]
    },
    {
      "cell_type": "code",
      "execution_count": 13,
      "metadata": {
        "id": "1DH6sp_OSuaa"
      },
      "outputs": [],
      "source": [
        "# Define early stopping callback\n",
        "from tensorflow.keras.callbacks import EarlyStopping\n",
        "from tensorflow.keras.optimizers import Adam\n",
        "# Adam optimizer with learning rate 0.001\n",
        "optimizer = Adam(learning_rate=0.001)\n",
        "\n",
        "# Compile the model\n",
        "model.compile(optimizer=optimizer, loss=tf.keras.losses.SparseCategoricalCrossentropy(from_logits=True),\n",
        "              metrics=['accuracy'])"
      ]
    },
    {
      "cell_type": "code",
      "execution_count": null,
      "metadata": {
        "colab": {
          "base_uri": "https://localhost:8080/"
        },
        "id": "e74mFtrc8fia",
        "outputId": "a4f50800-8a90-44a9-ca72-2c48c1c80d65"
      },
      "outputs": [
        {
          "name": "stdout",
          "output_type": "stream",
          "text": [
            "Epoch 1/10\n",
            " 3/31 [=>............................] - ETA: 1:38:46 - loss: 18357.2461 - accuracy: 0.5833"
          ]
        }
      ],
      "source": [
        "# Train the model without validation data\n",
        "history = model.fit(X_test, y_test, batch_size=8, epochs=10, validation_split=0.0)"
      ]
    },
    {
      "cell_type": "code",
      "execution_count": null,
      "metadata": {
        "id": "rQ5LVIqRIKvl"
      },
      "outputs": [],
      "source": [
        "# Evaluate the model on the test data\n",
        "test_loss, test_acc = model.evaluate(X_test, y_test)\n",
        "print(\"Test Accuracy:\", test_acc)"
      ]
    },
    {
      "cell_type": "code",
      "execution_count": null,
      "metadata": {
        "colab": {
          "base_uri": "https://localhost:8080/"
        },
        "id": "bJlZfSm3YKj7",
        "outputId": "4ea59baf-4892-44ad-d305-d275a44600df"
      },
      "outputs": [
        {
          "output_type": "stream",
          "name": "stdout",
          "text": [
            "8/8 [==============================] - 583s 71s/step\n"
          ]
        }
      ],
      "source": [
        "X_train_D1 = model.predict(X_train_D1)"
      ]
    },
    {
      "cell_type": "code",
      "execution_count": null,
      "metadata": {
        "id": "SNOfBjnVyy57"
      },
      "outputs": [],
      "source": [
        "import pickle\n",
        "\n",
        "# Assuming feature_extractor_test is your data\n",
        "# Save feature_extractor_test to a file\n",
        "with open('/content/drive/MyDrive/Without_Softmax_Feature_3DCNN/feature_extractor_X_train_D1_c300.pkl', 'wb') as f:\n",
        "    pickle.dump(X_train_D1, f)"
      ]
    },
    {
      "cell_type": "code",
      "execution_count": null,
      "metadata": {
        "colab": {
          "base_uri": "https://localhost:8080/"
        },
        "id": "aPkIj8yApFfb",
        "outputId": "57b5580d-d066-4591-adca-6eea91997200"
      },
      "outputs": [
        {
          "output_type": "stream",
          "name": "stdout",
          "text": [
            "8/8 [==============================] - 560s 69s/step\n"
          ]
        }
      ],
      "source": [
        "feature_extractor_X_train_D2=model.predict(X_train_D2)"
      ]
    },
    {
      "cell_type": "code",
      "execution_count": null,
      "metadata": {
        "id": "jLpYJH2o7dFy"
      },
      "outputs": [],
      "source": [
        "import pickle\n",
        "\n",
        "# Assuming feature_extractor_test is your data\n",
        "# Save feature_extractor_test to a file\n",
        "with open('/content/drive/MyDrive/Without_Softmax_Feature_3DCNN/feature_extractor_X_train_D2_c300.pkl', 'wb') as f:\n",
        "    pickle.dump(feature_extractor_X_train_D2, f)"
      ]
    },
    {
      "cell_type": "code",
      "execution_count": null,
      "metadata": {
        "colab": {
          "base_uri": "https://localhost:8080/"
        },
        "id": "rGS3abSJUbIj",
        "outputId": "7d96d010-633d-43a5-ec2f-96edd2243b16"
      },
      "outputs": [
        {
          "output_type": "stream",
          "name": "stdout",
          "text": [
            "8/8 [==============================] - 586s 72s/step\n"
          ]
        }
      ],
      "source": [
        "feature_extractor_X_val_D1=model.predict(X_val_D1)"
      ]
    },
    {
      "cell_type": "code",
      "execution_count": null,
      "metadata": {
        "id": "K6Ghbic5V8Gv"
      },
      "outputs": [],
      "source": [
        "import pickle\n",
        "\n",
        "# Assuming feature_extractor_test is your data\n",
        "# Save feature_extractor_test to a file\n",
        "with open('/content/drive/MyDrive/Without_Softmax_Feature_3DCNN/feature_extractor_X_val_D1300.pkl', 'wb') as f:\n",
        "    pickle.dump(feature_extractor_X_val_D1, f)"
      ]
    },
    {
      "cell_type": "code",
      "execution_count": null,
      "metadata": {
        "colab": {
          "base_uri": "https://localhost:8080/"
        },
        "id": "5k3_aY3zWjc2",
        "outputId": "047554e4-cccb-4b0b-9225-c2c0a00c3085"
      },
      "outputs": [
        {
          "output_type": "stream",
          "name": "stdout",
          "text": [
            "8/8 [==============================] - 561s 69s/step\n"
          ]
        }
      ],
      "source": [
        "feature_extractor_X_val_D2=model.predict(X_val_D2)"
      ]
    },
    {
      "cell_type": "code",
      "execution_count": null,
      "metadata": {
        "id": "J_srZvkJXwjd"
      },
      "outputs": [],
      "source": [
        "import pickle\n",
        "\n",
        "# Assuming feature_extractor_test is your data\n",
        "# Save feature_extractor_test to a file\n",
        "with open('/content/drive/MyDrive/Without_Softmax_Feature_3DCNN/feature_extractor_X_val_D2300.pkl', 'wb') as f:\n",
        "    pickle.dump(feature_extractor_X_val_D2, f)"
      ]
    },
    {
      "cell_type": "code",
      "execution_count": 14,
      "metadata": {
        "id": "hlDCUofBCsA1",
        "colab": {
          "base_uri": "https://localhost:8080/"
        },
        "outputId": "e89d7bc4-ffbe-4bde-832c-21e3278bf8ab"
      },
      "outputs": [
        {
          "output_type": "stream",
          "name": "stdout",
          "text": [
            "8/8 [==============================] - 578s 71s/step\n"
          ]
        }
      ],
      "source": [
        "#orginal test dataset\n",
        "feature_extractor_X_test1 =model.predict(X_test_o)"
      ]
    },
    {
      "cell_type": "code",
      "source": [
        "feature_extractor_X_test1.shape"
      ],
      "metadata": {
        "colab": {
          "base_uri": "https://localhost:8080/"
        },
        "id": "fP_RRlLksQV8",
        "outputId": "e24e9308-dd74-4952-c3e0-85c25551f3f9"
      },
      "execution_count": 6,
      "outputs": [
        {
          "output_type": "execute_result",
          "data": {
            "text/plain": [
              "(245, 4)"
            ]
          },
          "metadata": {},
          "execution_count": 6
        }
      ]
    },
    {
      "cell_type": "code",
      "execution_count": null,
      "metadata": {
        "colab": {
          "base_uri": "https://localhost:8080/"
        },
        "id": "ORjGzPMptlW_",
        "outputId": "69952f3c-5ef9-40b3-921e-fdaaa4a2f6a5"
      },
      "outputs": [
        {
          "output_type": "stream",
          "name": "stdout",
          "text": [
            "8/8 [==============================] - 567s 69s/step\n"
          ]
        }
      ],
      "source": [
        "feature_extractor_X_test2 =model.predict(X_test300)"
      ]
    },
    {
      "cell_type": "code",
      "execution_count": null,
      "metadata": {
        "id": "2N4WgJIPHAxi"
      },
      "outputs": [],
      "source": [
        "import pickle\n",
        "\n",
        "# Assuming feature_extractor_test is your data\n",
        "# Save feature_extractor_test to a file\n",
        "with open('/content/drive/MyDrive/Without_Softmax_Feature_3DCNN/feature_extractor_X_test300.pkl', 'wb') as f:\n",
        "    pickle.dump(feature_extractor_X_test2, f)"
      ]
    },
    {
      "cell_type": "code",
      "execution_count": 15,
      "metadata": {
        "colab": {
          "base_uri": "https://localhost:8080/"
        },
        "id": "ALMLGwNjmBxm",
        "outputId": "ef968c1f-4617-4cc8-8f9a-31982fe8383a"
      },
      "outputs": [
        {
          "output_type": "stream",
          "name": "stdout",
          "text": [
            "[[ 2.59118986e+00  2.87862587e+00  6.18108940e+00 -1.79302425e+01]\n",
            " [-5.51800156e+00 -1.57240391e-01 -2.10952187e+00 -4.55539751e+00]\n",
            " [-6.88498831e+00  4.75449753e+00 -9.36816406e+00 -9.33726120e+00]\n",
            " [ 1.75681210e+00  2.55172825e+00  3.32892585e+00 -2.17527580e+01]\n",
            " [-5.88202095e+00  8.01817894e+00 -2.52898788e+00 -5.73729849e+00]\n",
            " [ 2.25244713e+00  6.27560139e+00  1.29083061e+00  6.29992008e-01]\n",
            " [-6.13568735e+00  5.42895794e-01  2.27903533e+00 -1.02687302e+01]\n",
            " [-4.04079628e+00  2.55433202e+00  1.09018481e+00 -2.62521601e+00]\n",
            " [-2.30800986e+00  3.05265880e+00 -5.04296398e+00 -1.21653452e+01]\n",
            " [-9.57526112e+00  1.30164623e-01  1.36100316e+00 -1.38337851e+01]\n",
            " [-6.40030384e-01  3.70165467e+00 -5.09888649e-01 -9.29440594e+00]\n",
            " [-3.94970322e+00  5.65810823e+00 -1.11076164e+00 -1.71578999e+01]\n",
            " [ 3.08372736e+00  4.32642794e+00  2.42797709e+00 -1.64349899e+01]\n",
            " [-6.14799833e+00  8.84249973e+00 -4.57119560e+00 -7.97322607e+00]\n",
            " [-2.62833595e-01  7.38436103e-01  2.31836796e-01 -9.03989601e+00]\n",
            " [-1.51269016e+01  2.92160511e-01 -3.31055236e+00 -1.30640039e+01]\n",
            " [-4.49097347e+00  5.06303692e+00 -3.24788213e+00 -9.31072044e+00]\n",
            " [-4.11809921e+00  4.29026842e+00 -5.41173744e+00 -1.32786293e+01]\n",
            " [-3.84609056e+00 -5.39179325e-01  2.50560594e+00 -7.58051205e+00]\n",
            " [ 3.88139725e-01  7.32922173e+00 -1.10426378e+00 -7.10236645e+00]\n",
            " [-3.56234860e+00  2.85137248e+00  3.53795218e+00 -1.69585133e+01]\n",
            " [-1.01288204e+01  1.77035260e+00  1.05447376e+00 -6.71366739e+00]\n",
            " [ 6.88028336e-03  4.26562500e+00  1.83939600e+00 -1.02841721e+01]\n",
            " [ 1.83319092e-01  1.53261924e+00 -9.14692688e+00 -6.71761894e+00]\n",
            " [ 1.07858801e+00  3.41123724e+00 -8.93620491e+00 -6.16085625e+00]\n",
            " [ 1.83319092e-01  1.53261924e+00 -9.14692688e+00 -6.71761894e+00]\n",
            " [ 2.98023987e+00 -1.52843142e+00  2.03461266e+00 -2.59769630e+01]\n",
            " [-1.51672697e+00  6.95862484e+00 -6.73956871e-02 -6.01846457e+00]\n",
            " [-1.12105846e+00  1.13227323e-01 -1.79212332e-01 -9.44338799e+00]\n",
            " [ 4.12846708e+00 -6.78179741e-01 -4.64370966e+00 -7.70888758e+00]\n",
            " [ 3.45750093e+00  2.90762615e+00  5.20779133e+00 -9.62512398e+00]\n",
            " [-1.05215788e+00  1.55336869e+00 -8.83486509e-01 -6.38723803e+00]\n",
            " [ 1.83319092e-01  1.53261924e+00 -9.14692688e+00 -6.71761894e+00]\n",
            " [ 1.07858801e+00  3.41123724e+00 -8.93620491e+00 -6.16085625e+00]\n",
            " [-1.05679483e+01 -6.94307566e-01  1.30074978e-01 -6.43177462e+00]\n",
            " [-3.67250252e+00  7.13648605e+00 -1.49604642e+00 -1.35167694e+01]\n",
            " [ 2.19008541e+00  2.80546951e+00  6.66420984e+00 -1.99990425e+01]\n",
            " [-3.14016533e+00 -2.31125474e+00  1.06858253e+00 -1.28198528e+01]\n",
            " [-2.67713070e+00  3.89908504e+00  6.23593044e+00 -3.40241933e+00]\n",
            " [-7.45167732e-02  2.09144974e+00  2.04236102e+00 -1.42096844e+01]\n",
            " [-2.88916206e+00  7.27947998e+00 -1.19462740e+00 -9.47430420e+00]\n",
            " [-6.81490898e-01  5.89641857e+00 -5.44670057e+00 -1.82267070e+00]\n",
            " [ 2.59118986e+00  2.87862587e+00  6.18108940e+00 -1.79302425e+01]\n",
            " [ 2.59118986e+00  2.87862587e+00  6.18108940e+00 -1.79302425e+01]\n",
            " [-2.41977215e+00  5.77063560e-01  1.45124555e+00 -5.76015472e+00]\n",
            " [ 2.59118986e+00  2.87862587e+00  6.18108940e+00 -1.79302425e+01]\n",
            " [ 1.83670998e+00 -5.96693516e+00  5.98454714e-01 -1.58611412e+01]\n",
            " [ 6.65517855e+00  1.08752117e+01  2.40301394e+00 -1.99331856e+01]\n",
            " [ 2.83830976e+00 -1.57118762e+00  1.50717890e+00 -2.15263557e+01]\n",
            " [-2.41363668e+00  2.84975672e+00  1.39256465e+00 -8.35978603e+00]\n",
            " [ 1.75681210e+00  2.55172825e+00  3.32892585e+00 -2.17527580e+01]\n",
            " [-6.30214214e+00  1.64906478e+00  5.50801039e+00 -1.44868174e+01]\n",
            " [ 4.23039865e+00 -6.62399292e-01  4.19592094e+00 -4.52610016e+00]\n",
            " [ 1.19963408e+00  2.84324646e+00  1.43896306e+00 -9.69120312e+00]\n",
            " [ 2.35038996e+00 -2.07765627e+00  4.90522861e+00 -7.68103361e+00]\n",
            " [ 1.75681210e+00  2.55172825e+00  3.32892585e+00 -2.17527580e+01]\n",
            " [-1.43848133e+01 -8.90289068e-01  1.14175224e+00 -9.34065151e+00]\n",
            " [ 1.83319092e-01  1.53261924e+00 -9.14692688e+00 -6.71761894e+00]\n",
            " [-3.63743019e+00 -2.26320362e+00 -8.57100010e-01 -7.84320736e+00]\n",
            " [-6.49321508e+00  3.01073194e+00 -5.62205791e+00 -7.74748659e+00]\n",
            " [-6.70513153e-01 -5.87222576e-01 -3.72239947e+00 -5.82721233e+00]\n",
            " [-6.53671503e+00 -2.50591612e+00  1.73090982e+00 -1.03550949e+01]\n",
            " [-2.43552732e+00 -4.70423698e-01 -6.40655708e+00 -8.19932270e+00]\n",
            " [ 2.59118605e+00  2.87862492e+00  6.18108559e+00 -1.79302406e+01]\n",
            " [ 4.99958611e+00 -3.09580135e+00  6.27742052e+00 -8.16045952e+00]\n",
            " [ 2.19008541e+00  2.80546951e+00  6.66420984e+00 -1.99990425e+01]\n",
            " [-6.72867203e+00  3.69947672e+00 -8.70258808e-02 -8.16587639e+00]\n",
            " [ 9.21903610e-01  6.04027987e+00  1.85941124e+00 -1.03696175e+01]\n",
            " [-7.98188782e+00 -9.42004025e-01 -3.89050579e+00 -2.00753975e+00]\n",
            " [ 9.99186993e-01  3.58371210e+00 -6.32528019e+00 -5.28513718e+00]\n",
            " [-4.16463423e+00  1.20301247e-02 -4.52935934e+00 -1.58604298e+01]\n",
            " [-5.88202095e+00  8.01817894e+00 -2.52898788e+00 -5.73729849e+00]\n",
            " [ 2.19008541e+00  2.80546951e+00  6.66420984e+00 -1.99990425e+01]\n",
            " [-6.13278484e+00  1.85710883e+00 -3.64851403e+00 -1.16746387e+01]\n",
            " [-9.59307098e+00  4.81324530e+00 -3.77306676e+00 -1.07542486e+01]\n",
            " [-6.88498831e+00  4.75449753e+00 -9.36816406e+00 -9.33726120e+00]\n",
            " [-1.51269016e+01  2.92160511e-01 -3.31055236e+00 -1.30640039e+01]\n",
            " [-8.28127670e+00  4.07794809e+00 -3.33507252e+00 -1.58768644e+01]\n",
            " [-4.37851763e+00  3.99019480e+00 -3.83911753e+00 -1.27561970e+01]\n",
            " [-6.53914118e+00  3.42627668e+00 -2.93923616e-02 -7.36897087e+00]\n",
            " [-2.13805914e+00  4.00341320e+00  1.74406171e+00 -1.70172691e+01]\n",
            " [ 1.07858801e+00  3.41123724e+00 -8.93620491e+00 -6.16085625e+00]\n",
            " [ 4.45252132e+00  2.50538158e+00 -1.22980595e+00 -1.18705883e+01]\n",
            " [-6.81490898e-01  5.89641857e+00 -5.44670057e+00 -1.82267070e+00]\n",
            " [-6.23655844e+00  1.86331534e+00 -3.28768873e+00 -3.18074584e+00]\n",
            " [-8.82657051e+00  7.55323410e-01  2.00113177e-01 -7.08526421e+00]\n",
            " [-3.56234860e+00  2.85137248e+00  3.53795218e+00 -1.69585133e+01]\n",
            " [ 2.19008541e+00  2.80546951e+00  6.66420984e+00 -1.99990425e+01]\n",
            " [-5.43599653e+00  3.74305296e+00 -5.50751686e-02 -5.50947714e+00]\n",
            " [-4.99892235e-01  2.07558131e+00  1.14304137e+00 -9.88718414e+00]\n",
            " [ 5.96429586e+00  4.43353981e-01  6.10452366e+00 -7.50162411e+00]\n",
            " [ 4.78160954e+00  5.04980206e-01  4.80829525e+00 -7.79273939e+00]\n",
            " [ 1.07858801e+00  3.41123724e+00 -8.93620491e+00 -6.16085625e+00]\n",
            " [-3.94662476e+00  3.73811674e+00  1.77754045e+00 -5.28647137e+00]\n",
            " [ 2.19008446e+00  2.80545425e+00  6.66420746e+00 -1.99990368e+01]\n",
            " [-2.62836456e-01  7.38433480e-01  2.31839657e-01 -9.03989601e+00]\n",
            " [ 1.35250864e+01  4.06001806e+00 -1.74754620e+00 -8.57650566e+00]\n",
            " [ 1.07858801e+00  3.41123724e+00 -8.93620491e+00 -6.16085625e+00]\n",
            " [ 3.89097357e+00  2.30913073e-01  2.77024102e+00 -1.04132452e+01]\n",
            " [-6.30214214e+00  1.64906478e+00  5.50801039e+00 -1.44868174e+01]\n",
            " [-4.12775230e+00  2.19957209e+00  1.45738363e+00 -4.10382986e+00]\n",
            " [-2.41977215e+00  5.77063560e-01  1.45124555e+00 -5.76015472e+00]\n",
            " [-6.06293344e+00  4.80162621e+00 -2.79037023e+00 -9.28986454e+00]\n",
            " [-6.23655844e+00  1.86331534e+00 -3.28768873e+00 -3.18074584e+00]\n",
            " [-9.36188507e+00  3.33092213e+00 -3.27274394e+00 -1.61035767e+01]\n",
            " [-5.37555790e+00  4.00090599e+00 -8.23294640e+00 -1.13583956e+01]\n",
            " [ 3.89097357e+00  2.30913073e-01  2.77024102e+00 -1.04132452e+01]\n",
            " [ 1.83319092e-01  1.53261924e+00 -9.14692688e+00 -6.71761894e+00]\n",
            " [ 1.07858801e+00  3.41123724e+00 -8.93620491e+00 -6.16085625e+00]\n",
            " [ 9.99186993e-01  3.58371210e+00 -6.32528019e+00 -5.28513718e+00]\n",
            " [ 2.59118986e+00  2.87862587e+00  6.18108940e+00 -1.79302425e+01]\n",
            " [-9.53343773e+00  2.39399290e+00 -2.25650716e+00 -1.04454432e+01]\n",
            " [ 1.83319092e-01  1.53261924e+00 -9.14692688e+00 -6.71761894e+00]\n",
            " [-1.29228716e+01  3.01545382e+00 -9.19230580e-01 -3.13661575e+00]\n",
            " [-4.11809921e+00  4.29026842e+00 -5.41173744e+00 -1.32786293e+01]\n",
            " [-6.04616022e+00 -1.01406074e+00 -1.58778048e+00 -1.16238289e+01]\n",
            " [ 1.07858801e+00  3.41123724e+00 -8.93620491e+00 -6.16085625e+00]\n",
            " [-8.40135193e+00  7.10371554e-01  3.59082556e+00 -1.11122150e+01]\n",
            " [ 6.93119240e+00 -9.60955620e-02  9.55685997e+00  8.46234202e-01]\n",
            " [-1.19620361e+01 -1.89312220e-01 -5.57727098e+00 -1.53770638e+01]\n",
            " [-1.66952896e+00 -7.89401680e-02 -1.94771099e+00 -1.04155712e+01]\n",
            " [ 3.89097357e+00  2.30913073e-01  2.77024102e+00 -1.04132452e+01]\n",
            " [-6.81490898e-01  5.89641857e+00 -5.44670057e+00 -1.82267070e+00]\n",
            " [-9.66984653e+00  5.22004843e+00 -8.32094288e+00 -1.05775461e+01]\n",
            " [ 1.22566032e+00 -2.35150146e+00  2.76734424e+00 -6.42493057e+00]\n",
            " [-1.32854509e+01  9.93551731e-01 -1.34032547e+00 -1.25270615e+01]\n",
            " [ 4.78160906e+00  5.04979014e-01  4.80829430e+00 -7.79273558e+00]\n",
            " [ 1.83324337e-01  1.53262019e+00 -9.14692307e+00 -6.71762180e+00]\n",
            " [ 9.99186993e-01  3.58371210e+00 -6.32528019e+00 -5.28513718e+00]\n",
            " [-1.58677197e+01 -5.74243069e-01 -3.16939402e+00 -1.24470339e+01]\n",
            " [ 5.83052635e-02  3.12614346e+00  9.73222542e+00 -1.37412739e+01]\n",
            " [ 4.38179493e-01 -1.55359888e+00  1.85983276e+00 -6.87204742e+00]\n",
            " [ 1.83319092e-01  1.53261924e+00 -9.14692688e+00 -6.71761894e+00]\n",
            " [-6.21907187e+00  6.69945621e+00 -7.61626625e+00 -1.31219807e+01]\n",
            " [ 8.91615868e-01  2.57217836e+00  3.57021379e+00 -1.08360672e+01]\n",
            " [ 6.88028336e-03  4.26562500e+00  1.83939600e+00 -1.02841721e+01]\n",
            " [-6.21072149e+00  5.01413536e+00 -5.60849953e+00 -9.91601753e+00]\n",
            " [-7.37855625e+00  8.23744774e-01  2.91800952e+00 -1.45271978e+01]\n",
            " [ 3.31681871e+00  1.07303934e+01 -3.59555054e+00 -5.43817997e+00]\n",
            " [-1.16534090e+00  7.38532209e+00 -1.41747570e+00 -6.69987488e+00]\n",
            " [ 5.54837227e-01  3.13352489e+00  6.97328186e+00 -5.66593647e+00]\n",
            " [-4.33901691e+00 -3.49450767e-01 -2.70342779e+00 -4.99098492e+00]\n",
            " [-1.66072512e+00  2.97138453e+00 -2.39366508e+00 -1.61484108e+01]\n",
            " [-3.56234860e+00  2.85137248e+00  3.53795218e+00 -1.69585133e+01]\n",
            " [ 2.59118986e+00  2.87862587e+00  6.18108940e+00 -1.79302425e+01]\n",
            " [-4.69478083e+00 -1.49762511e+00 -5.51437140e-01 -1.10245104e+01]\n",
            " [-4.24724579e-01 -3.50877285e-01  3.73432159e+00 -6.77896404e+00]\n",
            " [ 3.45866203e+00  1.45030117e+00 -7.67645478e-01 -1.14210997e+01]\n",
            " [ 7.43624270e-01 -2.81398559e+00 -3.27272034e+00 -1.23245630e+01]\n",
            " [ 1.20574236e+00  2.35217905e+00  1.42325783e+00 -5.25895977e+00]\n",
            " [-4.80795288e+00  6.46966696e-01 -4.75261974e+00 -1.16847792e+01]\n",
            " [ 1.22566032e+00 -2.35150146e+00  2.76734424e+00 -6.42493057e+00]\n",
            " [ 2.59118986e+00  2.87862587e+00  6.18108940e+00 -1.79302425e+01]\n",
            " [-1.92959023e+00 -1.99499929e+00 -6.55968189e-01 -1.05590992e+01]\n",
            " [ 8.91615868e-01  2.57217836e+00  3.57021379e+00 -1.08360672e+01]\n",
            " [ 4.78160954e+00  5.04980206e-01  4.80829525e+00 -7.79273939e+00]\n",
            " [ 9.99186993e-01  3.58371210e+00 -6.32528019e+00 -5.28513718e+00]\n",
            " [ 9.99186993e-01  3.58371210e+00 -6.32528019e+00 -5.28513718e+00]\n",
            " [-1.06045647e+01  9.31413174e-01 -3.00697947e+00 -9.80031395e+00]\n",
            " [-6.88498545e+00  4.75450039e+00 -9.36816406e+00 -9.33724976e+00]\n",
            " [ 1.75681210e+00  2.55172825e+00  3.32892585e+00 -2.17527580e+01]\n",
            " [-7.42607450e+00  4.25412846e+00 -3.46816683e+00 -8.41351128e+00]\n",
            " [ 2.19008541e+00  2.80546951e+00  6.66420984e+00 -1.99990425e+01]\n",
            " [-4.80014563e+00  6.76659584e-01 -4.02829409e+00 -1.06665916e+01]\n",
            " [ 3.85263443e-01 -2.60095263e+00 -2.61280394e+00 -1.70636749e+01]\n",
            " [ 3.45749950e+00  2.90761471e+00  5.20779514e+00 -9.62512970e+00]\n",
            " [-7.46469736e+00  1.99164677e+00  3.21295786e+00 -1.06627007e+01]\n",
            " [-8.30101967e-02  3.13186264e+00  2.26787895e-01 -1.16820412e+01]\n",
            " [ 2.89199829e+00  6.37308359e-01  1.98198628e+00 -5.85802460e+00]\n",
            " [-3.86040688e+00 -4.25925255e-01  1.41371071e+00 -1.00661583e+01]\n",
            " [-3.56731558e+00  6.39048100e-01 -1.59087682e+00 -1.10856838e+01]\n",
            " [ 9.99186993e-01  3.58371210e+00 -6.32528019e+00 -5.28513718e+00]\n",
            " [-6.95834970e+00  9.43205261e+00 -2.60671759e+00 -6.31947803e+00]\n",
            " [-5.17640543e+00  1.75046921e-02  3.04720354e+00 -4.60335732e+00]\n",
            " [-8.30101967e-02  3.13186264e+00  2.26787895e-01 -1.16820412e+01]\n",
            " [-6.81490898e-01  5.89641857e+00 -5.44670057e+00 -1.82267070e+00]\n",
            " [-1.03601637e+01  4.44059849e-01  1.63696110e-01 -1.39975386e+01]\n",
            " [ 2.59118986e+00  2.87862587e+00  6.18108940e+00 -1.79302425e+01]\n",
            " [ 6.09052372e+00  7.22902679e+00 -6.57251930e+00 -6.47559690e+00]\n",
            " [-6.30214214e+00  1.64906478e+00  5.50801039e+00 -1.44868174e+01]\n",
            " [-3.33932495e+00  2.04282975e+00  4.51587915e-01 -6.02515078e+00]\n",
            " [ 9.99186993e-01  3.58371210e+00 -6.32528019e+00 -5.28513718e+00]\n",
            " [-1.45974226e+01 -1.23236704e+00  2.46042967e+00 -1.01761761e+01]\n",
            " [ 1.41689253e+00  2.65144157e+00  3.71952224e+00 -8.35609722e+00]\n",
            " [-5.51800156e+00 -1.57240391e-01 -2.10952187e+00 -4.55539751e+00]\n",
            " [ 1.07858801e+00  3.41123724e+00 -8.93620491e+00 -6.16085625e+00]\n",
            " [ 3.10148144e+00 -5.66067219e-01 -2.87926102e+00 -9.28849316e+00]\n",
            " [ 1.40041962e+01 -2.99635172e+00 -3.39066935e+00 -1.07999954e+01]\n",
            " [ 1.75681210e+00  2.55172825e+00  3.32892585e+00 -2.17527580e+01]\n",
            " [-5.08050585e+00  7.60216713e+00  1.15444565e+00 -7.04984808e+00]\n",
            " [-1.54924107e+00  4.88293839e+00 -3.81209850e-02 -5.46721554e+00]\n",
            " [-3.56235051e+00  2.85136700e+00  3.53795266e+00 -1.69585152e+01]\n",
            " [ 8.91615868e-01  2.57217836e+00  3.57021379e+00 -1.08360672e+01]\n",
            " [ 1.83319092e-01  1.53261924e+00 -9.14692688e+00 -6.71761894e+00]\n",
            " [-1.85533524e-01  4.94691223e-01 -1.06573439e+00 -2.95385695e+00]\n",
            " [ 1.03164425e+01  4.08530188e+00  2.56991982e-01 -9.03292274e+00]\n",
            " [ 1.83319092e-01  1.53261924e+00 -9.14692688e+00 -6.71761894e+00]\n",
            " [ 2.89199829e+00  6.37308359e-01  1.98198628e+00 -5.85802460e+00]\n",
            " [-5.32162189e+00 -2.87566972e+00 -3.77968645e+00 -5.82678890e+00]\n",
            " [ 1.75681210e+00  2.55172825e+00  3.32892585e+00 -2.17527580e+01]\n",
            " [-1.29228716e+01  3.01545382e+00 -9.19230580e-01 -3.13661575e+00]\n",
            " [ 3.59964561e+00 -4.12198365e-01  3.66018057e+00 -6.42811203e+00]\n",
            " [ 5.22261143e+00  5.88846111e+00  3.65645552e+00 -5.64403534e+00]\n",
            " [-6.17874908e+00  3.98948169e+00 -2.39254212e+00 -5.94354582e+00]\n",
            " [-6.40030384e-01  3.70165467e+00 -5.09888649e-01 -9.29440594e+00]\n",
            " [ 1.07858801e+00  3.41123724e+00 -8.93620491e+00 -6.16085625e+00]\n",
            " [-6.21072149e+00  5.01413536e+00 -5.60849953e+00 -9.91601753e+00]\n",
            " [-9.53343773e+00  2.39399290e+00 -2.25650716e+00 -1.04454432e+01]\n",
            " [ 3.28815174e+00  2.82692432e+00 -7.11958706e-01 -1.14729872e+01]\n",
            " [-4.16344452e+00 -2.49045563e+00 -3.04197359e+00 -6.51113510e+00]\n",
            " [ 5.33836651e+00 -2.53861260e+00  7.30337334e+00 -1.03842573e+01]\n",
            " [-1.39211645e+01 -2.20647192e+00  1.81058824e+00 -9.46253014e+00]\n",
            " [-4.87479067e+00 -2.21366715e+00  1.14221573e-02 -4.54969025e+00]\n",
            " [-1.12105846e+00  1.13227323e-01 -1.79212332e-01 -9.44338799e+00]\n",
            " [-3.35646725e+00  1.60789442e+00 -3.13706255e+00 -1.51523247e+01]\n",
            " [ 2.28954792e+00  8.54637504e-01  3.16052747e+00 -6.83215427e+00]\n",
            " [-1.30576916e+01 -2.46508121e-01 -1.90341926e+00 -1.07309303e+01]\n",
            " [-7.48589134e+00 -1.56995106e+00  2.75940108e+00 -1.34415550e+01]\n",
            " [ 5.33836651e+00 -2.53861260e+00  7.30337334e+00 -1.03842573e+01]\n",
            " [ 3.20451212e+00  3.91210151e+00  4.85062695e+00 -5.42721128e+00]\n",
            " [ 1.20383558e+01  1.00429153e+00  3.23827696e+00 -8.80860901e+00]\n",
            " [-8.82657051e+00  7.55323410e-01  2.00113177e-01 -7.08526421e+00]\n",
            " [-5.46724987e+00  4.66975498e+00 -8.93909931e-01 -4.15726852e+00]\n",
            " [ 2.97982216e-01 -2.90170145e+00  6.26953506e+00 -1.09378586e+01]\n",
            " [-1.05679483e+01 -6.94307566e-01  1.30074978e-01 -6.43177462e+00]\n",
            " [-3.56234860e+00  2.85137248e+00  3.53795218e+00 -1.69585133e+01]\n",
            " [ 1.07858801e+00  3.41123724e+00 -8.93620491e+00 -6.16085625e+00]\n",
            " [-1.50082016e+00 -2.70991206e+00  3.74070740e+00 -4.08952808e+00]\n",
            " [-2.41543293e+00 -3.88160729e+00  4.56958771e+00 -2.05833673e+00]\n",
            " [-6.53914118e+00  3.42627668e+00 -2.93923616e-02 -7.36897087e+00]\n",
            " [-6.38368368e-01  2.00053144e+00  5.73998690e-01 -9.33642673e+00]\n",
            " [-3.48142052e+00  4.18204546e-01  1.00951016e+00 -1.76688123e+00]\n",
            " [ 9.99186993e-01  3.58371210e+00 -6.32528019e+00 -5.28513718e+00]\n",
            " [ 1.07858801e+00  3.41123724e+00 -8.93620491e+00 -6.16085625e+00]\n",
            " [ 1.83319092e-01  1.53261924e+00 -9.14692688e+00 -6.71761894e+00]\n",
            " [ 2.59118986e+00  2.87862587e+00  6.18108940e+00 -1.79302425e+01]\n",
            " [ 9.99186993e-01  3.58371210e+00 -6.32528019e+00 -5.28513718e+00]\n",
            " [-5.08050585e+00  7.60216713e+00  1.15444565e+00 -7.04984808e+00]\n",
            " [ 2.19008541e+00  2.80546951e+00  6.66420984e+00 -1.99990425e+01]\n",
            " [ 4.78160954e+00  5.04980206e-01  4.80829525e+00 -7.79273939e+00]]\n"
          ]
        }
      ],
      "source": [
        "import pickle\n",
        "\n",
        "# Load the feature_extractor_test data from the file\n",
        "with open('/content/drive/MyDrive/Without_Softmax_Feature_3DCNN/feature_extractor_X_train_D1_c300.pkl', 'rb') as f:\n",
        "    feature_extractor_X_train_D1 = pickle.load(f)\n",
        "\n",
        "# Now you can use feature_extractor_test as your loaded data\n",
        "print(feature_extractor_X_train_D1)"
      ]
    },
    {
      "cell_type": "code",
      "execution_count": 16,
      "metadata": {
        "colab": {
          "base_uri": "https://localhost:8080/"
        },
        "id": "LRIzc6KiE8sV",
        "outputId": "2aed036e-dc31-4cd3-8ad5-eb8b83d8be77"
      },
      "outputs": [
        {
          "output_type": "stream",
          "name": "stdout",
          "text": [
            "(240, 4)\n"
          ]
        }
      ],
      "source": [
        "import numpy as np\n",
        "\n",
        "# Convert list of lists to NumPy array\n",
        "feature_extractor_X_train_D1 = np.array(feature_extractor_X_train_D1)\n",
        "\n",
        "# Print the shape of the converted array to verify\n",
        "print(feature_extractor_X_train_D1.shape)"
      ]
    },
    {
      "cell_type": "code",
      "execution_count": 17,
      "metadata": {
        "colab": {
          "base_uri": "https://localhost:8080/"
        },
        "id": "WK98jJ17YOyZ",
        "outputId": "2d599ed2-ea12-4f1a-c28e-6bc0dbadc0b7"
      },
      "outputs": [
        {
          "output_type": "stream",
          "name": "stdout",
          "text": [
            "[[  1.8736892   -3.332561    -2.3850384    7.4574213 ]\n",
            " [ -3.9849942  -10.759614     2.7303352  -10.216979  ]\n",
            " [ -3.9849942  -10.759614     2.7303352  -10.216979  ]\n",
            " [-11.10719     -6.0700903   -5.458433    -5.6671    ]\n",
            " [ -5.527987   -10.789553     8.400368   -13.757437  ]\n",
            " [ -4.37963     -6.111986     2.6116762   -1.7780046 ]\n",
            " [ -2.6359534   -1.9496915   -8.538233     1.4881725 ]\n",
            " [-10.061971   -11.067272     0.6205492   -9.542989  ]\n",
            " [ -1.5252666   -8.035224    10.897924    -9.000426  ]\n",
            " [ -4.657114    -6.308665     4.3298264   -9.784201  ]\n",
            " [  0.5928416   -9.783964     5.9033904   -1.6777296 ]\n",
            " [-10.191121    -1.4044257   10.079001    -6.9728713 ]\n",
            " [ -5.782819    -8.82291      9.361204    -0.7969365 ]\n",
            " [  2.6380088   -6.59579     -2.5132818   -0.32020092]\n",
            " [  2.67584    -10.985232     3.988471    -5.2955246 ]\n",
            " [ -0.13962007  -2.1904073    7.8206506   -5.6624303 ]\n",
            " [ -2.6359534   -1.9496915   -8.538233     1.4881725 ]\n",
            " [-10.330627    -6.30238      7.7772403   -0.8191328 ]\n",
            " [ -5.0917735  -11.975268     4.746404    -9.785133  ]\n",
            " [ -1.7112653  -14.55677      7.2171874   -6.609006  ]\n",
            " [ -8.590742    -6.643366     6.486286     1.3532772 ]\n",
            " [ -4.7557096   -6.8566017    2.074325    -3.831914  ]\n",
            " [ -3.9849942  -10.759614     2.7303352  -10.216979  ]\n",
            " [-12.379917   -10.761416     8.312894    -3.8898478 ]\n",
            " [ -6.2346983   -5.3676853    8.718459    -8.278127  ]\n",
            " [ -0.23705387  -8.632096     4.7590423   -8.211494  ]\n",
            " [ -6.273775    -4.8769093  -10.649947     5.0507126 ]\n",
            " [ -6.265765    -8.691807   -10.01978     -3.2602124 ]\n",
            " [  1.5341241  -11.113085   -12.883046    -0.99071836]\n",
            " [ -4.5589967   -5.8300257  -10.43081     -0.92986584]\n",
            " [ -4.5589986   -5.830025   -10.430807    -0.92985487]\n",
            " [  0.02410197  -9.71873      4.5945315    2.523686  ]\n",
            " [ -6.265765    -8.691807   -10.01978     -3.2602124 ]\n",
            " [ -9.161467    -2.869368     7.8621154    0.71274185]\n",
            " [ -6.246221    -5.2777886   -1.0387783  -12.628359  ]\n",
            " [ -6.273775    -4.8769093  -10.649947     5.0507126 ]\n",
            " [ -3.8568711  -11.88232      5.7785125  -10.78155   ]\n",
            " [ -4.135002    -9.541946    13.483234    -2.3382773 ]\n",
            " [ -0.80509186  -4.71569      6.192683     0.6451616 ]\n",
            " [ -6.606558   -12.532464     5.52462     -4.711935  ]\n",
            " [ -5.399514   -13.060408     8.262269    -2.1794667 ]\n",
            " [ -4.5589967   -5.8300257  -10.43081     -0.92986584]\n",
            " [ -6.265765    -8.691807   -10.01978     -3.2602124 ]\n",
            " [ -5.0917735  -11.975268     4.746404    -9.785133  ]\n",
            " [ -4.995385    -4.5092382    2.2153544    1.3470707 ]\n",
            " [ -5.2227      -5.822327     6.156584    -0.03632402]\n",
            " [ -4.5589967   -5.8300257  -10.43081     -0.92986584]\n",
            " [ -8.828289    -7.059615     5.6682453   -1.178153  ]\n",
            " [ -7.599116    -2.9970977    6.7573657    0.4826126 ]\n",
            " [ -5.0917735  -11.975268     4.746404    -9.785133  ]\n",
            " [ -6.265765    -8.691807   -10.01978     -3.2602124 ]\n",
            " [ -6.953579   -10.198341     5.8937874  -14.169316  ]\n",
            " [ -5.17873     -4.60139      2.689562     1.9190598 ]\n",
            " [ -4.5037165  -11.513568     7.274067     0.45971584]\n",
            " [ -0.1940074   -3.081802     7.599329    -6.7296333 ]\n",
            " [ -2.185812    -5.8447876    2.0964131   -6.5869684 ]\n",
            " [ -5.262104    -9.842086     2.6552877  -10.152637  ]\n",
            " [ -6.273775    -4.8769093  -10.649947     5.0507126 ]\n",
            " [-10.330627    -6.30238      7.7772403   -0.8191328 ]\n",
            " [ -2.224028    -9.12075      4.807212    -3.2294993 ]\n",
            " [ -5.527987   -10.789553     8.400368   -13.757437  ]\n",
            " [-10.68143     -6.318632     2.7250075   -3.8224945 ]\n",
            " [ -6.2347045   -5.367688     8.718466    -8.278126  ]\n",
            " [ -2.9786172   -6.771433    -1.3872175   -7.2172823 ]\n",
            " [ -6.9552336   -3.913067     0.65731     -4.7012725 ]\n",
            " [ -1.7082281   -4.5671196    2.6540966   -6.5738006 ]\n",
            " [ -4.5589967   -5.8300257  -10.43081     -0.92986584]\n",
            " [ -4.5589967   -5.8300257  -10.43081     -0.92986584]\n",
            " [ -6.273775    -4.8769093  -10.649947     5.0507126 ]\n",
            " [ -7.0738606   -4.4017363    1.7239876   -5.3359666 ]\n",
            " [ -6.4568596   -5.3551717    5.6288433   -2.5198479 ]\n",
            " [ -5.0917735  -11.975268     4.746404    -9.785133  ]\n",
            " [ -3.5659564   -8.6100855    4.386305   -10.288426  ]\n",
            " [ -5.4560537   -8.247165    10.362553    -5.88468   ]\n",
            " [ -2.0990925   -9.962325     7.084839    -3.2022505 ]\n",
            " [ -7.8921494  -14.273752    10.381189    -7.7693305 ]\n",
            " [ -8.590742    -6.643366     6.486286     1.3532772 ]\n",
            " [ -3.4140892  -10.946997     0.44577312  -2.0333428 ]\n",
            " [ -3.8469079   -8.731053     5.070806    -9.56369   ]\n",
            " [ -3.1502137   -7.858776     6.068135     1.1660295 ]\n",
            " [ -4.48288    -11.857047    10.548449    -7.753997  ]\n",
            " [ -4.731479    -6.7379756    8.273711    -5.5104403 ]\n",
            " [ -2.6359534   -1.9496915   -8.538233     1.4881725 ]\n",
            " [ -5.0917735  -11.975268     4.746404    -9.785133  ]\n",
            " [ -5.262104    -9.842086     2.6552877  -10.152637  ]\n",
            " [ -1.1853212   -6.251624     2.3646083   -8.648451  ]\n",
            " [ -0.85424924 -11.435709     2.2365546   -2.213256  ]\n",
            " [ -2.6444967  -12.383103     7.1417017   -5.5638647 ]\n",
            " [ -8.491548    -8.831709    -2.3111107   -7.2733083 ]\n",
            " [ -4.6915917   -7.9957333    9.134451    -5.5368924 ]\n",
            " [ -1.8833587   -6.282773     3.4899426   -3.2252932 ]\n",
            " [ -4.7557096   -6.8566017    2.074325    -3.831914  ]\n",
            " [ -2.6323104   -6.854152     6.5320935    2.0731707 ]\n",
            " [ -6.265765    -8.691807   -10.01978     -3.2602124 ]\n",
            " [ -1.7780704   -9.041191     6.5624104   -2.9961882 ]\n",
            " [ -4.5862203   -4.0989714    7.1843886   -2.0437443 ]\n",
            " [ -4.86792    -13.468335     5.6567764   -5.8564053 ]\n",
            " [ -1.279655    -9.3643875    0.12586975  -7.6347    ]\n",
            " [ -5.3341947   -9.526395    10.508717    -2.502118  ]\n",
            " [ -5.0917735  -11.975268     4.746404    -9.785133  ]\n",
            " [-10.228024    -6.06443     -4.4721828   -4.7651415 ]\n",
            " [ -7.8921494  -14.273752    10.381189    -7.7693305 ]\n",
            " [ -4.7452784   -3.4525213    3.0193262   -5.6505423 ]\n",
            " [ -3.8568711  -11.88232      5.7785125  -10.78155   ]\n",
            " [ -3.975234   -12.233768     4.286608   -10.932908  ]\n",
            " [ -1.8926101   -3.0756948    5.65709      0.30684614]\n",
            " [ -2.0804906  -11.781982     6.1021585   -7.704917  ]\n",
            " [ -2.5914881  -11.612844    13.787709    -2.1166334 ]\n",
            " [ -3.8568711  -11.88232      5.7785125  -10.78155   ]\n",
            " [ -6.1267257  -11.60982     -4.841662    -7.5758677 ]\n",
            " [ -4.373542    -7.9230957    7.193761    -3.1352148 ]\n",
            " [ -4.86792    -13.468335     5.6567764   -5.8564053 ]\n",
            " [ -0.71687126 -11.451284     2.2284255    1.4490142 ]\n",
            " [ -2.6359534   -1.9496915   -8.538233     1.4881725 ]\n",
            " [ -6.246221    -5.2777886   -1.0387783  -12.628359  ]\n",
            " [ -7.620717    -2.7331712    9.267461     0.23698139]\n",
            " [ -5.9483905   -7.6127763   -7.527035    -6.3757544 ]\n",
            " [ -5.262104    -9.842086     2.6552877  -10.152637  ]\n",
            " [ -2.6106138  -13.190204     6.0014186   -2.1103058 ]\n",
            " [ -7.847553    -1.2153035    0.52615213  -6.4246044 ]\n",
            " [ -0.18619967  -3.842124     5.6877975   -1.0740485 ]\n",
            " [ -7.5812006  -12.174958    -4.8991013   -5.074761  ]\n",
            " [ -4.756347    -8.351327     2.8344383   -4.244323  ]\n",
            " [ -4.676763    -5.968235     4.77185     -7.2597833 ]\n",
            " [ -8.644241    -7.2478933    5.0045404   -9.905231  ]\n",
            " [ -3.139294    -7.6053624    0.15311527  -7.3325486 ]\n",
            " [ -4.6571083   -6.308671     4.329817    -9.78419   ]\n",
            " [ -6.2737775   -4.8769073  -10.64995      5.050714  ]\n",
            " [ -3.8568711  -11.88232      5.7785125  -10.78155   ]\n",
            " [  2.770688   -10.383896   -12.580369    -0.8848586 ]\n",
            " [ -2.9655447   -7.250561     8.899897     1.8899536 ]\n",
            " [ -6.570103    -7.543633     5.0740604   -6.081676  ]\n",
            " [ -2.1654813   -4.7230453    4.842422    -0.4609356 ]\n",
            " [  1.1760557  -13.433052     1.7372007   -5.4176183 ]\n",
            " [ -2.6359534   -1.9496915   -8.538233     1.4881725 ]\n",
            " [ -6.667107    -8.027422     6.3116045   -8.386305  ]\n",
            " [ -3.8619      -8.748312     6.8654375   -5.6953077 ]\n",
            " [ -2.9833393   -8.671979     1.3776693   -7.290595  ]\n",
            " [ -0.74847233   0.78687835   6.0035086   -4.431848  ]\n",
            " [ -6.273775    -4.8769093  -10.649947     5.0507126 ]\n",
            " [ -3.8568711  -11.88232      5.7785125  -10.78155   ]\n",
            " [ -4.135002    -9.541946    13.483234    -2.3382773 ]\n",
            " [ -5.0917735  -11.975268     4.746404    -9.785133  ]\n",
            " [ -4.628789    -7.018838    -8.965883    -1.2513294 ]\n",
            " [-10.215728    -1.8357601    4.485293    -3.2512674 ]\n",
            " [ -8.870706    -7.866618     8.632688    -6.736081  ]\n",
            " [ -3.7847385   -5.6704206    1.8825309    1.562871  ]\n",
            " [ -3.9849942  -10.759614     2.7303352  -10.216979  ]\n",
            " [ -1.0162809   -3.7436593    6.5485325    2.1396232 ]\n",
            " [ -3.117678   -10.06874      3.7165298   -1.4686251 ]\n",
            " [ -5.6933284   -4.1742086   12.92163      0.15384293]\n",
            " [ -4.37963     -6.111986     2.6116762   -1.7780046 ]\n",
            " [ -2.6359534   -1.9496915   -8.538233     1.4881725 ]\n",
            " [ -5.7019114   -4.786998     3.0165896    0.5540714 ]\n",
            " [ -1.3558531   -2.8508186    4.563513    -6.3200283 ]\n",
            " [-10.061971   -11.067272     0.6205492   -9.542989  ]\n",
            " [ -5.0625772   -3.9585328    1.1503487  -11.511662  ]\n",
            " [-12.689218    -8.447098     5.2938843  -10.318558  ]\n",
            " [ -1.443265   -11.251534    -1.2745104   -5.8140035 ]\n",
            " [ -4.503719   -11.513573     7.274068     0.45971298]\n",
            " [ -5.17873     -4.60139      2.689562     1.9190598 ]\n",
            " [ -8.06822    -10.470913    -5.3385224   -2.8885126 ]\n",
            " [ -0.23705387  -8.632096     4.7590423   -8.211494  ]\n",
            " [ -4.171911    -4.049788     6.4869924   -3.860086  ]\n",
            " [ -3.9849942  -10.759614     2.7303352  -10.216979  ]\n",
            " [ -8.06822    -10.470913    -5.3385224   -2.8885126 ]\n",
            " [ -2.7077994   -8.94303      5.163086    -2.6743522 ]\n",
            " [ -4.3678875   -8.8658       8.151986    -4.5530806 ]\n",
            " [ -3.4618587  -14.149218     7.0879984   -4.786719  ]\n",
            " [  0.09197915  -5.211651     5.3044224    0.18675756]\n",
            " [-10.9030695   -9.66164      9.153304    -3.9166074 ]\n",
            " [ -4.657114    -6.308665     4.3298264   -9.784201  ]\n",
            " [ -4.827841    -9.584421    10.526448    -3.124157  ]\n",
            " [-12.379917   -10.761416     8.312894    -3.8898478 ]\n",
            " [-12.379917   -10.761416     8.312894    -3.8898478 ]\n",
            " [ -3.8568711  -11.88232      5.7785125  -10.78155   ]\n",
            " [ -5.0917735  -11.975268     4.746404    -9.785133  ]\n",
            " [ -3.693787    -6.66836      6.7150245   -1.567461  ]\n",
            " [ -2.7525668  -11.211506     6.3901587   -1.0193491 ]\n",
            " [ -0.9524331   -6.326576     1.3479815   -6.4911766 ]\n",
            " [ -5.262104    -9.842086     2.6552877  -10.152637  ]\n",
            " [ -3.49587     -8.993994     8.034493    -2.7990866 ]\n",
            " [-10.9030695   -9.66164      9.153304    -3.9166074 ]\n",
            " [ -2.9325256   -7.806809    -0.41731644  -6.912339  ]\n",
            " [ -7.0579333  -10.357454     5.0436416   -5.79093   ]\n",
            " [ -2.6359534   -1.9496915   -8.538233     1.4881725 ]\n",
            " [ -0.33708346 -10.087727     3.848648    -7.1802087 ]\n",
            " [ -4.373542    -7.9230957    7.193761    -3.1352148 ]\n",
            " [ -5.262104    -9.842086     2.6552877  -10.152637  ]\n",
            " [ -1.4384389   -9.31616     -2.0153837   -7.2326527 ]\n",
            " [ -3.8568635  -11.882313     5.7785163  -10.78155   ]\n",
            " [ -2.3900957  -10.743209     7.1957355   -8.945252  ]\n",
            " [ -2.6359534   -1.9496915   -8.538233     1.4881725 ]\n",
            " [ -3.8568711  -11.88232      5.7785125  -10.78155   ]\n",
            " [ -0.30379725  -4.2369676    4.0548625   -5.269234  ]\n",
            " [ -1.7256293   -7.3834057    9.9876995   -1.4493482 ]\n",
            " [  3.1487246   -8.474804     2.1616507   -6.1817966 ]\n",
            " [ -4.0342712   -8.129437     6.136078    -5.0962915 ]\n",
            " [ -0.21556187 -12.025167     2.7983007    2.5697129 ]\n",
            " [ -4.5589967   -5.8300257  -10.43081     -0.92986584]\n",
            " [ -0.13962007  -2.1904073    7.8206506   -5.6624303 ]\n",
            " [ -6.273775    -4.8769093  -10.649947     5.0507126 ]\n",
            " [ -4.518533   -14.483715     0.5084467   -4.684068  ]\n",
            " [ -0.23705387  -8.632096     4.7590423   -8.211494  ]\n",
            " [ -1.6045258   -4.1202216    7.1485143    2.956438  ]\n",
            " [ -2.1458807   -7.842023    -1.3269672   -7.5318804 ]\n",
            " [ -6.709044    -6.952483     2.9730356   -1.7896023 ]\n",
            " [ -0.30379725  -4.2369676    4.0548625   -5.269234  ]\n",
            " [ -9.676815    -4.5362287   11.764061    -4.041412  ]\n",
            " [ -3.8568711  -11.88232      5.7785125  -10.78155   ]\n",
            " [ -9.227875    -1.3010273   10.010208    -5.5133815 ]\n",
            " [ -0.6815057   -7.8175917    3.704795    -7.7138486 ]\n",
            " [ -3.8568711  -11.88232      5.7785125  -10.78155   ]\n",
            " [ -8.06822    -10.470913    -5.3385224   -2.8885126 ]\n",
            " [ -5.262104    -9.842086     2.6552877  -10.152637  ]\n",
            " [ -8.06822    -10.470913    -5.3385224   -2.8885126 ]\n",
            " [ -6.246221    -5.2777886   -1.0387783  -12.628359  ]\n",
            " [-11.568098    -8.773165     0.9058676   -7.6877766 ]\n",
            " [ -4.5816135   -4.5035973   -1.9174838  -13.460691  ]\n",
            " [ -7.599116    -2.9970977    6.7573657    0.4826126 ]\n",
            " [ -4.5816135   -4.5035973   -1.9174838  -13.460691  ]\n",
            " [ -3.3588843   -8.173401     5.8987117   -9.360341  ]\n",
            " [ -5.7231255  -12.529924     4.3982415   -4.3334227 ]\n",
            " [ -9.952665    -6.4104104    2.0561018   -7.703734  ]\n",
            " [ -1.9895554   -8.08866      6.5238013   -4.869962  ]\n",
            " [ -2.224028    -9.12075      4.807212    -3.2294993 ]\n",
            " [ -0.35426426  -6.6466694    0.09289551   1.0764053 ]\n",
            " [ -4.7516227   -3.777414     8.938905    -1.5312634 ]\n",
            " [ -3.4618587  -14.149218     7.0879984   -4.786719  ]\n",
            " [ -1.0162458  -11.213963     7.9408617   -4.9973865 ]\n",
            " [ -6.273775    -4.8769093  -10.649947     5.0507126 ]\n",
            " [ -3.9849942  -10.759614     2.7303352  -10.216979  ]\n",
            " [ -2.6359534   -1.9496915   -8.538233     1.4881725 ]\n",
            " [ -0.17811155 -10.300458     3.0923457   -7.9549065 ]\n",
            " [-10.644266    -4.2365656    8.70719     -1.3886061 ]\n",
            " [-15.058731    -7.8647933    6.493858    -7.434181  ]\n",
            " [ -3.9849942  -10.759614     2.7303352  -10.216979  ]\n",
            " [ -2.6625624  -11.053009     5.956858    -8.444578  ]\n",
            " [ -6.667107    -8.027422     6.3116045   -8.386305  ]\n",
            " [ -2.9067569   -7.914114     2.4392414   -4.890892  ]]\n"
          ]
        }
      ],
      "source": [
        "import pickle\n",
        "\n",
        "# Load the feature_extractor_test data from the file\n",
        "with open('/content/drive/MyDrive/Without_Softmax_Feature_3DCNN/feature_extractor_X_train_D2_c300.pkl', 'rb') as f:\n",
        "    feature_extractor_X_train_D2 = pickle.load(f)\n",
        "\n",
        "# Now you can use feature_extractor_test as your loaded data\n",
        "print(feature_extractor_X_train_D2)"
      ]
    },
    {
      "cell_type": "code",
      "execution_count": 18,
      "metadata": {
        "colab": {
          "base_uri": "https://localhost:8080/"
        },
        "id": "pgZN_fbCEmE2",
        "outputId": "7ca1388d-13ae-47ee-8a19-15fd06f6a8c3"
      },
      "outputs": [
        {
          "output_type": "stream",
          "name": "stdout",
          "text": [
            "(240, 4)\n"
          ]
        }
      ],
      "source": [
        "import numpy as np\n",
        "\n",
        "# Convert list of lists to NumPy array\n",
        "feature_extractor_X_train_D2 = np.array(feature_extractor_X_train_D2)\n",
        "\n",
        "# Print the shape of the converted array to verify\n",
        "print(feature_extractor_X_train_D2.shape)"
      ]
    },
    {
      "cell_type": "code",
      "execution_count": 19,
      "metadata": {
        "colab": {
          "base_uri": "https://localhost:8080/"
        },
        "id": "PmLM3CvNmkYx",
        "outputId": "d529b830-5f93-4765-90e0-3ba4170b25c4"
      },
      "outputs": [
        {
          "output_type": "stream",
          "name": "stdout",
          "text": [
            "[[ -5.712588   -16.73993      4.255355   -12.678071  ]\n",
            " [ -1.3510057  -15.259115     5.9870014  -17.254045  ]\n",
            " [ -3.7703278  -14.797597     8.748238   -17.897644  ]\n",
            " [  2.2610476  -13.067088     8.737944    -9.928754  ]\n",
            " [-11.111745   -11.867258    10.25052    -15.08718   ]\n",
            " [ -7.3699217  -16.075062    15.0782     -13.82889   ]\n",
            " [ -1.3183696  -23.417406    11.308408   -13.916191  ]\n",
            " [ -3.8142507  -13.330046    16.330246    -7.7623854 ]\n",
            " [ -0.55560493 -20.373827    11.679061   -14.3050995 ]\n",
            " [  6.672861   -22.143023     9.15797    -11.459679  ]\n",
            " [ -0.8549609  -14.443186    18.298721    -6.424914  ]\n",
            " [ -6.0070524  -17.292717     3.5537627  -13.218149  ]\n",
            " [ -3.8142507  -13.330046    16.330246    -7.7623854 ]\n",
            " [  1.4084215   -9.185891    17.815376   -15.538002  ]\n",
            " [-14.399282    -8.252249     8.501445   -28.054117  ]\n",
            " [ -6.697898   -17.685041     7.4672065  -11.810791  ]\n",
            " [  1.7242017  -15.589159    16.810026    -6.2390337 ]\n",
            " [ -0.8549609  -14.443186    18.298721    -6.424914  ]\n",
            " [ -8.490223   -16.65752      9.498579   -17.405512  ]\n",
            " [ -3.304635   -19.084614    14.649717   -12.298063  ]\n",
            " [ -4.367919   -14.671688     4.844889   -16.055557  ]\n",
            " [  2.415996   -12.472587    17.05059     -5.4763975 ]\n",
            " [ -4.367919   -14.671688     4.844889   -16.055557  ]\n",
            " [  2.392108   -17.156132    12.799516   -12.742136  ]\n",
            " [-14.82918    -13.950541     6.923518   -13.36072   ]\n",
            " [ -1.3510057  -15.259115     5.9870014  -17.254045  ]\n",
            " [ -1.3510057  -15.259115     5.9870014  -17.254045  ]\n",
            " [ -3.8382242  -14.19944      2.2009287  -12.088409  ]\n",
            " [ -6.4731793  -15.6004925    7.8958015  -20.741983  ]\n",
            " [ -3.8142507  -13.330046    16.330246    -7.7623854 ]\n",
            " [ -0.609148   -21.750242    -1.7330964  -18.511402  ]\n",
            " [ -6.95208    -18.450872    12.581752   -21.809175  ]\n",
            " [ -1.3510057  -15.259115     5.9870014  -17.254045  ]\n",
            " [ -5.2095885  -21.241003    12.522228   -16.905617  ]\n",
            " [-11.253261   -12.708263    14.4713745  -16.334826  ]\n",
            " [ -7.1410275  -18.336655    10.691591   -20.87967   ]\n",
            " [  2.482332   -23.46869      3.3685153  -15.468934  ]\n",
            " [  2.8735964  -21.773338     9.270813   -11.249455  ]\n",
            " [ -7.3128796  -21.040352    10.796764    -7.432294  ]\n",
            " [ -1.8357933  -18.374964     8.792044   -12.400033  ]\n",
            " [-15.413576   -18.862705    -2.2403257  -20.640404  ]\n",
            " [ -4.215604   -11.864784     8.668055   -15.561482  ]\n",
            " [ -8.719476   -16.466835    -4.0069456  -16.541513  ]\n",
            " [ -1.3510057  -15.259115     5.9870014  -17.254045  ]\n",
            " [  2.415996   -12.472587    17.05059     -5.4763975 ]\n",
            " [ -0.8549609  -14.443186    18.298721    -6.424914  ]\n",
            " [ -4.8356433  -16.794731    10.477121   -13.717197  ]\n",
            " [ -6.5159016  -22.579699    10.6072645  -10.142977  ]\n",
            " [  4.9214563  -21.797043     7.8489685  -10.723153  ]\n",
            " [ -4.367919   -14.671688     4.844889   -16.055557  ]\n",
            " [ -5.4903316  -14.102182     2.536111   -12.63891   ]\n",
            " [ -8.273864   -15.564875    14.512113   -21.347235  ]\n",
            " [  1.433017   -23.707163    17.366732    -8.176817  ]\n",
            " [-14.258021    -9.132875     3.33248    -22.95951   ]\n",
            " [  2.415996   -12.472587    17.05059     -5.4763975 ]\n",
            " [ -3.585284   -14.539093    18.665365    -5.510829  ]\n",
            " [ -9.813715   -13.864579     3.800725   -19.526623  ]\n",
            " [ -4.0112133  -21.553074    20.073372   -16.310661  ]\n",
            " [-15.354358    -8.837229     3.9061835  -21.431618  ]\n",
            " [ -7.770977   -11.533872    10.747011   -11.606461  ]\n",
            " [ -8.308707   -17.3301      16.332193   -11.512949  ]\n",
            " [-16.460669    -7.6019607    7.461239   -28.922909  ]\n",
            " [ -7.8558717  -17.552977    16.45692    -12.813155  ]\n",
            " [ -4.655142   -13.239912    13.69084     -8.927885  ]\n",
            " [ -6.420134   -21.039257    12.172688   -10.082545  ]\n",
            " [ -9.469896   -22.010597    19.397148   -18.899952  ]\n",
            " [ -5.706111   -26.082521     4.255475   -12.220687  ]\n",
            " [  2.4266992  -17.717575    12.235314   -15.087027  ]\n",
            " [ -7.7636847  -23.033527    18.944551   -16.361635  ]\n",
            " [ -1.7630377  -23.867935     9.301596   -16.649479  ]\n",
            " [  3.8063173  -12.378404    10.9424515   -8.849025  ]\n",
            " [ -1.8666663  -25.103886    10.652252   -16.779255  ]\n",
            " [ -7.2965245  -18.03535     12.031559   -20.149818  ]\n",
            " [ -3.8995311  -15.665012    -5.8581047  -11.188739  ]\n",
            " [ -5.0236197  -23.32011      6.80348    -18.952667  ]\n",
            " [ -5.0933657  -14.417168    14.820265   -12.170572  ]\n",
            " [ -0.30357122 -11.964827     2.6816115  -10.725662  ]\n",
            " [ -7.369227   -15.390493    13.979371   -14.45108   ]\n",
            " [ -1.5648799  -21.301128     1.9954789  -13.778025  ]\n",
            " [ -3.3905404  -15.85194      8.2626     -18.646334  ]\n",
            " [ -2.1777487  -23.059134    11.280652   -19.1771    ]\n",
            " [  0.40094376 -17.765884    11.403524   -17.080347  ]\n",
            " [ -1.8357933  -18.374964     8.792044   -12.400033  ]\n",
            " [  3.704974   -22.45873      5.4686203  -15.829961  ]\n",
            " [ -4.976614   -23.175241     5.2222886  -17.618237  ]\n",
            " [ -0.28643894 -19.180065    11.455638   -14.020176  ]\n",
            " [ -4.933448   -20.62383     10.063915   -12.549299  ]\n",
            " [ -0.55560493 -20.373827    11.679061   -14.3050995 ]\n",
            " [ -0.43642235 -17.67777      4.176732    -9.680941  ]\n",
            " [ -3.585284   -14.539093    18.665365    -5.510829  ]\n",
            " [ -4.901827   -19.56909      4.090936   -19.209206  ]\n",
            " [ -4.821384   -14.793625    10.560694   -12.606587  ]\n",
            " [  3.078765   -21.25444     15.867136    -9.260397  ]\n",
            " [ -6.9520903  -18.450872    12.581747   -21.809181  ]\n",
            " [ -5.139682   -11.463573     3.0219297  -14.297342  ]\n",
            " [  4.9936953  -18.405588    13.18633    -13.662832  ]\n",
            " [ -5.032678   -15.766984    11.838353   -21.103645  ]\n",
            " [ -3.1092849  -21.19524     17.846611    -8.485533  ]\n",
            " [ -3.9732227  -22.523376    11.034696   -22.456392  ]\n",
            " [  2.392108   -17.156132    12.799516   -12.742136  ]\n",
            " [ -8.398481   -24.046562    16.070637   -10.370064  ]\n",
            " [ -4.107607   -13.102058     8.563343   -13.11092   ]\n",
            " [ -2.2596688  -22.327763    14.451359   -12.529126  ]\n",
            " [-17.91078    -16.449333    -0.71534586 -12.921602  ]\n",
            " [ -0.8549609  -14.443186    18.298721    -6.424914  ]\n",
            " [ -7.1278863  -16.353611    12.851074   -14.49065   ]\n",
            " [-17.054514   -16.603432     0.41594696 -12.337505  ]\n",
            " [  1.9171593  -18.589787     9.486876    -9.734152  ]\n",
            " [ -9.593891   -13.519612     5.0945096  -11.367048  ]\n",
            " [ -8.308707   -17.3301      16.332193   -11.512949  ]\n",
            " [ -4.367919   -14.671688     4.844889   -16.055557  ]\n",
            " [  2.4266992  -17.717575    12.235314   -15.087027  ]\n",
            " [ -5.1229186  -22.807627    12.22723     -5.925595  ]\n",
            " [  1.009028   -16.926159     9.722789    -5.3823185 ]\n",
            " [ -3.8142507  -13.330046    16.330246    -7.7623854 ]\n",
            " [ -5.249065   -21.202831     7.854522   -11.556521  ]\n",
            " [ -1.4578409  -18.682526     3.5374672  -17.336977  ]\n",
            " [ -6.1466045  -20.890993    12.050522   -15.26313   ]\n",
            " [ -6.038229   -20.503757    12.459013   -17.056976  ]\n",
            " [  3.027695   -24.479542    15.446908    -8.368796  ]\n",
            " [ -5.979159   -16.387949    16.669067   -19.984709  ]\n",
            " [ -9.593891   -13.519612     5.0945096  -11.367048  ]\n",
            " [-14.399282    -8.252249     8.501445   -28.054117  ]\n",
            " [ -3.6377704  -15.756975    13.281265   -12.644605  ]\n",
            " [ -4.6153326  -19.878374     2.420629   -14.803835  ]\n",
            " [  0.72803545 -20.578405     4.0088863  -15.331602  ]\n",
            " [ -3.8142443  -13.330059    16.330242    -7.7623825 ]\n",
            " [ -5.1157713  -17.048002    13.931841   -19.325623  ]\n",
            " [-12.455584   -13.640205     2.670792   -19.122347  ]\n",
            " [ -7.82891    -17.151869    17.227581   -24.077492  ]\n",
            " [ -4.215604   -11.864784     8.668055   -15.561482  ]\n",
            " [ -5.9640336  -14.242894     7.3454204  -21.629856  ]\n",
            " [  4.764679   -15.349829    10.630661    -4.818096  ]\n",
            " [ -9.813715   -13.864579     3.800725   -19.526623  ]\n",
            " [  0.13124871 -13.446007     2.963399   -14.765999  ]\n",
            " [ -1.6309352  -14.295911     8.002526   -15.127922  ]\n",
            " [ -9.323669   -19.773657     8.099081    -8.955827  ]\n",
            " [ -7.400918   -15.806297     2.938647   -20.128117  ]\n",
            " [  0.18612528 -16.521387     5.3880296  -14.5390835 ]\n",
            " [-13.593277    -7.114391     6.751287   -30.304136  ]\n",
            " [  5.014496   -17.905558    12.389161   -14.873236  ]\n",
            " [ -4.367919   -14.671688     4.844889   -16.055557  ]\n",
            " [  2.1068335   -9.771442    17.771765   -15.581582  ]\n",
            " [-11.253261   -12.708263    14.4713745  -16.334826  ]\n",
            " [-13.317495    -9.663004     2.4737833  -23.191658  ]\n",
            " [ -6.2003136  -19.122309    14.647515    -7.943149  ]\n",
            " [ -7.5851355  -14.612489     6.254895   -15.723179  ]\n",
            " [ -5.0236106  -18.632849    14.795066    -8.280329  ]\n",
            " [ -8.600252   -12.568811    14.765572   -13.953764  ]\n",
            " [ -6.449209   -13.809644    -0.7638271  -12.906298  ]\n",
            " [ -8.778838   -12.931965    -0.30148888 -18.02276   ]\n",
            " [ -4.367919   -14.671688     4.844889   -16.055557  ]\n",
            " [ -4.367919   -14.671688     4.844889   -16.055557  ]\n",
            " [ -9.149488   -18.736387    -4.481447   -15.234654  ]\n",
            " [ -9.469896   -22.010597    19.397148   -18.899952  ]\n",
            " [  0.18612528 -16.521387     5.3880296  -14.5390835 ]\n",
            " [ -1.1663449  -14.583559     2.2972298  -15.112836  ]\n",
            " [  1.7242017  -15.589159    16.810026    -6.2390337 ]\n",
            " [ -4.3679266  -14.671677     4.844884   -16.055561  ]\n",
            " [ -5.036403   -17.710136    11.021884   -13.004088  ]\n",
            " [ -7.3128796  -21.040352    10.796764    -7.432294  ]\n",
            " [  2.415996   -12.472587    17.05059     -5.4763975 ]\n",
            " [ -6.6429954  -17.408754    14.28499     -7.7515726 ]\n",
            " [ -6.9520903  -18.450872    12.581747   -21.809181  ]\n",
            " [ -5.139681   -11.463572     3.0219293  -14.297336  ]\n",
            " [ -1.4896321  -19.960312    18.025126    -7.7480907 ]\n",
            " [-12.29552    -13.819904     3.6760113  -18.37014   ]\n",
            " [ -9.710458   -25.712114    18.17095    -17.579668  ]\n",
            " [  7.7875156  -22.102566     9.580609   -11.402996  ]\n",
            " [ -4.479805   -25.14922      6.200332   -14.907757  ]\n",
            " [ -4.107607   -13.102058     8.563343   -13.11092   ]\n",
            " [  1.7242017  -15.589159    16.810026    -6.2390337 ]\n",
            " [ -4.573484   -19.734531     2.471828   -18.319784  ]\n",
            " [ -3.8142507  -13.330046    16.330246    -7.7623854 ]\n",
            " [ -7.359232   -15.793932    -2.28794    -15.644074  ]\n",
            " [  3.3213677  -17.268578     9.699372    -4.3451014 ]\n",
            " [ -0.67536354 -18.674648    11.49973    -11.709038  ]\n",
            " [  1.4084215   -9.185891    17.815376   -15.538002  ]\n",
            " [ -3.585284   -14.539093    18.665365    -5.510829  ]\n",
            " [ -1.1663449  -14.583559     2.2972298  -15.112836  ]\n",
            " [ -1.1663449  -14.583559     2.2972298  -15.112836  ]\n",
            " [ -3.9869118  -14.143623     7.951109   -16.522425  ]\n",
            " [ -1.3510057  -15.259115     5.9870014  -17.254045  ]\n",
            " [ -5.5853853  -15.852742     6.8655243  -16.89787   ]\n",
            " [ -6.315015   -13.478291    17.505962    -5.782401  ]\n",
            " [ -8.722789   -12.664693    16.146406   -16.041689  ]\n",
            " [ -3.8142507  -13.330046    16.330246    -7.7623854 ]\n",
            " [ -0.8549609  -14.443186    18.298721    -6.424914  ]\n",
            " [ -6.315015   -13.478291    17.505962    -5.782401  ]\n",
            " [-11.376709   -15.147933     4.765512   -16.817211  ]\n",
            " [  1.7241983  -15.589155    16.810026    -6.2390447 ]\n",
            " [  1.4084277   -9.185899    17.815392   -15.537994  ]\n",
            " [-15.819189   -23.919859     6.7043695  -16.577286  ]\n",
            " [ -4.8038006  -13.727791    15.157031   -12.1476345 ]\n",
            " [ -1.8886516  -22.41327      6.629631   -17.944775  ]\n",
            " [  0.87511206 -18.135702    10.256456   -13.571287  ]\n",
            " [ -4.583354    -8.820726    19.76217    -22.51067   ]\n",
            " [ -5.682216   -18.432762    15.850464   -20.685228  ]\n",
            " [ -6.3752766  -16.925589    20.048882    -9.960033  ]\n",
            " [  0.18612528 -16.521387     5.3880296  -14.5390835 ]\n",
            " [ -3.0621557  -17.726479     5.6739216  -16.289545  ]\n",
            " [ -8.308707   -17.3301      16.332193   -11.512949  ]\n",
            " [ -3.3122287  -22.061903    16.770739    -8.56176   ]\n",
            " [  0.18612528 -16.521387     5.3880296  -14.5390835 ]\n",
            " [ -1.1663449  -14.583559     2.2972298  -15.112836  ]\n",
            " [  2.415996   -12.472587    17.05059     -5.4763975 ]\n",
            " [  2.8978105  -14.556533     8.436256    -8.893615  ]\n",
            " [  0.18612528 -16.521387     5.3880296  -14.5390835 ]\n",
            " [ -0.2600355  -24.732674     8.498735   -18.554453  ]\n",
            " [ -0.98322487 -25.150324     6.5242553   -7.5988684 ]\n",
            " [ -1.1663449  -14.583559     2.2972298  -15.112836  ]\n",
            " [-15.354358    -8.837229     3.9061835  -21.431618  ]\n",
            " [ -1.8357933  -18.374964     8.792044   -12.400033  ]\n",
            " [-10.983514   -16.079098    13.029297   -13.057731  ]\n",
            " [ -5.850862   -21.45581     12.528892   -22.534483  ]\n",
            " [ -2.883396   -12.086706    -0.80200744 -19.391102  ]\n",
            " [-17.91078    -16.449333    -0.71534586 -12.921602  ]\n",
            " [ -3.6892977  -20.998083    10.90997    -19.29796   ]\n",
            " [  0.18612528 -16.521387     5.3880296  -14.5390835 ]\n",
            " [ -9.416516   -15.313138    14.51387    -15.612221  ]\n",
            " [  2.8978105  -14.556533     8.436256    -8.893615  ]\n",
            " [ -1.2391295  -23.06666     13.30287    -14.936932  ]\n",
            " [  1.7241983  -15.589155    16.810026    -6.2390447 ]\n",
            " [ -8.531371   -18.153624    -2.792112   -16.371613  ]\n",
            " [ -6.941517   -20.14526      7.3536973  -10.163176  ]\n",
            " [ -4.6153326  -19.878374     2.420629   -14.803835  ]\n",
            " [ -8.303814   -20.617517    10.026718   -15.509321  ]\n",
            " [  1.433017   -23.707163    17.366732    -8.176817  ]\n",
            " [  0.18612528 -16.521387     5.3880296  -14.5390835 ]\n",
            " [ -6.1646013  -14.544535     4.394461   -12.967934  ]\n",
            " [ -2.4964437  -14.004114    14.447767   -12.083624  ]\n",
            " [ -4.367919   -14.671688     4.844889   -16.055557  ]\n",
            " [ -4.557663   -18.487305     8.420139   -14.907244  ]\n",
            " [ -9.813715   -13.864579     3.800725   -19.526623  ]\n",
            " [ -1.1663449  -14.583559     2.2972298  -15.112836  ]\n",
            " [ -4.367919   -14.671688     4.844889   -16.055557  ]\n",
            " [ -3.8142507  -13.330046    16.330246    -7.7623854 ]\n",
            " [ -1.1663449  -14.583559     2.2972298  -15.112836  ]\n",
            " [ -8.904883   -20.548466     8.333365   -26.363562  ]\n",
            " [  4.3838453  -19.980492    14.330476   -11.563222  ]]\n"
          ]
        }
      ],
      "source": [
        "import pickle\n",
        "\n",
        "# Load the feature_extractor_test data from the file\n",
        "with open('/content/drive/MyDrive/Without_Softmax_Feature_3DCNN/feature_extractor_X_val_D1300.pkl', 'rb') as f:\n",
        "    feature_extractor_X_val_D1 = pickle.load(f)\n",
        "\n",
        "# Now you can use feature_extractor_test as your loaded data\n",
        "print(feature_extractor_X_val_D1)"
      ]
    },
    {
      "cell_type": "code",
      "execution_count": 20,
      "metadata": {
        "colab": {
          "base_uri": "https://localhost:8080/"
        },
        "id": "4iFploEmDnoZ",
        "outputId": "00ece5de-4f81-47a0-a10b-17922dd3bc39"
      },
      "outputs": [
        {
          "output_type": "stream",
          "name": "stdout",
          "text": [
            "(240, 4)\n"
          ]
        }
      ],
      "source": [
        "import numpy as np\n",
        "\n",
        "# Convert list of lists to NumPy array\n",
        "feature_extractor_X_val_D1 = np.array(feature_extractor_X_val_D1)\n",
        "\n",
        "# Print the shape of the converted array to verify\n",
        "print(feature_extractor_X_val_D1.shape)"
      ]
    },
    {
      "cell_type": "code",
      "execution_count": 21,
      "metadata": {
        "colab": {
          "base_uri": "https://localhost:8080/"
        },
        "id": "35YFB_V4CnWz",
        "outputId": "fd0d8578-fa83-4f42-ae20-9525d6a59b94"
      },
      "outputs": [
        {
          "output_type": "stream",
          "name": "stdout",
          "text": [
            "[[ 1.00033264e+01  2.62438240e+01 -8.21425915e+00  1.51886044e+01]\n",
            " [ 1.65255642e+00  3.27253571e+01 -7.86940575e+00  1.59634113e+01]\n",
            " [-1.97345352e+00  3.64411011e+01 -8.72348118e+00  2.23495522e+01]\n",
            " [ 5.21612644e+00  3.76881447e+01  2.50679016e-01  1.67309170e+01]\n",
            " [ 8.17180824e+00  2.94299965e+01 -9.11161995e+00  1.70914307e+01]\n",
            " [ 1.33915520e+01  3.20222168e+01 -8.24928284e-03  2.20522766e+01]\n",
            " [ 9.53512192e+00  1.89111004e+01  4.59740448e+00  7.92978954e+00]\n",
            " [-3.27118874e+00  3.04601517e+01  7.30749130e-01  1.02693434e+01]\n",
            " [-1.97345352e+00  3.64411011e+01 -8.72348118e+00  2.23495522e+01]\n",
            " [ 1.82833672e+00  4.53849716e+01 -1.39779263e+01  2.69988937e+01]\n",
            " [ 1.82833672e+00  4.53849716e+01 -1.39779263e+01  2.69988937e+01]\n",
            " [-1.81549835e+00  4.40884781e+01 -1.00432529e+01  2.68291893e+01]\n",
            " [-2.11070442e+00  3.26956902e+01 -9.97575855e+00  2.35159302e+01]\n",
            " [-4.17111778e+00  2.56214943e+01 -2.92761421e+00  1.10979099e+01]\n",
            " [-3.27118874e+00  3.04601517e+01  7.30749130e-01  1.02693434e+01]\n",
            " [ 3.72683716e+00  3.06935863e+01 -1.39163494e+00  7.25008965e+00]\n",
            " [-2.11070442e+00  3.26956902e+01 -9.97575855e+00  2.35159302e+01]\n",
            " [ 5.54971600e+00  2.91793442e+01 -8.15939617e+00  1.54888926e+01]\n",
            " [ 1.32259045e+01  3.60935669e+01 -8.03562832e+00  8.51633167e+00]\n",
            " [ 5.24904251e+00  3.65287247e+01 -2.36046791e-01  1.67012997e+01]\n",
            " [ 3.94355774e+00  2.90149612e+01 -1.43894386e+00  2.25646801e+01]\n",
            " [ 7.58235741e+00  2.09475594e+01 -2.36553764e+00  1.67871761e+01]\n",
            " [ 1.05401859e+01  2.82901878e+01 -5.49419117e+00  1.72266102e+01]\n",
            " [-1.97345352e+00  3.64411011e+01 -8.72348118e+00  2.23495522e+01]\n",
            " [ 7.55409527e+00  2.28957329e+01  5.62153816e+00  1.27508602e+01]\n",
            " [-1.38397980e+00  3.16007385e+01 -6.70122147e-01  2.44827976e+01]\n",
            " [-9.73833179e+00  3.50078659e+01 -4.48581982e+00  2.47661343e+01]\n",
            " [ 5.56007290e+00  4.19911804e+01 -6.68152618e+00  2.13569107e+01]\n",
            " [ 2.97620010e+00  3.93735962e+01 -1.28648338e+01  1.99368019e+01]\n",
            " [ 4.92966461e+00  2.03864040e+01 -3.83687878e+00  1.66040535e+01]\n",
            " [ 5.68914413e+00  4.23741722e+01 -1.22038851e+01  3.77216110e+01]\n",
            " [ 1.43022556e+01  3.16389694e+01  1.61201763e+00  2.29921227e+01]\n",
            " [ 1.02355270e+01  3.60400925e+01  8.89905548e+00  4.74923210e+01]\n",
            " [ 4.77958584e+00  3.38911476e+01 -7.35554504e+00  7.77615547e+00]\n",
            " [-3.27118874e+00  3.04601517e+01  7.30749130e-01  1.02693434e+01]\n",
            " [ 6.33115768e+00  4.46438332e+01 -1.23776407e+01  2.44056396e+01]\n",
            " [ 4.60182285e+00  3.41975136e+01 -9.66445160e+00  6.27559566e+00]\n",
            " [-2.98217583e+00  2.84280701e+01 -4.15386868e+00  8.34100056e+00]\n",
            " [ 9.67671204e+00  3.38963470e+01 -1.24512157e+01  2.68796883e+01]\n",
            " [ 1.14376040e+01  2.85501575e+01 -2.80193901e+00  3.11095161e+01]\n",
            " [-2.46680260e+00  2.97722282e+01  2.14114094e+00  9.19697475e+00]\n",
            " [ 8.35226631e+00  3.62686386e+01 -8.78249931e+00  1.39675236e+01]\n",
            " [ 7.06184769e+00  4.28617554e+01 -1.23385754e+01  3.00635567e+01]\n",
            " [ 6.85588551e+00  1.98449001e+01 -1.24675026e+01  1.03764801e+01]\n",
            " [ 3.04777336e+00  3.12297173e+01 -6.93303776e+00  2.09532623e+01]\n",
            " [ 1.37353525e+01  2.51293755e+01  2.70810032e+00  2.10979195e+01]\n",
            " [-6.68012524e+00  3.15595703e+01  7.29484558e-02  2.08081017e+01]\n",
            " [-3.78832245e+00  3.59329453e+01 -4.03016281e+00  1.46045456e+01]\n",
            " [-4.17111778e+00  2.56214943e+01 -2.92761421e+00  1.10979099e+01]\n",
            " [-4.59403324e+00  3.36239281e+01 -8.05714130e+00  2.27033920e+01]\n",
            " [-3.27118874e+00  3.04601517e+01  7.30749130e-01  1.02693434e+01]\n",
            " [ 7.01181412e+00  3.64190750e+01 -6.07304668e+00  1.35757303e+01]\n",
            " [ 6.32439041e+00  2.95140648e+01 -2.47658730e-01  1.37069073e+01]\n",
            " [-1.62011528e+00  3.34902802e+01 -8.26785660e+00  2.53595505e+01]\n",
            " [-2.11070442e+00  3.26956902e+01 -9.97575855e+00  2.35159302e+01]\n",
            " [-6.42047882e-01  2.42287598e+01 -8.28487682e+00  9.26554012e+00]\n",
            " [ 1.65255642e+00  3.27253571e+01 -7.86940575e+00  1.59634113e+01]\n",
            " [ 7.62848759e+00  4.13866653e+01 -3.37365437e+00  2.27873192e+01]\n",
            " [ 3.59765244e+00  3.00911903e+01 -8.90254688e+00  1.78027992e+01]\n",
            " [-1.81549835e+00  4.40884781e+01 -1.00432529e+01  2.68291893e+01]\n",
            " [-2.19453239e+00  2.04365501e+01 -2.82613850e+00  1.38717804e+01]\n",
            " [-3.71463871e+00  2.85970650e+01 -7.94676781e+00  2.00671005e+01]\n",
            " [-8.46549606e+00  3.25981026e+01 -2.19622326e+00  2.13761768e+01]\n",
            " [-4.59403324e+00  3.36239204e+01 -8.05714321e+00  2.27033844e+01]\n",
            " [ 5.98468208e+00  4.18084412e+01 -9.72950363e+00  2.81941185e+01]\n",
            " [ 1.14348822e+01  4.00505524e+01 -2.15106010e-02  3.20299110e+01]\n",
            " [ 2.63802433e+00  1.98759766e+01 -2.73941612e+00  1.71549416e+01]\n",
            " [ 7.71400070e+00  3.83576736e+01 -9.08674431e+00  2.13057842e+01]\n",
            " [ 1.19227400e+01  3.59485779e+01 -9.77026653e+00  1.01270962e+01]\n",
            " [-3.05101585e+00  2.09698029e+01 -5.48442841e+00  1.24210978e+01]\n",
            " [ 7.34253311e+00  2.28757191e+01 -3.42970753e+00  1.79524384e+01]\n",
            " [-1.12934875e+00  2.73811626e+01 -1.06847582e+01  1.42709122e+01]\n",
            " [ 9.78493309e+00  3.56144943e+01 -1.21423750e+01  2.92034874e+01]\n",
            " [-4.17111778e+00  2.56214943e+01 -2.92761421e+00  1.10979099e+01]\n",
            " [-3.27118874e+00  3.04601517e+01  7.30749130e-01  1.02693434e+01]\n",
            " [ 1.18554564e+01  2.56517620e+01 -5.07721901e-01  2.03104668e+01]\n",
            " [ 6.11987305e+00  2.76039562e+01 -4.60071754e+00  2.17591286e+01]\n",
            " [-3.27118874e+00  3.04601517e+01  7.30749130e-01  1.02693434e+01]\n",
            " [ 8.94944477e+00  3.38912125e+01 -1.21076775e+00  1.58352547e+01]\n",
            " [-1.81549835e+00  4.40884781e+01 -1.00432529e+01  2.68291893e+01]\n",
            " [ 2.73673439e+00  3.09983635e+01  7.39376640e+00  1.64697628e+01]\n",
            " [-2.46680260e+00  2.97722282e+01  2.14114094e+00  9.19697475e+00]\n",
            " [ 8.80743980e+00  1.53884830e+01  4.13853931e+00  7.49188805e+00]\n",
            " [ 7.38709831e+00  3.79746246e+01 -1.36347656e+01  2.17759895e+01]\n",
            " [ 1.10298538e+00  3.34062920e+01 -4.20793009e+00  1.59660549e+01]\n",
            " [-9.60037231e-01  3.00247726e+01 -1.89341068e+00  2.74241104e+01]\n",
            " [ 4.99466515e+00  3.72064095e+01 -2.96178150e+00  2.88125420e+01]\n",
            " [-1.62011528e+00  3.34902802e+01 -8.26785660e+00  2.53595505e+01]\n",
            " [-1.81549835e+00  4.40884781e+01 -1.00432529e+01  2.68291893e+01]\n",
            " [ 1.17760620e+01  3.18368683e+01 -8.70224762e+00  9.57793903e+00]\n",
            " [ 6.46810055e+00  2.49388542e+01 -3.07283783e+00  1.72035675e+01]\n",
            " [ 1.20861588e+01  3.61427765e+01 -7.89832020e+00  1.43295221e+01]\n",
            " [ 9.98554325e+00  3.48045998e+01 -1.34977875e+01  1.14778481e+01]\n",
            " [ 1.33915520e+01  3.20222168e+01 -8.24928284e-03  2.20522766e+01]\n",
            " [-1.35069466e+00  2.88525295e+01 -1.07640409e+01  1.45934982e+01]\n",
            " [-2.98218536e+00  2.84280663e+01 -4.15386772e+00  8.34101582e+00]\n",
            " [-2.64786053e+00  3.23644028e+01 -4.90999842e+00  2.09213219e+01]\n",
            " [-4.59403324e+00  3.36239281e+01 -8.05714130e+00  2.27033920e+01]\n",
            " [ 1.70742416e+01  3.76730003e+01 -6.64683342e-01  2.36427498e+01]\n",
            " [-2.23059082e+00  4.06166534e+01 -9.66999817e+00  2.95211411e+01]\n",
            " [-1.62011528e+00  3.34902802e+01 -8.26785660e+00  2.53595505e+01]\n",
            " [ 1.10543518e+01  3.74449081e+01 -7.62545538e+00  1.49910650e+01]\n",
            " [-4.17111778e+00  2.56214943e+01 -2.92761421e+00  1.10979099e+01]\n",
            " [ 1.15736017e+01  2.75106773e+01 -5.27370453e+00  1.65519333e+01]\n",
            " [-2.11070442e+00  3.26956902e+01 -9.97575855e+00  2.35159302e+01]\n",
            " [-9.16555405e-01  3.55314865e+01 -4.96539116e+00  1.60488434e+01]\n",
            " [ 1.01804342e+01  2.91658459e+01 -2.67735100e+00  3.04949226e+01]\n",
            " [ 8.29884338e+00  2.47419434e+01 -1.86961842e+00  2.03193817e+01]\n",
            " [-2.98217583e+00  2.84280701e+01 -4.15386868e+00  8.34100056e+00]\n",
            " [ 1.37196236e+01  2.74091835e+01  1.61038494e+00  2.30788002e+01]\n",
            " [-3.27118874e+00  3.04601517e+01  7.30749130e-01  1.02693434e+01]\n",
            " [-4.17111778e+00  2.56214943e+01 -2.92761421e+00  1.10979099e+01]\n",
            " [ 5.98468208e+00  4.18084412e+01 -9.72950363e+00  2.81941185e+01]\n",
            " [ 5.24904251e+00  3.65287247e+01 -2.36046791e-01  1.67012997e+01]\n",
            " [ 1.63563957e+01  3.63180389e+01 -2.26787472e+00  2.22903786e+01]\n",
            " [ 9.58372211e+00  1.80378284e+01  6.44680500e+00  8.77067947e+00]\n",
            " [ 1.82171631e+00  3.09889183e+01 -2.07054090e+00  2.74896049e+01]\n",
            " [-1.31040382e+00  2.23878860e+01 -1.21331396e+01  2.75558567e+01]\n",
            " [ 1.37510386e+01  3.09599228e+01  6.61249161e-01  2.08588772e+01]\n",
            " [ 2.89283180e+00  2.71085434e+01 -2.55055428e+00  2.45761871e+01]\n",
            " [ 1.14348822e+01  4.00505524e+01 -2.15106010e-02  3.20299110e+01]\n",
            " [ 4.51608372e+00  3.02395306e+01 -1.30251884e+00  2.42592812e+01]\n",
            " [-1.62011528e+00  3.34902802e+01 -8.26785660e+00  2.53595505e+01]\n",
            " [ 8.02997398e+00  2.95772018e+01 -8.18412495e+00  1.65068913e+01]\n",
            " [-4.17111778e+00  2.56214943e+01 -2.92761421e+00  1.10979099e+01]\n",
            " [ 1.63606148e+01  3.65749817e+01 -9.83988476e+00  7.24899101e+00]\n",
            " [ 4.34018135e+00  3.03788910e+01 -2.30880928e+00  1.37397432e+01]\n",
            " [-4.59403324e+00  3.36239204e+01 -8.05714321e+00  2.27033844e+01]\n",
            " [ 6.84886932e+00  4.37719727e+01 -1.20296650e+01  2.92704449e+01]\n",
            " [ 1.23248482e+00  2.08474884e+01  4.13732529e-02  1.26481323e+01]\n",
            " [-1.97345352e+00  3.64411011e+01 -8.72348118e+00  2.23495522e+01]\n",
            " [-3.45438671e+00  3.52593346e+01 -8.35907364e+00  2.33998337e+01]\n",
            " [-1.97345352e+00  3.64411011e+01 -8.72348118e+00  2.23495522e+01]\n",
            " [ 1.29860401e+00  3.84099998e+01 -1.39136581e+01  2.47852116e+01]\n",
            " [ 7.12097168e-01  2.80041313e+01 -1.73149204e+01  1.83438759e+01]\n",
            " [ 3.89285660e+00  2.07966995e+01  4.77801275e+00  1.39954710e+01]\n",
            " [ 3.47063541e+00  3.38049240e+01 -1.07514782e+01  6.35826015e+00]\n",
            " [-4.59403324e+00  3.36239281e+01 -8.05714130e+00  2.27033920e+01]\n",
            " [ 9.58372211e+00  1.80378284e+01  6.44680500e+00  8.77067947e+00]\n",
            " [ 8.76106167e+00  3.56831741e+01 -4.20829201e+00  1.58066444e+01]\n",
            " [-3.27118874e+00  3.04601517e+01  7.30749130e-01  1.02693434e+01]\n",
            " [-1.79005241e+00  2.64006939e+01 -5.57607269e+00  2.98111343e+01]\n",
            " [-2.46680260e+00  2.97722282e+01  2.14114094e+00  9.19697475e+00]\n",
            " [-1.62011528e+00  3.34902802e+01 -8.26785660e+00  2.53595505e+01]\n",
            " [-2.46680260e+00  2.97722282e+01  2.14114094e+00  9.19697475e+00]\n",
            " [ 8.07174110e+00  3.05359955e+01 -7.59888363e+00  1.99090958e+01]\n",
            " [-1.83799171e+00  2.52437477e+01  2.82523155e-01  1.75413914e+01]\n",
            " [ 7.63435555e+00  3.55230522e+01 -6.00605965e+00  1.37306633e+01]\n",
            " [-2.46680260e+00  2.97722282e+01  2.14114094e+00  9.19697475e+00]\n",
            " [ 3.89285660e+00  2.07966995e+01  4.77801275e+00  1.39954710e+01]\n",
            " [-1.97345352e+00  3.64411011e+01 -8.72348118e+00  2.23495522e+01]\n",
            " [ 4.77958584e+00  3.38911476e+01 -7.35554504e+00  7.77615547e+00]\n",
            " [ 1.52317047e+00  2.64032650e+01 -1.33390598e+01  1.60005894e+01]\n",
            " [-4.17111778e+00  2.56214943e+01 -2.92761421e+00  1.10979099e+01]\n",
            " [ 8.89173889e+00  4.10492592e+01  3.89917469e+00  2.37872982e+01]\n",
            " [ 1.12243462e+00  3.09553413e+01 -2.06241798e+00  2.20349312e+01]\n",
            " [ 1.24730902e+01  2.75321198e+01 -7.03897476e+00  1.48816013e+01]\n",
            " [ 7.06184769e+00  4.28617554e+01 -1.23385754e+01  3.00635567e+01]\n",
            " [-2.11070633e+00  3.26956787e+01 -9.97576332e+00  2.35159340e+01]\n",
            " [ 1.39069681e+01  3.79226952e+01 -6.58761024e-01  1.67402077e+01]\n",
            " [-3.27118874e+00  3.04601517e+01  7.30749130e-01  1.02693434e+01]\n",
            " [ 9.95363808e+00  2.90742188e+01  1.46511078e-01  1.19498882e+01]\n",
            " [ 1.14348822e+01  4.00505524e+01 -2.15106010e-02  3.20299110e+01]\n",
            " [-1.42414093e-01  3.29203644e+01 -8.27214622e+00  1.62711239e+01]\n",
            " [ 1.09116564e+01  2.14161873e+01 -9.42526245e+00  1.45791531e+01]\n",
            " [ 8.80743980e+00  1.53884830e+01  4.13853931e+00  7.49188805e+00]\n",
            " [ 4.31552887e+00  3.19909401e+01 -9.82587814e+00  1.97057686e+01]\n",
            " [ 2.44420815e+00  2.92389278e+01 -4.94405270e+00  2.38376465e+01]\n",
            " [ 6.48689079e+00  2.40537605e+01  2.73469448e+00  1.24184189e+01]\n",
            " [ 8.50845337e-01  3.29426079e+01 -5.81100559e+00  1.39023228e+01]\n",
            " [ 8.83269978e+00  3.38281097e+01 -8.97355366e+00  1.59248505e+01]\n",
            " [ 6.48689079e+00  2.40537605e+01  2.73469448e+00  1.24184189e+01]\n",
            " [-5.04098892e-01  1.95732212e+01 -4.37467766e+00  1.30193462e+01]\n",
            " [-1.97345352e+00  3.64411011e+01 -8.72348118e+00  2.23495522e+01]\n",
            " [ 4.17956638e+00  2.55653572e+01 -1.62310123e+00  2.49920006e+01]\n",
            " [ 1.20861588e+01  3.61427765e+01 -7.89832020e+00  1.43295221e+01]\n",
            " [ 9.92188740e+00  2.63327026e+01 -8.33169365e+00  1.36733122e+01]\n",
            " [ 9.76729870e+00  3.50696716e+01 -1.06581860e+01  2.66456871e+01]\n",
            " [ 2.43786049e+00  2.92128391e+01 -8.61265182e+00  2.28667259e+01]\n",
            " [ 7.87040043e+00  3.02270775e+01 -5.97843075e+00  6.97417021e+00]\n",
            " [ 6.31907463e+00  3.04983368e+01 -2.32269669e+00  1.26411180e+01]\n",
            " [ 7.11619949e+00  3.64662399e+01  3.91077042e-01  1.54424267e+01]\n",
            " [-6.60678864e-01  2.61336880e+01 -1.41209927e+01  1.70309544e+01]\n",
            " [-2.98217583e+00  2.84280701e+01 -4.15386868e+00  8.34100056e+00]\n",
            " [-1.62011528e+00  3.34902802e+01 -8.26785660e+00  2.53595505e+01]\n",
            " [ 1.37544699e+01  3.50973778e+01 -6.98594666e+00  5.44750500e+00]\n",
            " [ 6.81397247e+00  3.13151264e+01 -4.77188396e+00  1.19580307e+01]\n",
            " [ 3.72329330e+00  4.47755356e+01 -1.55463943e+01  3.64568596e+01]\n",
            " [ 1.63693275e+01  2.94078255e+01  3.95156860e-01  1.93122406e+01]\n",
            " [ 4.31552887e+00  3.19909401e+01 -9.82587814e+00  1.97057686e+01]\n",
            " [ 4.48404980e+00  2.92476540e+01 -5.91978073e-01  1.17633781e+01]\n",
            " [ 7.90871239e+00  3.96624985e+01  6.96516895e+00  3.50281372e+01]\n",
            " [ 5.24076748e+00  2.63204918e+01 -1.66293192e+00  2.23376808e+01]\n",
            " [ 7.50103760e+00  2.84554100e+01 -1.44921017e+00  1.39503899e+01]\n",
            " [ 9.58372211e+00  1.80378284e+01  6.44680500e+00  8.77067947e+00]\n",
            " [ 7.62848759e+00  4.13866653e+01 -3.37365437e+00  2.27873192e+01]\n",
            " [ 4.31552887e+00  3.19909401e+01 -9.82587814e+00  1.97057686e+01]\n",
            " [-3.81391525e-01  3.68330345e+01 -5.77251625e+00  1.75968800e+01]\n",
            " [ 9.24959850e+00  2.81897087e+01 -9.07463932e+00  1.46498699e+01]\n",
            " [ 9.03559303e+00  2.72603302e+01 -1.00914078e+01  2.70673141e+01]\n",
            " [ 9.03142929e+00  3.62226105e+01 -9.89365864e+00  2.80917683e+01]\n",
            " [ 6.33115768e+00  4.46438332e+01 -1.23776407e+01  2.44056396e+01]\n",
            " [ 1.24730902e+01  2.75321198e+01 -7.03897476e+00  1.48816013e+01]\n",
            " [ 5.56007290e+00  4.19911804e+01 -6.68152618e+00  2.13569107e+01]\n",
            " [ 1.06806021e+01  2.82048340e+01 -1.19450712e+01  1.38067303e+01]\n",
            " [-2.46680260e+00  2.97722282e+01  2.14114094e+00  9.19697475e+00]\n",
            " [ 1.03829432e+01  2.89181366e+01 -4.57993937e+00  2.83054790e+01]\n",
            " [ 1.10543518e+01  3.74449081e+01 -7.62545538e+00  1.49910650e+01]\n",
            " [-2.11070442e+00  3.26956902e+01 -9.97575855e+00  2.35159302e+01]\n",
            " [-2.46680260e+00  2.97722282e+01  2.14114094e+00  9.19697475e+00]\n",
            " [ 3.54582024e+00  3.97928162e+01 -8.00639153e+00  2.51306725e+01]\n",
            " [ 1.69463730e+01  2.60181580e+01 -4.11755371e+00  8.08618641e+00]\n",
            " [-2.46680260e+00  2.97722282e+01  2.14114094e+00  9.19697475e+00]\n",
            " [ 6.90315819e+00  3.16891174e+01 -1.19113731e+00  2.06228161e+01]\n",
            " [ 9.76729870e+00  3.50696716e+01 -1.06581860e+01  2.66456871e+01]\n",
            " [-2.11070442e+00  3.26956902e+01 -9.97575855e+00  2.35159302e+01]\n",
            " [-7.55850887e+00  3.07516785e+01 -1.39500999e+00  2.93485909e+01]\n",
            " [-3.27118874e+00  3.04601517e+01  7.30749130e-01  1.02693434e+01]\n",
            " [ 6.11224079e+00  2.77121582e+01 -1.78981876e+00  2.38332539e+01]\n",
            " [-1.97345352e+00  3.64411011e+01 -8.72348118e+00  2.23495522e+01]\n",
            " [ 6.41988373e+00  4.43136139e+01 -2.23020792e+00  7.88166237e+00]\n",
            " [-2.98217583e+00  2.84280701e+01 -4.15386868e+00  8.34100056e+00]\n",
            " [-4.59403324e+00  3.36239204e+01 -8.05714321e+00  2.27033844e+01]\n",
            " [-2.61863136e+00  3.04721718e+01 -1.46171904e+00  2.42931480e+01]\n",
            " [-2.11070442e+00  3.26956902e+01 -9.97575855e+00  2.35159302e+01]\n",
            " [ 3.35670471e-01  2.91948853e+01 -1.20469160e+01  1.92303562e+01]\n",
            " [ 4.48657990e+00  2.28847294e+01 -4.25697708e+00  1.56328354e+01]\n",
            " [ 5.08324623e-01  2.46321659e+01 -5.52116442e+00  2.85557098e+01]\n",
            " [ 3.30573463e+00  2.72803726e+01 -6.30222034e+00  1.58768024e+01]\n",
            " [-2.11070442e+00  3.26956902e+01 -9.97575855e+00  2.35159302e+01]\n",
            " [-5.18664360e-01  3.03348885e+01 -5.01110125e+00  2.85990486e+01]\n",
            " [-2.98217583e+00  2.84280701e+01 -4.15386868e+00  8.34100056e+00]\n",
            " [-4.17111778e+00  2.56214943e+01 -2.92761421e+00  1.10979099e+01]\n",
            " [-9.45436573e+00  2.40234985e+01 -5.54130888e+00  1.39956627e+01]\n",
            " [-2.98217583e+00  2.84280701e+01 -4.15386868e+00  8.34100056e+00]\n",
            " [-3.27118874e+00  3.04601517e+01  7.30749130e-01  1.02693434e+01]\n",
            " [ 1.30145645e+00  3.26875916e+01 -6.93631554e+00  3.01595821e+01]\n",
            " [-1.62011528e+00  3.34902802e+01 -8.26785660e+00  2.53595505e+01]\n",
            " [-5.31673431e-01  3.12789440e+01 -9.40873432e+00  1.55896378e+01]\n",
            " [ 1.00823364e+01  2.90232887e+01 -8.75052261e+00  1.47468662e+01]]\n"
          ]
        }
      ],
      "source": [
        "import pickle\n",
        "\n",
        "# Load the feature_extractor_test data from the file\n",
        "with open('/content/drive/MyDrive/Without_Softmax_Feature_3DCNN/feature_extractor_X_val_D2300.pkl', 'rb') as f:\n",
        "    feature_extractor_X_val_D2 = pickle.load(f)\n",
        "\n",
        "# Now you can use feature_extractor_test as your loaded data\n",
        "print(feature_extractor_X_val_D2)"
      ]
    },
    {
      "cell_type": "code",
      "execution_count": 22,
      "metadata": {
        "colab": {
          "base_uri": "https://localhost:8080/"
        },
        "id": "s8zlqoZwDEMT",
        "outputId": "ace70045-317a-42ef-ee64-448b3088a0fc"
      },
      "outputs": [
        {
          "output_type": "stream",
          "name": "stdout",
          "text": [
            "(240, 4)\n"
          ]
        }
      ],
      "source": [
        "import numpy as np\n",
        "\n",
        "# Convert list of lists to NumPy array\n",
        "feature_extractor_X_val_D2 = np.array(feature_extractor_X_val_D2)\n",
        "\n",
        "# Print the shape of the converted array to verify\n",
        "print(feature_extractor_X_val_D2.shape)"
      ]
    },
    {
      "cell_type": "code",
      "execution_count": 23,
      "metadata": {
        "colab": {
          "base_uri": "https://localhost:8080/"
        },
        "id": "TS0XjeXNCjx7",
        "outputId": "8884ca7f-5a4a-43e3-c422-f8168a6cf6b9"
      },
      "outputs": [
        {
          "output_type": "stream",
          "name": "stdout",
          "text": [
            "[[ 3.10123467e+00  8.43084908e+00 -4.54695415e+00 -7.49645233e-02]\n",
            " [ 1.38730783e+01  1.73276157e+01 -1.62245846e+00  4.54535198e+00]\n",
            " [-4.98419666e+00  1.63020706e+01 -3.15011406e+00 -1.83731556e+00]\n",
            " [-7.85838962e-01  1.16136036e+01 -2.46739292e+00  9.45266819e+00]\n",
            " [ 2.46170254e+01  1.96638317e+01 -2.26166248e+00 -6.82027817e-01]\n",
            " [ 5.18562984e+00  8.58766651e+00  1.19162140e+01  3.57317066e+00]\n",
            " [ 5.11019945e+00  1.20938807e+01  8.39037132e+00 -1.50197029e-01]\n",
            " [ 6.59936619e+00  6.96744442e+00 -5.53258419e+00  7.34888268e+00]\n",
            " [ 1.00964594e+00  9.52665234e+00 -1.34518433e+00  1.28166676e+01]\n",
            " [ 8.96962643e+00  9.08220577e+00  4.32590485e+00  1.17078314e+01]\n",
            " [-8.47019672e+00 -2.77594042e+00 -3.26998711e+00  5.81758928e+00]\n",
            " [ 1.96538525e+01  1.42273617e+01 -2.72549152e+00  1.05405579e+01]\n",
            " [ 1.41497297e+01  1.40738602e+01  5.17605972e+00  2.16995716e+00]\n",
            " [ 1.38873997e+01  1.81828232e+01  3.89847374e+00  2.71503401e+00]\n",
            " [ 1.67080860e+01  2.12822742e+01  8.21630478e-01  6.72161865e+00]\n",
            " [ 2.55649796e+01  1.92000122e+01 -1.75661659e+00 -1.26002884e+00]\n",
            " [ 8.10307312e+00  1.24298668e+01  6.34494019e+00 -3.49489689e+00]\n",
            " [-9.46930504e+00  4.24627066e+00  6.71539783e+00  7.25134563e+00]\n",
            " [-5.95834255e-01  1.56967611e+01  3.34425926e+00  5.40218973e+00]\n",
            " [-7.85838962e-01  1.16136036e+01 -2.46739292e+00  9.45266819e+00]\n",
            " [ 8.10307312e+00  1.24298668e+01  6.34494019e+00 -3.49489689e+00]\n",
            " [ 3.49686861e+00  1.13633661e+01  1.15655994e+00  7.89875650e+00]\n",
            " [ 1.32796164e+01  1.02195244e+01 -2.74724770e+00  1.29709482e+01]\n",
            " [ 8.10307312e+00  1.24298668e+01  6.34494019e+00 -3.49489689e+00]\n",
            " [-4.72113895e+00  3.45479369e+00 -5.94330788e-01  6.73252583e+00]\n",
            " [ 1.06535196e+01  1.81453400e+01  2.70358753e+00  7.88121700e+00]\n",
            " [ 1.03494205e+01  7.48741245e+00  5.59384346e+00 -1.21863222e+00]\n",
            " [ 1.00964594e+00  9.52665234e+00 -1.34518433e+00  1.28166676e+01]\n",
            " [ 8.10307312e+00  1.24298668e+01  6.34494019e+00 -3.49489689e+00]\n",
            " [ 2.34861994e+00  7.27529240e+00 -1.00102139e+00  1.23030758e+01]\n",
            " [ 8.48821545e+00  1.28584986e+01  6.56460857e+00 -2.91126919e+00]\n",
            " [ 2.50834942e+00  1.59585171e+01  2.78561211e+00  8.59497261e+00]\n",
            " [-5.81064224e-01  2.56932425e+00 -1.16507511e+01 -1.19535446e-01]\n",
            " [-3.26399994e+00  1.43217583e+01 -5.05649185e+00  1.19157534e+01]\n",
            " [ 8.48821831e+00  1.28584938e+01  6.56460571e+00 -2.91127872e+00]\n",
            " [ 8.10307312e+00  1.24298668e+01  6.34494019e+00 -3.49489689e+00]\n",
            " [ 2.34861994e+00  7.27529240e+00 -1.00102139e+00  1.23030758e+01]\n",
            " [ 1.15534286e+01  1.54365654e+01  5.23247719e+00  3.03137159e+00]\n",
            " [ 3.84284067e+00  1.17381554e+01  9.22579956e+00 -3.12974691e+00]\n",
            " [ 1.27133408e+01  3.36250687e+00  2.91529083e+00  5.07227468e+00]\n",
            " [-3.85877538e+00  7.08377075e+00 -3.68262672e+00  3.11972952e+00]\n",
            " [ 4.85999489e+00  1.05302916e+01  5.51777267e+00  3.18619347e+00]\n",
            " [-1.54018974e+00  1.40835915e+01 -7.07214642e+00  1.00235291e+01]\n",
            " [ 2.34861994e+00  7.27529240e+00 -1.00102139e+00  1.23030758e+01]\n",
            " [ 3.26651168e+00  1.03926344e+01  1.03578854e+00 -3.94758868e+00]\n",
            " [ 8.48821831e+00  1.28584938e+01  6.56460571e+00 -2.91127872e+00]\n",
            " [ 8.48821831e+00  1.28584938e+01  6.56460571e+00 -2.91127872e+00]\n",
            " [ 1.61597042e+01  1.59364319e+01 -3.96763802e-01 -5.72071648e+00]\n",
            " [ 5.30765963e+00  9.14475060e+00  5.81390762e+00  1.88720369e+00]\n",
            " [ 1.66398621e+01  1.82818642e+01 -1.19155216e+00  6.81953001e+00]\n",
            " [ 4.01471424e+00  1.27979746e+01 -4.48528290e-01  2.51444197e+00]\n",
            " [ 6.97341347e+00  8.28781796e+00  5.68129253e+00  2.42608309e+00]\n",
            " [ 2.34861994e+00  7.27529240e+00 -1.00102139e+00  1.23030758e+01]\n",
            " [ 1.45296593e+01  1.74839191e+01  6.69554138e+00 -1.40725136e-01]\n",
            " [ 2.29546356e+00  1.69587002e+01 -8.36977768e+00  3.41893244e+00]\n",
            " [ 1.27922702e+00  9.52527809e+00  1.27141953e-01  1.56580114e+01]\n",
            " [ 1.94990082e+01  2.12995491e+01 -3.75377536e+00  1.97172337e+01]\n",
            " [ 6.59936619e+00  6.96744442e+00 -5.53258419e+00  7.34888268e+00]\n",
            " [ 4.18327093e+00  1.30279760e+01 -8.68241978e+00  3.69882107e-01]\n",
            " [ 3.84284067e+00  1.17381554e+01  9.22579956e+00 -3.12974691e+00]\n",
            " [-7.85838962e-01  1.16136036e+01 -2.46739292e+00  9.45266819e+00]\n",
            " [-4.87976599e+00  1.16086617e+01  6.44058800e+00  7.65348673e+00]\n",
            " [-1.73191071e+00  5.11299610e+00  7.76851273e+00  3.34059286e+00]\n",
            " [-2.82488060e+00  4.43765354e+00  4.17639542e+00  2.73322392e+00]\n",
            " [-1.33865762e+00  5.75453091e+00  1.40877914e+00  1.31851864e+01]\n",
            " [ 1.86373997e+01  1.33293724e+01 -1.19638119e+01  6.28684616e+00]\n",
            " [ 9.40247726e+00  1.16558290e+00 -4.53004360e+00  6.36646152e-01]\n",
            " [ 1.27922702e+00  9.52527809e+00  1.27141953e-01  1.56580114e+01]\n",
            " [ 8.48821831e+00  1.28584938e+01  6.56460571e+00 -2.91127872e+00]\n",
            " [ 8.10307312e+00  1.24298668e+01  6.34494019e+00 -3.49489689e+00]\n",
            " [ 1.00964594e+00  9.52665234e+00 -1.34518433e+00  1.28166676e+01]\n",
            " [ 3.10810280e+00  8.63552952e+00  3.81586838e+00  6.96497023e-01]\n",
            " [ 5.04682684e+00 -1.70252419e+00  7.02198601e+00  1.36419916e+01]\n",
            " [ 4.85999489e+00  1.05302916e+01  5.51777267e+00  3.18619347e+00]\n",
            " [ 6.88239622e+00  1.85851421e+01  4.07400465e+00  2.43604422e-01]\n",
            " [-7.85838962e-01  1.16136036e+01 -2.46739292e+00  9.45266819e+00]\n",
            " [ 3.96532679e+00  7.44564581e+00  7.54531384e+00  4.87783623e+00]\n",
            " [ 1.20245056e+01  1.44894018e+01 -3.82744122e+00 -1.15035677e+00]\n",
            " [ 7.17247581e+00  7.53744650e+00  6.39071846e+00  9.81787682e+00]\n",
            " [ 7.72369528e+00  9.50921726e+00 -2.41980743e+00  6.52703905e+00]\n",
            " [ 1.27190094e+01  1.70191364e+01  1.32367764e+01  3.32856178e-01]\n",
            " [ 4.59614706e+00  1.08484068e+01  1.54835987e+00  6.13149452e+00]\n",
            " [-2.32647133e+00  1.59869452e+01 -3.37545490e+00  4.75589705e+00]\n",
            " [-3.91421390e+00  6.98018408e+00 -3.75539684e+00  4.93868494e+00]\n",
            " [-7.85838962e-01  1.16136036e+01 -2.46739292e+00  9.45266819e+00]\n",
            " [ 8.69912815e+00  1.59950085e+01 -1.62793541e+00 -9.60339165e+00]\n",
            " [ 1.94997578e+01  2.04588661e+01 -2.76419330e+00  1.92384300e+01]\n",
            " [ 6.32016468e+00  1.63223286e+01  3.01726341e-01  1.66614711e+00]\n",
            " [ 7.64469290e+00  3.91678333e+00  4.93572760e+00  1.29960251e+01]\n",
            " [ 9.54610634e+00  1.22170200e+01 -9.44906807e+00 -1.26995730e+00]\n",
            " [ 3.84284067e+00  1.17381554e+01  9.22579956e+00 -3.12974691e+00]\n",
            " [ 2.34861994e+00  7.27529240e+00 -1.00102139e+00  1.23030758e+01]\n",
            " [ 1.28823841e+00  4.17711735e+00  1.37630081e+00  1.27455502e+01]\n",
            " [ 5.11019945e+00  1.20938807e+01  8.39037132e+00 -1.50197029e-01]\n",
            " [ 5.86904430e+00  8.62329197e+00  6.14455891e+00  9.12652493e+00]\n",
            " [ 7.86421871e+00  1.96617832e+01 -8.57982635e-01  1.53194666e-01]\n",
            " [ 1.27922702e+00  9.52527809e+00  1.27141953e-01  1.56580114e+01]\n",
            " [ 3.32618380e+00  1.15671692e+01 -4.96414471e+00  1.57566357e+00]\n",
            " [ 1.15534286e+01  1.54365654e+01  5.23247719e+00  3.03137159e+00]\n",
            " [ 8.09615517e+00  2.17255955e+01 -2.25484371e+00  7.01392365e+00]\n",
            " [ 8.48821831e+00  1.28584938e+01  6.56460571e+00 -2.91127872e+00]\n",
            " [ 7.03719664e+00  1.89697056e+01  3.63022137e+00  3.72146368e-01]\n",
            " [ 1.01077900e+01  1.33025188e+01 -4.69235039e+00 -4.30742216e+00]\n",
            " [ 1.86649551e+01  1.38485603e+01 -5.30377054e+00  9.47728157e+00]\n",
            " [ 4.61359882e+00  1.41236372e+01 -3.18808508e+00  9.20016384e+00]\n",
            " [-4.83504057e-01  5.65284300e+00  5.25292873e+00  1.01534433e+01]\n",
            " [ 1.86187057e+01  1.27726011e+01 -1.19017458e+01  8.40930557e+00]\n",
            " [ 2.41587219e+01  1.71664257e+01 -1.52165508e+00  1.67936497e+01]\n",
            " [ 2.65421367e+00  1.53512897e+01  5.48596382e+00  6.91728878e+00]\n",
            " [ 7.78992748e+00  7.97853041e+00  1.17973576e+01  4.80369282e+00]\n",
            " [ 1.27922702e+00  9.52527809e+00  1.27141953e-01  1.56580114e+01]\n",
            " [ 4.32021141e+00  1.55422115e+01 -4.85237312e+00  1.12018013e+01]\n",
            " [ 1.62529831e+01  1.96068172e+01 -6.26858234e+00  1.28838749e+01]\n",
            " [ 1.11296806e+01  1.84425488e+01  6.34272099e-01  1.34035873e+01]\n",
            " [ 4.11782360e+00  6.98116589e+00 -4.51182842e+00  8.06230736e+00]\n",
            " [ 4.27797365e+00  1.14222736e+01  1.01879692e+00 -5.83230257e-01]\n",
            " [ 4.85999489e+00  1.05302916e+01  5.51777267e+00  3.18619347e+00]\n",
            " [ 1.67080860e+01  2.12822742e+01  8.21630478e-01  6.72161865e+00]\n",
            " [ 3.67550850e-02  1.33070803e+01 -3.12201023e+00  6.35134935e+00]\n",
            " [ 4.17167044e+00  1.02150240e+01  1.46183872e+00  6.23364162e+00]\n",
            " [ 5.11019945e+00  1.20938807e+01  8.39037132e+00 -1.50197029e-01]\n",
            " [ 1.27190094e+01  1.70191364e+01  1.32367764e+01  3.32856178e-01]\n",
            " [ 2.87000751e+00  3.14830542e+00 -4.76779938e-02  1.81435502e+00]\n",
            " [ 2.41587219e+01  1.71664257e+01 -1.52165508e+00  1.67936497e+01]\n",
            " [ 5.11019945e+00  1.20938807e+01  8.39037132e+00 -1.50197029e-01]\n",
            " [ 5.04682684e+00 -1.70252419e+00  7.02198601e+00  1.36419916e+01]\n",
            " [ 1.00965714e+00  9.52665710e+00 -1.34517384e+00  1.28166790e+01]\n",
            " [ 4.85999632e+00  1.05302944e+01  5.51776314e+00  3.18619752e+00]\n",
            " [ 7.75343704e+00  1.21736488e+01 -4.28890324e+00  1.68067131e+01]\n",
            " [ 1.19030933e+01  2.01820812e+01 -1.79056454e+00 -3.19536304e+00]\n",
            " [ 6.20109653e+00  1.94756432e+01  4.00675535e+00  3.15457439e+00]\n",
            " [ 6.45594120e+00  8.22164249e+00  5.53363514e+00  8.23241997e+00]\n",
            " [ 3.84284067e+00  1.17381554e+01  9.22579956e+00 -3.12974691e+00]\n",
            " [-3.91421390e+00  6.98018408e+00 -3.75539684e+00  4.93868494e+00]\n",
            " [ 3.91548586e+00  1.58835478e+01 -9.32287407e+00  7.43634558e+00]\n",
            " [ 9.70770359e+00  1.64482899e+01  1.44545174e+00  1.70073318e+00]\n",
            " [ 4.40288734e+00  9.73693657e+00 -4.01588631e+00  1.80969560e+00]\n",
            " [-7.85838962e-01  1.16136036e+01 -2.46739292e+00  9.45266819e+00]\n",
            " [ 2.34861994e+00  7.27529240e+00 -1.00102139e+00  1.23030758e+01]\n",
            " [-4.56615496e+00  6.67507839e+00 -3.70244789e+00  3.52635884e+00]\n",
            " [ 1.64217126e+00  9.44652081e+00 -4.54878902e+00  1.35647678e+01]\n",
            " [-3.07952929e+00  9.56474495e+00 -1.27826023e+00  1.16301708e+01]\n",
            " [ 5.11019945e+00  1.20938807e+01  8.39037132e+00 -1.50197029e-01]\n",
            " [ 4.20555687e+00  1.33677158e+01 -1.53841972e-01  9.24937820e+00]\n",
            " [ 5.04096031e+00  3.50821090e+00  1.54054642e+00  4.47707844e+00]\n",
            " [ 1.00964594e+00  9.52665234e+00 -1.34518433e+00  1.28166676e+01]\n",
            " [-1.28320093e+01  1.56609631e+01  7.29561806e-01  2.29402852e+00]\n",
            " [-3.88997841e+00  5.69872189e+00 -6.92012930e+00  1.42009029e+01]\n",
            " [-7.85838962e-01  1.16136036e+01 -2.46739292e+00  9.45266819e+00]\n",
            " [ 8.10307312e+00  1.24298668e+01  6.34494019e+00 -3.49489689e+00]\n",
            " [ 3.40941358e+00  1.17261782e+01  4.29311752e-01 -2.58455920e+00]\n",
            " [ 1.27922702e+00  9.52527809e+00  1.27141953e-01  1.56580114e+01]\n",
            " [ 8.60462189e-02  1.86850815e+01  1.78464985e+00  3.22707653e+00]\n",
            " [ 6.83942127e+00  1.70448551e+01  6.38031960e-01  2.83348131e+00]\n",
            " [ 1.11296806e+01  1.84425488e+01  6.34272099e-01  1.34035873e+01]\n",
            " [ 1.27922702e+00  9.52527809e+00  1.27141953e-01  1.56580114e+01]\n",
            " [ 8.10307312e+00  1.24298668e+01  6.34494019e+00 -3.49489689e+00]\n",
            " [-2.55048490e+00  4.99522400e+00  8.87772274e+00  4.90344477e+00]\n",
            " [ 4.96977043e+00 -1.90782547e-02  7.53154659e+00  1.36968193e+01]\n",
            " [ 8.48821545e+00  1.28584986e+01  6.56460857e+00 -2.91126919e+00]\n",
            " [-7.01896191e-01  1.62060337e+01 -5.74441051e+00  9.57457542e+00]\n",
            " [ 4.27797365e+00  1.14222736e+01  1.01879692e+00 -5.83230257e-01]\n",
            " [ 1.94990082e+01  2.12995491e+01 -3.75377536e+00  1.97172337e+01]\n",
            " [ 6.29049778e+00  1.37406178e+01  4.53950119e+00  7.34693193e+00]\n",
            " [ 3.10810280e+00  8.63552952e+00  3.81586838e+00  6.96497023e-01]\n",
            " [ 1.51090479e+00  1.02218018e+01 -4.14474964e+00  6.85872030e+00]\n",
            " [ 1.31445999e+01  1.45158072e+01  6.28104305e+00  4.77616215e+00]\n",
            " [ 7.12818813e+00  8.90944099e+00 -1.82434750e+00  7.06672144e+00]\n",
            " [ 8.33459473e+00  1.10788965e+01  7.69864035e+00  9.01926136e+00]\n",
            " [ 1.96538525e+01  1.42273617e+01 -2.72549152e+00  1.05405579e+01]\n",
            " [-3.19503570e+00  9.00235653e-01  3.47404194e+00  1.74240255e+00]\n",
            " [ 1.01970625e+01  2.12578125e+01 -2.54153466e+00  9.61730957e+00]\n",
            " [ 3.84284067e+00  1.17381554e+01  9.22579956e+00 -3.12974691e+00]\n",
            " [ 3.10810280e+00  8.63552952e+00  3.81586838e+00  6.96497023e-01]\n",
            " [ 5.38280344e+00  7.78174400e+00 -7.49837780e+00  4.53055239e+00]\n",
            " [ 8.10307312e+00  1.24298668e+01  6.34494019e+00 -3.49489689e+00]\n",
            " [ 4.59614706e+00  1.08484068e+01  1.54835987e+00  6.13149452e+00]\n",
            " [ 1.21493759e+01  7.72421646e+00 -7.29447985e+00 -1.83570385e-01]\n",
            " [ 1.66398621e+01  1.82818642e+01 -1.19155216e+00  6.81953001e+00]\n",
            " [-5.73629236e+00  1.56054230e+01 -4.78451061e+00  5.91901207e+00]\n",
            " [ 4.22649002e+00  1.50483150e+01 -5.14018250e+00  8.74572945e+00]\n",
            " [-2.20884514e+00  1.27871342e+01 -4.89903688e+00  1.15005722e+01]\n",
            " [ 1.31445999e+01  1.45158072e+01  6.28104305e+00  4.77616215e+00]\n",
            " [-7.01896191e-01  1.62060337e+01 -5.74441051e+00  9.57457542e+00]\n",
            " [-1.51383686e+00  9.31230640e+00  1.13604069e+01  7.29719257e+00]\n",
            " [ 5.14793777e+00  1.28332253e+01 -8.86657715e+00  5.89083672e-01]\n",
            " [ 2.34861994e+00  7.27529240e+00 -1.00102139e+00  1.23030758e+01]\n",
            " [ 7.34796906e+00  6.51652908e+00 -1.08026686e+01  1.28434925e+01]\n",
            " [ 1.00964594e+00  9.52665234e+00 -1.34518433e+00  1.28166676e+01]\n",
            " [ 2.34861994e+00  7.27529240e+00 -1.00102139e+00  1.23030758e+01]\n",
            " [ 2.35436249e+00  1.26123676e+01  3.26606560e+00  6.03523350e+00]\n",
            " [ 5.66324854e+00  1.72604485e+01 -2.05649662e+00  4.47387600e+00]\n",
            " [ 6.38368845e+00  1.07457151e+01  7.18784618e+00 -1.59497690e+00]\n",
            " [ 2.45844746e+00  1.91781723e+00 -6.39411449e+00  5.58125401e+00]\n",
            " [ 3.84284067e+00  1.17381554e+01  9.22579956e+00 -3.12974691e+00]\n",
            " [ 5.30765963e+00  9.14475060e+00  5.81390762e+00  1.88720369e+00]\n",
            " [ 1.66398621e+01  1.82818642e+01 -1.19155216e+00  6.81953001e+00]\n",
            " [ 2.23111820e+00  9.87210655e+00  1.28547668e+00 -3.28920436e+00]\n",
            " [ 1.47591138e+00  9.96732903e+00 -4.64512920e+00  5.29534197e+00]\n",
            " [ 1.41497297e+01  1.40738602e+01  5.17605972e+00  2.16995716e+00]\n",
            " [ 8.86399746e+00  2.10924988e+01  3.07840395e+00  8.05614567e+00]\n",
            " [ 4.69664288e+00  1.10030289e+01 -2.10333061e+00  1.02538881e+01]\n",
            " [ 9.06477928e+00  9.76578522e+00  3.99233079e+00  1.19677324e+01]\n",
            " [ 1.12960129e+01  2.15492592e+01 -6.56328964e+00  2.74363708e+00]\n",
            " [ 5.09961605e+00  1.48690100e+01 -1.02506218e+01 -3.65245581e+00]\n",
            " [ 1.41497297e+01  1.40738602e+01  5.17605972e+00  2.16995716e+00]\n",
            " [ 3.83962750e+00  9.88273048e+00 -1.41863060e+00  1.96621180e+00]\n",
            " [ 1.39405756e+01  2.37838078e+01 -2.47489643e+00 -2.14688873e+00]\n",
            " [ 8.93336296e+00  5.81862259e+00 -1.23697491e+01  9.33063889e+00]\n",
            " [ 3.10123467e+00  8.43084908e+00 -4.54695415e+00 -7.49645233e-02]\n",
            " [ 1.21493759e+01  7.72421646e+00 -7.29447985e+00 -1.83570385e-01]\n",
            " [-4.16078329e+00  5.43751669e+00  2.35769415e+00  4.15875006e+00]\n",
            " [ 1.00964594e+00  9.52665234e+00 -1.34518433e+00  1.28166676e+01]\n",
            " [ 7.21665668e+00  8.15998650e+00  1.71685600e+00  6.26497269e-02]\n",
            " [ 4.18327093e+00  1.30279760e+01 -8.68241978e+00  3.69882107e-01]\n",
            " [ 3.10810280e+00  8.63552952e+00  3.81586838e+00  6.96497023e-01]\n",
            " [-4.10235739e+00  7.33553886e+00 -5.92700291e+00  1.23332262e+01]\n",
            " [-3.91421390e+00  6.98018408e+00 -3.75539684e+00  4.93868494e+00]\n",
            " [ 1.06699667e+01  1.10673237e+01  1.08960114e+01 -1.35816813e+00]\n",
            " [ 5.11019945e+00  1.20938807e+01  8.39037132e+00 -1.50197029e-01]\n",
            " [ 9.72004700e+00  2.06925468e+01 -3.26526642e+00 -9.29912663e+00]\n",
            " [ 2.23111820e+00  9.87210655e+00  1.28547668e+00 -3.28920436e+00]\n",
            " [ 2.28680420e+00  6.95197296e+00 -2.54692459e+00  3.57469082e+00]\n",
            " [ 1.53360996e+01  1.21435976e+01 -1.35848637e+01  7.82421589e+00]\n",
            " [-3.84120536e+00  5.76550388e+00  5.54305077e-01  4.97249985e+00]\n",
            " [ 2.34861994e+00  7.27529240e+00 -1.00102139e+00  1.23030758e+01]\n",
            " [ 1.25157890e+01  1.66852627e+01 -9.67734814e+00  2.56503963e+00]\n",
            " [ 1.64732151e+01  1.86396046e+01 -2.84190178e-01  6.60087919e+00]\n",
            " [ 1.23314476e+01  1.72054791e+00 -6.84721470e+00 -4.69207287e-01]\n",
            " [ 1.37975197e+01  1.74997272e+01  5.19293404e+00  1.08070936e+01]\n",
            " [ 5.11019945e+00  1.20938807e+01  8.39037132e+00 -1.50197029e-01]\n",
            " [-4.72113895e+00  3.45479369e+00 -5.94330788e-01  6.73252583e+00]\n",
            " [-4.56615496e+00  6.67507839e+00 -3.70244789e+00  3.52635884e+00]\n",
            " [ 1.55042534e+01  1.57752028e+01  1.02002907e+01 -1.23463345e+00]\n",
            " [ 1.12984686e+01  1.84548969e+01  1.36709995e+01 -2.61514664e-01]\n",
            " [ 3.84284067e+00  1.17381554e+01  9.22579956e+00 -3.12974691e+00]\n",
            " [-2.86644053e+00  9.30672264e+00  4.12274122e+00  8.79972649e+00]\n",
            " [ 1.00964594e+00  9.52665234e+00 -1.34518433e+00  1.28166676e+01]\n",
            " [ 1.89140320e+00  8.61257935e+00 -4.41635609e+00  1.32725763e+01]\n",
            " [ 3.11609983e+00  1.06256561e+01  1.04810104e+01  1.10526867e+01]]\n"
          ]
        }
      ],
      "source": [
        "import pickle\n",
        "\n",
        "# Load the feature_extractor_test data from the file\n",
        "with open('/content/drive/MyDrive/Without_Softmax_Feature_3DCNN/feature_extractor_X_test300.pkl', 'rb') as f:\n",
        "    feature_extractor_X_test = pickle.load(f)\n",
        "\n",
        "# Now you can use feature_extractor_test as your loaded data\n",
        "print(feature_extractor_X_test)"
      ]
    },
    {
      "cell_type": "code",
      "execution_count": 24,
      "metadata": {
        "colab": {
          "base_uri": "https://localhost:8080/"
        },
        "id": "WZzPUIPYFKhW",
        "outputId": "e235cf04-32c4-4022-fdb9-82f90a8b8fe5"
      },
      "outputs": [
        {
          "output_type": "stream",
          "name": "stdout",
          "text": [
            "(240, 4)\n"
          ]
        }
      ],
      "source": [
        "import numpy as np\n",
        "\n",
        "# Convert list of lists to NumPy array\n",
        "feature_extractor_X_test = np.array(feature_extractor_X_test)\n",
        "\n",
        "# Print the shape of the converted array to verify\n",
        "print(feature_extractor_X_test.shape)"
      ]
    },
    {
      "cell_type": "code",
      "execution_count": null,
      "metadata": {
        "colab": {
          "base_uri": "https://localhost:8080/"
        },
        "id": "ltaLocykxO_2",
        "outputId": "2dad050c-c984-40ce-a672-3355cc885e36"
      },
      "outputs": [
        {
          "output_type": "stream",
          "name": "stdout",
          "text": [
            "[[ 12.124198     0.9492941   -2.2559915   24.938059  ]\n",
            " [ 12.109632    -1.540514   -22.358864    23.367935  ]\n",
            " [ 23.616201    11.600473   -17.097466    12.531915  ]\n",
            " [ 10.716148    12.503692   -12.197863    22.66821   ]\n",
            " [  2.5144005   13.317081    -9.558115    27.974398  ]\n",
            " [ 16.825663     2.363532    -9.826578    29.632244  ]\n",
            " [ 17.888348    -4.7848473  -22.01096      3.9157777 ]\n",
            " [ 18.093048     4.6378117  -12.396762     8.360537  ]\n",
            " [  9.258086     1.6725044   -9.296719    17.226974  ]\n",
            " [ 22.672005     9.710102   -17.91446     22.930424  ]\n",
            " [ 14.137874    15.544523    -2.1452608   14.351877  ]\n",
            " [ 25.346912     5.254443    -6.4593925   23.753515  ]\n",
            " [ 11.327723     4.884877   -11.800726    27.561043  ]\n",
            " [  7.269219     0.13608646 -10.215126    21.331383  ]\n",
            " [ 12.586076    12.85866    -15.128756    26.318012  ]\n",
            " [ 11.833367    12.7464485  -18.44465     28.138252  ]\n",
            " [ 24.09458     15.150471   -11.575217     9.102444  ]\n",
            " [ 26.155636     0.9419689   -7.339866    17.111755  ]\n",
            " [ 14.865456    -1.2310238  -14.224677    18.490074  ]\n",
            " [ 15.79216      2.284834   -16.632006    16.812414  ]\n",
            " [  5.5867934   -0.2421956   -3.8804405    4.236895  ]\n",
            " [  9.970937     6.6404114   -5.5999393   19.9683    ]\n",
            " [ 13.098496     4.7718325   -6.922769    21.114626  ]\n",
            " [ 25.934742    13.251229   -21.23846     21.568417  ]\n",
            " [ 14.163795    17.298119     0.9661155   16.482473  ]\n",
            " [ 10.302916    12.508057   -19.838276    29.236523  ]\n",
            " [ 19.59495      2.6236138  -21.62762     11.394684  ]\n",
            " [ 13.149772     7.4278135  -11.758434    25.772686  ]\n",
            " [ 22.83536     -0.70161915 -22.240948    20.74797   ]\n",
            " [ 20.955702     8.980988   -10.055904     5.739855  ]\n",
            " [ 14.400686     3.783146    -5.544963    18.85542   ]\n",
            " [ 19.11252     -2.496644    -6.0843935   24.219112  ]\n",
            " [ 21.670877     7.3975353  -11.466837    17.121061  ]\n",
            " [  7.719273     4.6477113  -14.241446    20.46482   ]\n",
            " [ 22.907988     1.7768011  -14.151842    15.286513  ]\n",
            " [ 17.594057     3.7064457  -22.555704    16.794415  ]\n",
            " [ 16.351725     5.2513266  -17.60445     27.83911   ]\n",
            " [ 20.273134    12.902237   -14.35053     22.791313  ]\n",
            " [  5.922695    15.555351   -19.133106    19.475346  ]\n",
            " [ 14.593761    -1.5564404  -13.981431    11.219983  ]\n",
            " [ 23.800205    22.584675   -31.946676    20.904503  ]\n",
            " [ 21.24342      3.10536     -5.847339    11.061651  ]\n",
            " [ 11.067314    17.656244   -14.832886    17.717224  ]\n",
            " [ 25.253082    -2.8360653  -13.529709    12.38549   ]\n",
            " [  3.9302626    5.8408175   -4.3764668   16.813704  ]\n",
            " [ 21.037601    -5.409669   -11.280415    18.560068  ]\n",
            " [ 17.516994     1.9936218  -15.267208    19.420574  ]\n",
            " [ 14.361616     9.296732   -18.363626    19.827682  ]\n",
            " [ 14.235506    11.56427    -16.050165    27.598717  ]\n",
            " [ 23.135803    -6.0297127   -5.122668    30.587408  ]\n",
            " [  7.2919807    0.16037083 -10.796224    22.970665  ]\n",
            " [ 13.366141     4.8828764  -13.813566    17.836329  ]\n",
            " [ 19.220377     8.313185    -8.211412     6.6573977 ]\n",
            " [ 10.630909     4.8901114   -5.6622157   21.661152  ]\n",
            " [ 12.667137    -5.097109   -10.374303    26.09851   ]\n",
            " [ 21.11582     10.587382   -27.338718    11.293171  ]\n",
            " [ 15.186263     6.499671   -16.328142    30.009771  ]\n",
            " [ 25.98608     11.986635    -3.8108306   23.375418  ]\n",
            " [ 17.86614      5.062673   -17.03138     10.906697  ]\n",
            " [  4.640496    15.96956    -18.606827    22.399601  ]\n",
            " [ 10.2128725    1.4056702  -11.442587    17.117752  ]\n",
            " [ 16.258005     6.793455   -12.631885    13.693717  ]\n",
            " [  8.604422   -10.951106   -15.447178    25.435966  ]\n",
            " [ 19.68947      8.994174   -15.785084    25.71808   ]\n",
            " [ 23.975372    -3.0303822  -17.21063     14.873713  ]\n",
            " [  8.646783    16.016203   -14.7176485   29.236832  ]\n",
            " [ 20.04001     13.964907   -13.986546    22.974655  ]\n",
            " [ 15.727344    17.208931   -14.681503    21.505314  ]\n",
            " [ 11.94518      7.4137554   -2.8217068   31.999924  ]\n",
            " [ 19.175907     1.9290075   -7.0911674   11.820286  ]\n",
            " [ 11.764172     4.3444386  -12.091965    22.22332   ]\n",
            " [ 15.973758     6.9982796  -12.246284    20.21726   ]\n",
            " [ 23.522236     2.1802225  -21.96501     21.89161   ]\n",
            " [ 20.232668    15.598875    -7.962275    22.486528  ]\n",
            " [ 28.302235    -1.5103073  -13.130812    22.066887  ]\n",
            " [  6.0227375    5.9199553  -11.852524    15.076654  ]\n",
            " [ 28.457626    15.519041   -25.725904    24.885645  ]\n",
            " [ 17.975302    -2.874302   -19.21309     11.534191  ]\n",
            " [ 10.336486    11.190781    -7.8286386   15.052101  ]\n",
            " [ 15.223425     3.0976381  -13.682882     5.8281965 ]\n",
            " [ 22.954155    10.534428   -16.018589    18.560669  ]\n",
            " [  3.900877    20.611456    -9.382866    16.782612  ]\n",
            " [ 13.92647      5.564859    -6.355636    18.43784   ]\n",
            " [ 30.718967     0.67851067 -13.260094    11.450885  ]\n",
            " [ 31.215946    -4.973113   -19.280815    16.041946  ]\n",
            " [  9.950783    -1.9382443  -14.370855    29.85643   ]\n",
            " [ 23.99109     13.648637   -23.07359     24.975946  ]\n",
            " [ 15.557629     5.171988   -19.464989    20.924244  ]\n",
            " [ 26.748018     8.039348   -13.1068735   11.622051  ]\n",
            " [ 19.741144    12.031391   -26.31865     22.93681   ]\n",
            " [ 18.656914     5.8921866  -18.840399    11.377855  ]\n",
            " [ 12.1172695    0.35047722 -14.20336     16.546104  ]\n",
            " [ 15.119116     7.316185   -27.408691    13.558821  ]\n",
            " [ 15.151618     6.691059    -9.010846    27.040188  ]\n",
            " [ 18.628391    14.465689   -16.773653    21.850002  ]\n",
            " [ 24.525116    -4.5192957  -16.272224    14.549847  ]\n",
            " [ 20.096338    10.63311    -12.656811    16.973326  ]\n",
            " [ 14.855774     8.351038   -18.793163    16.873741  ]\n",
            " [ 20.461397     5.7458897  -11.85438     12.81414   ]\n",
            " [ 21.315065    15.599542   -14.969339    19.472475  ]\n",
            " [ 14.302926     6.7877636   -8.197124     8.55386   ]\n",
            " [ 18.274473     5.4852753   -5.9578514   12.812256  ]\n",
            " [ 19.906776     6.531907   -15.310192    10.05963   ]\n",
            " [ 13.307588    -1.3980064  -16.132568    11.291432  ]\n",
            " [ 19.23862     -6.7398868  -10.08086     19.049206  ]\n",
            " [  3.231956     9.375851    -2.5783522   16.165298  ]\n",
            " [  3.7297668    9.380411   -16.140104    22.281025  ]\n",
            " [ 30.584282    -2.7394595  -12.891474    19.457413  ]\n",
            " [  9.516289    -2.509902   -19.98538     14.326935  ]\n",
            " [ 20.971352     3.9523077  -21.212215    13.29415   ]\n",
            " [ 11.152843     3.9803166   -9.954869     2.3324463 ]\n",
            " [ 16.135328    11.226715   -20.191221    11.77166   ]\n",
            " [  2.400528    13.560972    -8.394355    29.333336  ]\n",
            " [ 21.740297     8.937359   -19.114372     5.1737266 ]\n",
            " [ 14.517691    19.898178   -10.532922    22.625237  ]\n",
            " [ 23.587934     8.049767    -4.115904    25.520988  ]\n",
            " [ 12.214956     3.5102262  -11.548967    19.029152  ]\n",
            " [ 18.316483    -8.349405   -15.729233    22.667263  ]\n",
            " [  7.249668     1.7562437  -12.982668    16.868557  ]\n",
            " [  9.923671     3.9011307   -7.27076     15.281284  ]\n",
            " [ 12.752189     1.3774977   -3.6334038   25.581142  ]\n",
            " [ 20.281792    19.560356   -13.497831    23.562696  ]\n",
            " [ 17.41682     10.766938   -21.985527    24.204605  ]\n",
            " [  8.995446    11.021404   -11.491455    11.83708   ]\n",
            " [ 21.978134     1.1511574   -9.813885    11.873582  ]\n",
            " [ 12.277018     5.349615   -12.3791      30.718786  ]\n",
            " [ 11.615299    -1.8975163  -11.565281    12.900881  ]\n",
            " [ 20.224781    10.162001    -6.973999    25.456106  ]\n",
            " [ 11.300327    11.3965025  -16.807247     6.6112723 ]\n",
            " [ 17.474659    13.08853    -12.595903    24.263655  ]\n",
            " [  2.9524932   19.916008    -9.344924    17.16986   ]\n",
            " [ 23.97283     -3.5780725  -13.299223    25.572067  ]\n",
            " [  9.063898    17.562252   -13.440271    16.377632  ]\n",
            " [ 22.789902    13.843061   -23.292122    21.20632   ]\n",
            " [  7.707456    -1.5249262  -18.291801    13.98487   ]\n",
            " [ 15.306166     1.8190851   -2.4852908   29.750809  ]\n",
            " [ 17.494104    13.279365   -12.890016    19.056793  ]\n",
            " [ 13.325002    10.311054    -2.467061    13.944033  ]\n",
            " [ 14.630848    10.455116   -18.075346     8.130445  ]\n",
            " [ 23.723864     2.9793568  -16.26979     20.375307  ]\n",
            " [ 19.165457     9.976484   -25.347443    23.81294   ]\n",
            " [ 17.955667     1.0530481  -15.251178    15.812653  ]\n",
            " [  6.8390746    7.3344235   -5.3345838    8.005684  ]\n",
            " [ 21.830225    -3.8867016   -6.2631474   31.029137  ]\n",
            " [ 17.002298    11.2566395   -3.6220992   16.341597  ]\n",
            " [  9.134941    -8.622139   -17.414131    22.123402  ]\n",
            " [ 15.487459     0.23015118 -10.208007    15.974369  ]\n",
            " [ 28.48349      9.431793   -30.110157    25.315767  ]\n",
            " [ 11.170344     7.7055664   -8.824263    29.294466  ]\n",
            " [ 14.26223     -5.4985895   -9.556108    28.832525  ]\n",
            " [ 12.401552    10.652182   -11.880573    21.952066  ]\n",
            " [ 10.75754      2.2202892   -4.6582274   26.518494  ]\n",
            " [ 26.441805    -2.8217669  -15.684862    11.278749  ]\n",
            " [ 22.90113      1.6921206   -5.1946096   22.936972  ]\n",
            " [ 19.312408     9.245853   -18.89951     10.388021  ]\n",
            " [  6.1906023    0.05956936 -16.097006    19.435286  ]\n",
            " [ 20.980095     9.85899     -7.0910997   26.579468  ]\n",
            " [ 25.87108      2.0277529  -11.9910555   16.714165  ]\n",
            " [ 20.214527     3.3226862   -8.572916    22.76819   ]\n",
            " [ 16.270247     5.9755745   -6.92183      8.071271  ]\n",
            " [ 11.536093     3.7874737  -16.601898    18.265575  ]\n",
            " [ 21.258512    -1.843463   -12.100527    12.90193   ]\n",
            " [ 14.396472     5.6288805  -10.084428    24.601316  ]\n",
            " [ 20.22071      6.4392014   -9.956522    14.586726  ]\n",
            " [ 22.16996     -0.34773254 -14.419407    25.48685   ]\n",
            " [ 24.01479      1.1905737   -5.7644286   23.22148   ]\n",
            " [ 14.4397745    6.812662   -13.540061    20.132612  ]\n",
            " [ 18.38388     12.12005    -13.609995    14.369629  ]\n",
            " [ 20.311424    11.578139   -21.353659    20.413258  ]\n",
            " [ 11.251325    12.765034   -16.086285     9.516115  ]\n",
            " [ 12.12049     12.415661   -26.520521    17.374168  ]\n",
            " [  7.7295504   -0.6800289  -10.911071    18.07801   ]\n",
            " [ 10.061937     3.15444     -5.890882    16.865988  ]\n",
            " [ 14.368734     5.1129055  -17.705242    20.251423  ]\n",
            " [ 15.088072     3.0662537  -12.6595955    6.45341   ]\n",
            " [ 24.820845    -4.052351   -12.727228    17.60361   ]\n",
            " [ 11.596197     2.4556332  -13.829729    20.794315  ]\n",
            " [ 23.417816     0.66499805 -11.769789    23.529316  ]\n",
            " [ 18.800508     0.45090532  -1.8383281   23.398508  ]\n",
            " [ 14.829239     2.481245    -7.47192     19.527695  ]\n",
            " [ 31.750559    -0.6915407  -13.335009    10.890962  ]\n",
            " [ 16.467405     2.0942268   -9.553795    29.949394  ]\n",
            " [ 16.242771    -9.695727   -17.069254    17.59848   ]\n",
            " [ 19.188974    11.6756935  -14.056553    23.581898  ]\n",
            " [ 20.816845     7.817777   -19.153809    21.253126  ]\n",
            " [  4.7025414   10.807285   -16.304737    21.876968  ]\n",
            " [ 12.213616    -4.612176   -14.437475    17.967205  ]\n",
            " [ 23.463615    -1.3299389   -9.986814    25.182701  ]\n",
            " [ 24.571527    12.701329   -22.897743    22.677383  ]\n",
            " [ 28.55716      4.918599   -16.402687    28.800247  ]\n",
            " [ 11.280452    -1.9603939  -10.799084    14.821801  ]\n",
            " [ 14.81257     -0.5560026  -13.792145    14.988828  ]\n",
            " [  6.48092     -2.536275   -15.929394    24.61518   ]\n",
            " [  4.829465    -1.2571316   -3.7606323    3.6390347 ]\n",
            " [ 10.423397    -0.9520922  -19.26743     23.157679  ]\n",
            " [ 23.577812     4.3232374  -17.714355    13.047849  ]\n",
            " [ 18.83602      4.278741   -20.850998    16.603706  ]\n",
            " [ 19.331411    19.29186    -13.733376    20.921669  ]\n",
            " [  7.3488326   -0.04317379 -15.896046    25.005974  ]\n",
            " [ 28.352386    10.883343   -14.496344    18.425083  ]\n",
            " [ 20.544468     3.7864628  -14.374352    17.350962  ]\n",
            " [ 18.67422     14.356951   -11.57797     21.305319  ]\n",
            " [ 21.588856    14.396116   -20.242865    11.087039  ]\n",
            " [ 14.577547     8.574279   -18.356812    16.983253  ]\n",
            " [ 26.956226     0.5414858   -9.979548    20.01976   ]\n",
            " [ 12.614034     2.7006798  -17.504951    17.91954   ]\n",
            " [ 15.06313      5.0338316   -8.592568    19.811047  ]\n",
            " [ 13.154722     7.9690733   -5.951038     8.329948  ]\n",
            " [ 22.74522     24.802134   -34.689655    22.094755  ]\n",
            " [ 14.266897    15.475607   -12.909049    11.367884  ]\n",
            " [ 16.87933     17.668972   -13.313458    23.299706  ]\n",
            " [  3.978551     7.180154    -3.8431473   16.049257  ]\n",
            " [ 28.162748    -0.743186   -10.289443     9.169352  ]\n",
            " [ 17.840582     5.5397434  -12.26407     10.479979  ]\n",
            " [ 12.666142     7.1494303   -9.111433    20.248955  ]\n",
            " [ 14.341182    -3.9438496  -20.004652    15.414003  ]\n",
            " [ 15.531699     9.2213335   -9.199108    25.212025  ]\n",
            " [ 19.570766    10.704103   -15.758503    26.228733  ]\n",
            " [ 12.0856695   -0.8262758  -12.184239    16.86528   ]\n",
            " [ 25.122883    13.548499    -2.3376393   23.299583  ]\n",
            " [ 27.53607      8.29629    -12.585376    11.410056  ]\n",
            " [ 13.605484     7.7958574  -13.417098    20.629463  ]\n",
            " [ 16.326557     9.9631     -15.11805     19.760338  ]\n",
            " [ 15.175444     4.171632    -9.439833    21.30453   ]\n",
            " [ 19.355919     6.800435   -13.09115     20.115644  ]\n",
            " [ 14.5162945    9.603885   -11.535284    27.725613  ]\n",
            " [ 28.116667     8.022911    -9.632935    23.000963  ]\n",
            " [ 16.294764     4.1682167  -12.771003    10.709068  ]\n",
            " [ 15.645251     9.290757   -20.370735    16.80144   ]\n",
            " [ 17.638035     6.8238764  -26.201366    22.971249  ]\n",
            " [  3.8271308   10.839613   -17.747288    22.884369  ]\n",
            " [ 13.612172     6.698097   -20.943804    15.5525875 ]\n",
            " [ 13.9023075    0.656909    -6.290642    21.60556   ]\n",
            " [ 18.806618    14.898846   -13.44444     26.024101  ]\n",
            " [ 13.302439     5.8794866   -9.736042    23.614317  ]\n",
            " [ 22.611847     7.680705   -18.744585    21.87621   ]\n",
            " [ 16.357948    13.865922   -21.004513    18.524035  ]\n",
            " [ 24.778143     7.5082064  -10.265865    20.606537  ]\n",
            " [ 13.288894    10.1713505   -7.207584    22.428898  ]\n",
            " [ 21.428707     5.5360746  -23.57904     18.09889   ]\n",
            " [ 12.4189005    7.563307    -2.0408785   15.505364  ]\n",
            " [ 17.8995      -9.790525   -14.506493    21.260715  ]\n",
            " [ 21.002668     4.0680227    1.2810472   15.104151  ]\n",
            " [  4.467407    12.088608   -18.938053    22.392313  ]]\n"
          ]
        }
      ],
      "source": [
        "'''import pickle\n",
        "\n",
        "# Load the feature_extractor_test data from the file\n",
        "with open('/content/drive/MyDrive/Without_Softmax_Feature_3DCNN/feature_extractor_X_test1.pkl', 'rb') as f:\n",
        "    feature_extractor_X_test1 = pickle.load(f)\n",
        "\n",
        "# Now you can use feature_extractor_test as your loaded data\n",
        "print(feature_extractor_X_test1)'''"
      ]
    },
    {
      "cell_type": "code",
      "execution_count": null,
      "metadata": {
        "colab": {
          "base_uri": "https://localhost:8080/"
        },
        "id": "c5XimgyRxVA1",
        "outputId": "549fdea3-ee9c-493a-d0ea-6b7579362256"
      },
      "outputs": [
        {
          "output_type": "stream",
          "name": "stdout",
          "text": [
            "(244, 4)\n"
          ]
        }
      ],
      "source": [
        "'''import numpy as np\n",
        "\n",
        "# Convert list of lists to NumPy array\n",
        "feature_extractor_X_test1 = np.array(feature_extractor_X_test1)\n",
        "\n",
        "# Print the shape of the converted array to verify\n",
        "print(feature_extractor_X_test1.shape)'''"
      ]
    },
    {
      "cell_type": "code",
      "execution_count": 25,
      "metadata": {
        "colab": {
          "base_uri": "https://localhost:8080/"
        },
        "id": "PIcrcWCdMwmG",
        "outputId": "8cacb9a7-c790-4a7e-d64b-117649ac7307"
      },
      "outputs": [
        {
          "output_type": "stream",
          "name": "stdout",
          "text": [
            "(1200, 4)\n"
          ]
        }
      ],
      "source": [
        "import numpy as np\n",
        "\n",
        "# Assuming feature_extractor_Train and feature_extractor_Test are numpy arrays\n",
        "# Concatenate feature_extractor_Train and feature_extractor_Test along the first axis (rows)\n",
        "merged_features = np.concatenate((feature_extractor_X_train_D1,feature_extractor_X_train_D2,feature_extractor_X_val_D1,feature_extractor_X_val_D2,feature_extractor_X_test), axis=0)\n",
        "\n",
        "print(merged_features.shape)  # Check the shape of the merged features\n",
        " # Check the shape of the merged features\n",
        "\n"
      ]
    },
    {
      "cell_type": "code",
      "execution_count": null,
      "metadata": {
        "id": "K74O6tHqUnUv"
      },
      "outputs": [],
      "source": []
    },
    {
      "cell_type": "code",
      "execution_count": 26,
      "metadata": {
        "colab": {
          "base_uri": "https://localhost:8080/"
        },
        "id": "J2Gxy2UvNSz3",
        "outputId": "fc641615-6110-4f6c-e19d-b9887a59d020"
      },
      "outputs": [
        {
          "output_type": "stream",
          "name": "stdout",
          "text": [
            "[[  2.5911899    2.8786259    6.1810894  -17.930243  ]\n",
            " [ -5.5180016   -0.15724039  -2.1095219   -4.5553975 ]\n",
            " [ -6.8849883    4.7544975   -9.368164    -9.337261  ]\n",
            " ...\n",
            " [  1.0096459    9.526652    -1.3451843   12.816668  ]\n",
            " [  1.8914032    8.612579    -4.416356    13.272576  ]\n",
            " [  3.1160998   10.625656    10.48101     11.052687  ]]\n"
          ]
        }
      ],
      "source": [
        "# Now you can use merged_features as your loaded data\n",
        "print(merged_features)"
      ]
    },
    {
      "cell_type": "code",
      "execution_count": null,
      "metadata": {
        "id": "V_X-P9FzvUe_"
      },
      "outputs": [],
      "source": [
        "'''params = {\n",
        "    'base_score': 0.5,\n",
        "    'booster': 'gbtree',\n",
        "    'colsample_bylevel': 1,\n",
        "    'colsample_bynode': 1,\n",
        "    'learning_rate': 0.1,\n",
        "    'max_delta_step': 0,\n",
        "    'max_depth': 6,\n",
        "    'min_child_weight': 1,\n",
        "    'missing': 1,\n",
        "    'n_estimators': 100,\n",
        "    'n_jobs': -1,\n",
        "    'nthread': None,\n",
        "    'random_state': 1855,\n",
        "    'reg_alpha': 0,\n",
        "    'reg_lambda': 1,\n",
        "    'scale_pos_weight': 1,\n",
        "    'seed': None,\n",
        "    'silent': None,\n",
        "    'subsample': 1,\n",
        "    'verbosity': 0,\n",
        "    'objective': 'multi:softmax',  # error evaluation for multiclass training\n",
        "    'num_class': 7,\n",
        "    # Set number of GPUs if available\n",
        "    'n_gpus': 0,\n",
        "    'predictor': 'gpu_predictor'\n",
        "}\n",
        "\n",
        "modelXG = XGBClassifier(**params)'''"
      ]
    },
    {
      "cell_type": "code",
      "execution_count": 27,
      "metadata": {
        "id": "Wicu9D4BwmT8"
      },
      "outputs": [],
      "source": [
        "# Convert true y_train_D1 labels to integers\n",
        "#y_train_D1_int = label_binarizer.inverse_transform(y_train_D1)\n",
        "y_train_D1_int = np.argmax(y_train_D1, axis=1)"
      ]
    },
    {
      "cell_type": "code",
      "source": [
        "y_train_D1_int.shape"
      ],
      "metadata": {
        "colab": {
          "base_uri": "https://localhost:8080/"
        },
        "id": "Oxrs4LwzzdsR",
        "outputId": "acd6ae84-8ee0-4dcd-9167-7a07f28d28e6"
      },
      "execution_count": null,
      "outputs": [
        {
          "output_type": "execute_result",
          "data": {
            "text/plain": [
              "(240,)"
            ]
          },
          "metadata": {},
          "execution_count": 29
        }
      ]
    },
    {
      "cell_type": "code",
      "execution_count": 28,
      "metadata": {
        "id": "DXs8uaQU0tc7"
      },
      "outputs": [],
      "source": [
        "# Convert true y_train_D1 labels to integers\n",
        "y_train_D2_int = np.argmax(y_train_D2, axis=1)\n",
        "#y_train_D2_int = label_binarizer.inverse_transform(y_train_D2)"
      ]
    },
    {
      "cell_type": "code",
      "source": [
        "y_train_D2_int.shape"
      ],
      "metadata": {
        "colab": {
          "base_uri": "https://localhost:8080/"
        },
        "id": "Ywajmr_TziJr",
        "outputId": "c85d7229-31e7-4aae-bf74-24df0644226e"
      },
      "execution_count": null,
      "outputs": [
        {
          "output_type": "execute_result",
          "data": {
            "text/plain": [
              "(240,)"
            ]
          },
          "metadata": {},
          "execution_count": 31
        }
      ]
    },
    {
      "cell_type": "code",
      "execution_count": 29,
      "metadata": {
        "id": "1TF2WhI8bhR-"
      },
      "outputs": [],
      "source": [
        "# Convert true y_train_D1 labels to integers\n",
        "y_val_D1_int = np.argmax(y_val_D1, axis=1)\n",
        "#y_val_D1_int = label_binarizer.inverse_transform(y_val_D1)"
      ]
    },
    {
      "cell_type": "code",
      "source": [
        "y_val_D1_int.shape"
      ],
      "metadata": {
        "colab": {
          "base_uri": "https://localhost:8080/"
        },
        "id": "hrqU9_tPF0iM",
        "outputId": "2b7c8612-bb08-4b15-bd57-0dc77d9298c4"
      },
      "execution_count": null,
      "outputs": [
        {
          "output_type": "execute_result",
          "data": {
            "text/plain": [
              "(240,)"
            ]
          },
          "metadata": {},
          "execution_count": 33
        }
      ]
    },
    {
      "cell_type": "code",
      "execution_count": 30,
      "metadata": {
        "id": "MJ7FxHV9bqAv"
      },
      "outputs": [],
      "source": [
        "# Convert true y_train_D1 labels to integers\n",
        "y_val_D2_int = np.argmax(y_val_D2, axis=1)\n",
        "#y_val_D2_int = label_binarizer.inverse_transform(y_val_D2)"
      ]
    },
    {
      "cell_type": "code",
      "source": [
        "y_val_D2_int.shape"
      ],
      "metadata": {
        "colab": {
          "base_uri": "https://localhost:8080/"
        },
        "id": "buufAT200INI",
        "outputId": "037129c0-27f0-491c-a023-f3cbf5956712"
      },
      "execution_count": null,
      "outputs": [
        {
          "output_type": "execute_result",
          "data": {
            "text/plain": [
              "(240,)"
            ]
          },
          "metadata": {},
          "execution_count": 35
        }
      ]
    },
    {
      "cell_type": "code",
      "execution_count": 31,
      "metadata": {
        "id": "3k9f5lDuXkRn"
      },
      "outputs": [],
      "source": [
        "# Convert true y_train_D1 labels to integers\n",
        "y_test300 = np.argmax(y_test300, axis=1)\n",
        "#y_test300 = label_binarizer.inverse_transform(y_test300)"
      ]
    },
    {
      "cell_type": "code",
      "source": [
        "y_test300.shape"
      ],
      "metadata": {
        "colab": {
          "base_uri": "https://localhost:8080/"
        },
        "id": "XwpQqX_X0NSB",
        "outputId": "9a10da94-4621-4b80-97b0-9fef6299a385"
      },
      "execution_count": null,
      "outputs": [
        {
          "output_type": "execute_result",
          "data": {
            "text/plain": [
              "(240,)"
            ]
          },
          "metadata": {},
          "execution_count": 37
        }
      ]
    },
    {
      "cell_type": "code",
      "source": [],
      "metadata": {
        "id": "FD2LdpYZ06go"
      },
      "execution_count": null,
      "outputs": []
    },
    {
      "cell_type": "code",
      "execution_count": 32,
      "metadata": {
        "colab": {
          "base_uri": "https://localhost:8080/"
        },
        "id": "7zTOdlmjTzii",
        "outputId": "9100e0e9-0b41-422b-d4bd-6ec9c1df9d80"
      },
      "outputs": [
        {
          "output_type": "stream",
          "name": "stdout",
          "text": [
            "(1200,)\n"
          ]
        }
      ],
      "source": [
        "import numpy as np\n",
        "\n",
        "# Assuming y_test_int and y_train_1_int are numpy arrays\n",
        "# Concatenate y_test_int and y_train_1_int arrays along the first axis (rows)\n",
        "merged_labels = np.concatenate((y_train_D1_int, y_train_D2_int,y_val_D1_int,y_val_D2_int,y_test300), axis=0)\n",
        "\n",
        "print(merged_labels.shape)"
      ]
    },
    {
      "cell_type": "code",
      "source": [
        "#y_train_encoded = label_encoder.fit_transform(merged_labels)"
      ],
      "metadata": {
        "id": "gM_hSF4tSmue"
      },
      "execution_count": null,
      "outputs": []
    },
    {
      "cell_type": "code",
      "execution_count": null,
      "metadata": {
        "colab": {
          "base_uri": "https://localhost:8080/"
        },
        "id": "vcgjU2Pq3Axb",
        "outputId": "6e6b73c9-7712-43ff-ea7b-374cdc82a0c1"
      },
      "outputs": [
        {
          "name": "stdout",
          "output_type": "stream",
          "text": [
            "Dimensionality of merged_features: 2\n"
          ]
        }
      ],
      "source": [
        "import numpy as np\n",
        "\n",
        "# Assuming merged_features is your numpy array\n",
        "dimensionality = len(merged_features.shape)\n",
        "\n",
        "print(\"Dimensionality of merged_features:\", dimensionality)\n",
        "\n"
      ]
    },
    {
      "cell_type": "code",
      "source": [
        "# Preprocess data (assuming merged_features and merged_labels are your data)\n",
        "scaler = StandardScaler()\n",
        "scaled_features1 = scaler.fit_transform(feature_extractor_X_test1)"
      ],
      "metadata": {
        "id": "YgFEkQ4sPRev"
      },
      "execution_count": null,
      "outputs": []
    },
    {
      "cell_type": "code",
      "execution_count": 33,
      "metadata": {
        "id": "lzuoY9bKmYMK",
        "colab": {
          "base_uri": "https://localhost:8080/",
          "height": 270
        },
        "outputId": "cc637605-1f04-4e41-909a-c5da1300dde8"
      },
      "outputs": [
        {
          "output_type": "stream",
          "name": "stdout",
          "text": [
            "Fitting 3 folds for each of 100 candidates, totalling 300 fits\n"
          ]
        },
        {
          "output_type": "execute_result",
          "data": {
            "text/plain": [
              "XGBClassifier(base_score=None, booster=None, callbacks=None,\n",
              "              colsample_bylevel=None, colsample_bynode=None,\n",
              "              colsample_bytree=0.8408068344863948, device=None,\n",
              "              early_stopping_rounds=None, enable_categorical=False,\n",
              "              eval_metric=None, feature_types=None, gamma=0.17031228473212,\n",
              "              grow_policy=None, importance_type=None,\n",
              "              interaction_constraints=None, learning_rate=0.08820835847077092,\n",
              "              max_bin=None, max_cat_threshold=None, max_cat_to_onehot=None,\n",
              "              max_delta_step=None, max_depth=9, max_leaves=None,\n",
              "              min_child_weight=2.1816482762165625, missing=nan,\n",
              "              monotone_constraints=None, multi_strategy=None, n_estimators=600,\n",
              "              n_jobs=-1, num_class=4, num_parallel_tree=None, ...)"
            ],
            "text/html": [
              "<style>#sk-container-id-1 {color: black;background-color: white;}#sk-container-id-1 pre{padding: 0;}#sk-container-id-1 div.sk-toggleable {background-color: white;}#sk-container-id-1 label.sk-toggleable__label {cursor: pointer;display: block;width: 100%;margin-bottom: 0;padding: 0.3em;box-sizing: border-box;text-align: center;}#sk-container-id-1 label.sk-toggleable__label-arrow:before {content: \"▸\";float: left;margin-right: 0.25em;color: #696969;}#sk-container-id-1 label.sk-toggleable__label-arrow:hover:before {color: black;}#sk-container-id-1 div.sk-estimator:hover label.sk-toggleable__label-arrow:before {color: black;}#sk-container-id-1 div.sk-toggleable__content {max-height: 0;max-width: 0;overflow: hidden;text-align: left;background-color: #f0f8ff;}#sk-container-id-1 div.sk-toggleable__content pre {margin: 0.2em;color: black;border-radius: 0.25em;background-color: #f0f8ff;}#sk-container-id-1 input.sk-toggleable__control:checked~div.sk-toggleable__content {max-height: 200px;max-width: 100%;overflow: auto;}#sk-container-id-1 input.sk-toggleable__control:checked~label.sk-toggleable__label-arrow:before {content: \"▾\";}#sk-container-id-1 div.sk-estimator input.sk-toggleable__control:checked~label.sk-toggleable__label {background-color: #d4ebff;}#sk-container-id-1 div.sk-label input.sk-toggleable__control:checked~label.sk-toggleable__label {background-color: #d4ebff;}#sk-container-id-1 input.sk-hidden--visually {border: 0;clip: rect(1px 1px 1px 1px);clip: rect(1px, 1px, 1px, 1px);height: 1px;margin: -1px;overflow: hidden;padding: 0;position: absolute;width: 1px;}#sk-container-id-1 div.sk-estimator {font-family: monospace;background-color: #f0f8ff;border: 1px dotted black;border-radius: 0.25em;box-sizing: border-box;margin-bottom: 0.5em;}#sk-container-id-1 div.sk-estimator:hover {background-color: #d4ebff;}#sk-container-id-1 div.sk-parallel-item::after {content: \"\";width: 100%;border-bottom: 1px solid gray;flex-grow: 1;}#sk-container-id-1 div.sk-label:hover label.sk-toggleable__label {background-color: #d4ebff;}#sk-container-id-1 div.sk-serial::before {content: \"\";position: absolute;border-left: 1px solid gray;box-sizing: border-box;top: 0;bottom: 0;left: 50%;z-index: 0;}#sk-container-id-1 div.sk-serial {display: flex;flex-direction: column;align-items: center;background-color: white;padding-right: 0.2em;padding-left: 0.2em;position: relative;}#sk-container-id-1 div.sk-item {position: relative;z-index: 1;}#sk-container-id-1 div.sk-parallel {display: flex;align-items: stretch;justify-content: center;background-color: white;position: relative;}#sk-container-id-1 div.sk-item::before, #sk-container-id-1 div.sk-parallel-item::before {content: \"\";position: absolute;border-left: 1px solid gray;box-sizing: border-box;top: 0;bottom: 0;left: 50%;z-index: -1;}#sk-container-id-1 div.sk-parallel-item {display: flex;flex-direction: column;z-index: 1;position: relative;background-color: white;}#sk-container-id-1 div.sk-parallel-item:first-child::after {align-self: flex-end;width: 50%;}#sk-container-id-1 div.sk-parallel-item:last-child::after {align-self: flex-start;width: 50%;}#sk-container-id-1 div.sk-parallel-item:only-child::after {width: 0;}#sk-container-id-1 div.sk-dashed-wrapped {border: 1px dashed gray;margin: 0 0.4em 0.5em 0.4em;box-sizing: border-box;padding-bottom: 0.4em;background-color: white;}#sk-container-id-1 div.sk-label label {font-family: monospace;font-weight: bold;display: inline-block;line-height: 1.2em;}#sk-container-id-1 div.sk-label-container {text-align: center;}#sk-container-id-1 div.sk-container {/* jupyter's `normalize.less` sets `[hidden] { display: none; }` but bootstrap.min.css set `[hidden] { display: none !important; }` so we also need the `!important` here to be able to override the default hidden behavior on the sphinx rendered scikit-learn.org. See: https://github.com/scikit-learn/scikit-learn/issues/21755 */display: inline-block !important;position: relative;}#sk-container-id-1 div.sk-text-repr-fallback {display: none;}</style><div id=\"sk-container-id-1\" class=\"sk-top-container\"><div class=\"sk-text-repr-fallback\"><pre>XGBClassifier(base_score=None, booster=None, callbacks=None,\n",
              "              colsample_bylevel=None, colsample_bynode=None,\n",
              "              colsample_bytree=0.8408068344863948, device=None,\n",
              "              early_stopping_rounds=None, enable_categorical=False,\n",
              "              eval_metric=None, feature_types=None, gamma=0.17031228473212,\n",
              "              grow_policy=None, importance_type=None,\n",
              "              interaction_constraints=None, learning_rate=0.08820835847077092,\n",
              "              max_bin=None, max_cat_threshold=None, max_cat_to_onehot=None,\n",
              "              max_delta_step=None, max_depth=9, max_leaves=None,\n",
              "              min_child_weight=2.1816482762165625, missing=nan,\n",
              "              monotone_constraints=None, multi_strategy=None, n_estimators=600,\n",
              "              n_jobs=-1, num_class=4, num_parallel_tree=None, ...)</pre><b>In a Jupyter environment, please rerun this cell to show the HTML representation or trust the notebook. <br />On GitHub, the HTML representation is unable to render, please try loading this page with nbviewer.org.</b></div><div class=\"sk-container\" hidden><div class=\"sk-item\"><div class=\"sk-estimator sk-toggleable\"><input class=\"sk-toggleable__control sk-hidden--visually\" id=\"sk-estimator-id-1\" type=\"checkbox\" checked><label for=\"sk-estimator-id-1\" class=\"sk-toggleable__label sk-toggleable__label-arrow\">XGBClassifier</label><div class=\"sk-toggleable__content\"><pre>XGBClassifier(base_score=None, booster=None, callbacks=None,\n",
              "              colsample_bylevel=None, colsample_bynode=None,\n",
              "              colsample_bytree=0.8408068344863948, device=None,\n",
              "              early_stopping_rounds=None, enable_categorical=False,\n",
              "              eval_metric=None, feature_types=None, gamma=0.17031228473212,\n",
              "              grow_policy=None, importance_type=None,\n",
              "              interaction_constraints=None, learning_rate=0.08820835847077092,\n",
              "              max_bin=None, max_cat_threshold=None, max_cat_to_onehot=None,\n",
              "              max_delta_step=None, max_depth=9, max_leaves=None,\n",
              "              min_child_weight=2.1816482762165625, missing=nan,\n",
              "              monotone_constraints=None, multi_strategy=None, n_estimators=600,\n",
              "              n_jobs=-1, num_class=4, num_parallel_tree=None, ...)</pre></div></div></div></div></div>"
            ]
          },
          "metadata": {},
          "execution_count": 33
        }
      ],
      "source": [
        "from xgboost import XGBClassifier\n",
        "from sklearn.model_selection import StratifiedKFold, RandomizedSearchCV\n",
        "from sklearn.metrics import classification_report\n",
        "from scipy.stats import uniform, randint\n",
        "\n",
        "# Define parameter distributions for randomized search\n",
        "param_dist = {\n",
        "    'learning_rate': uniform(0.01, 0.3),      # Continuous distribution between 0.01 and 0.31\n",
        "    'max_depth': randint(3, 10),               # Discrete uniform distribution between 3 and 10\n",
        "    'n_estimators': randint(100, 1000),        # Discrete uniform distribution between 100 and 1000\n",
        "    'min_child_weight': uniform(1, 10),        # Continuous distribution between 1 and 11\n",
        "    'gamma': uniform(0, 0.5),                  # Continuous distribution between 0 and 0.5\n",
        "    'subsample': uniform(0.5, 0.5),            # Continuous distribution between 0.5 and 1\n",
        "    'colsample_bytree': uniform(0.5, 0.5)      # Continuous distribution between 0.5 and 1\n",
        "}\n",
        "\n",
        "# Initialize StratifiedKFold for cross-validation\n",
        "cv = StratifiedKFold(n_splits=3, shuffle=True, random_state=42)\n",
        "\n",
        "# Perform randomized search cross-validation\n",
        "random_search = RandomizedSearchCV(\n",
        "    estimator=XGBClassifier(objective='multi:softmax', num_class=4, n_jobs=-1, verbosity=1),\n",
        "    param_distributions=param_dist, cv=cv, scoring='accuracy', n_iter=100, verbose=1, random_state=42\n",
        ")\n",
        "random_search.fit(merged_features, merged_labels)\n",
        "\n",
        "# Get best hyperparameters\n",
        "best_params = random_search.best_params_\n",
        "\n",
        "# Initialize XGBoost classifier with best hyperparameters\n",
        "modelXG = XGBClassifier(**best_params, objective='multi:softmax', num_class=4, verbosity=1, n_jobs=-1)\n",
        "\n",
        "# Train XGBoost model\n",
        "modelXG.fit(merged_features, merged_labels)"
      ]
    },
    {
      "cell_type": "code",
      "execution_count": null,
      "metadata": {
        "id": "6aM8Y-9yvW94"
      },
      "outputs": [],
      "source": [
        "#modelXG.fit(merged_features,merged_labels)"
      ]
    },
    {
      "cell_type": "code",
      "source": [
        "# Preprocess data (assuming merged_features and merged_labels are your data)\n",
        "scaler = StandardScaler()\n",
        "scaled_features1 = scaler.fit_transform(feature_extractor_X_test1)"
      ],
      "metadata": {
        "id": "n8XVCJmYBXe5"
      },
      "execution_count": null,
      "outputs": []
    },
    {
      "cell_type": "code",
      "execution_count": 34,
      "metadata": {
        "id": "z1yjVbl1KALT"
      },
      "outputs": [],
      "source": [
        "# Make predictions with your trained XGBoost model\n",
        "predictions_test = modelXG.predict(feature_extractor_X_test1)\n",
        "\n",
        "# Evaluate the model's performance on the test data\n",
        "#print(classification_report(true_labels_test, predictions_test)) y_train_o_one_hot"
      ]
    },
    {
      "cell_type": "code",
      "execution_count": null,
      "metadata": {
        "id": "BNoms1OyxeW-"
      },
      "outputs": [],
      "source": [
        "XG_test_pred = modelXG.predict(feature_extractor_X_test)"
      ]
    },
    {
      "cell_type": "code",
      "execution_count": 33,
      "metadata": {
        "colab": {
          "base_uri": "https://localhost:8080/"
        },
        "id": "FDqm9F2hGjrr",
        "outputId": "1a01518e-03df-4166-9d86-42017fb9fadb"
      },
      "outputs": [
        {
          "output_type": "execute_result",
          "data": {
            "text/plain": [
              "(245,)"
            ]
          },
          "metadata": {},
          "execution_count": 33
        }
      ],
      "source": [
        "predictions_test.shape"
      ]
    },
    {
      "cell_type": "code",
      "source": [
        "# Convert one-hot encoded labels back to original labels\n",
        "#y_test_original = label_binarizer.inverse_transform(y_test_o_one_hot)"
      ],
      "metadata": {
        "id": "6um2wdfQIBtQ"
      },
      "execution_count": null,
      "outputs": []
    },
    {
      "cell_type": "code",
      "execution_count": 35,
      "metadata": {
        "id": "MzbxeKLDx2Wg"
      },
      "outputs": [],
      "source": [
        "y_test1 = np.argmax(y_test1, axis=1)"
      ]
    },
    {
      "cell_type": "code",
      "execution_count": 38,
      "metadata": {
        "colab": {
          "base_uri": "https://localhost:8080/"
        },
        "id": "fq7AC8BM0uNF",
        "outputId": "d572f9a6-17bf-49d4-fdd7-5fe500ac2cbe"
      },
      "outputs": [
        {
          "output_type": "execute_result",
          "data": {
            "text/plain": [
              "(245,)"
            ]
          },
          "metadata": {},
          "execution_count": 38
        }
      ],
      "source": [
        "y_test1.shape"
      ]
    },
    {
      "cell_type": "code",
      "execution_count": 36,
      "metadata": {
        "colab": {
          "base_uri": "https://localhost:8080/"
        },
        "id": "wYDiZvwA1B8q",
        "outputId": "155ba151-44d4-476b-9806-e2065025ba0d"
      },
      "outputs": [
        {
          "output_type": "stream",
          "name": "stdout",
          "text": [
            "                    precision    recall  f1-score   support\n",
            "\n",
            "     Mild Dementia       0.06      0.05      0.05        19\n",
            " Moderate Dementia       0.00      0.00      0.00         1\n",
            "      Non Demented       0.85      0.56      0.67       198\n",
            "Very mild Dementia       0.14      0.48      0.21        27\n",
            "\n",
            "          accuracy                           0.51       245\n",
            "         macro avg       0.26      0.27      0.23       245\n",
            "      weighted avg       0.71      0.51      0.57       245\n",
            "\n"
          ]
        }
      ],
      "source": [
        "targetnames = [\"Mild Dementia\", \"Moderate Dementia\", \"Non Demented\", \"Very mild Dementia\"]\n",
        "print(classification_report(y_test1, predictions_test, target_names=targetnames,zero_division=1))"
      ]
    },
    {
      "cell_type": "code",
      "execution_count": 37,
      "metadata": {
        "colab": {
          "base_uri": "https://localhost:8080/",
          "height": 652
        },
        "id": "Hn5vkcrArrzn",
        "outputId": "a57be3b7-5052-46b7-e108-88d36fabceac"
      },
      "outputs": [
        {
          "output_type": "display_data",
          "data": {
            "text/plain": [
              "<Figure size 700x600 with 2 Axes>"
            ],
            "image/png": "[encoded data removed]"
          },
          "metadata": {}
        }
      ],
      "source": [
        "def plot_confusion_matrix(cm, classes, normalized=True, cmap='bone'):\n",
        "    plt.figure(figsize=[7, 6])\n",
        "    norm_cm = cm\n",
        "    if normalized:\n",
        "        norm_cm = cm.astype('float') / cm.sum(axis=1)[:, np.newaxis]\n",
        "        sns.heatmap(norm_cm, annot=cm, fmt='g', xticklabels=classes, yticklabels=classes, cmap=cmap)\n",
        "\n",
        "cm = confusion_matrix(y_test1,predictions_test)\n",
        "plot_confusion_matrix(cm, targetnames)"
      ]
    },
    {
      "cell_type": "code",
      "source": [
        "import numpy as np\n",
        "import seaborn as sns\n",
        "import matplotlib.pyplot as plt\n",
        "from sklearn.metrics import confusion_matrix, classification_report\n",
        "\n",
        "def plot_confusion_matrix(cm, classes, normalized=True, cmap='bone'):\n",
        "    plt.figure(figsize=[7, 6])\n",
        "    norm_cm = cm\n",
        "    if normalized:\n",
        "        norm_cm = cm.astype('float') / cm.sum(axis=1)[:, np.newaxis]\n",
        "    sns.heatmap(norm_cm, annot=True, fmt='.2f', xticklabels=classes, yticklabels=classes, cmap=cmap)\n",
        "    plt.xlabel('Predicted labels')\n",
        "    plt.ylabel('True labels')\n",
        "    plt.title('Confusion Matrix')\n",
        "    plt.show()\n",
        "\n",
        "    # Calculate sensitivity and specificity for each class\n",
        "    for i in range(len(classes)):\n",
        "        tp = cm[i, i]\n",
        "        fn = np.sum(cm[i, :]) - tp\n",
        "        fp = np.sum(cm[:, i]) - tp\n",
        "        tn = np.sum(cm) - (tp + fn + fp)\n",
        "\n",
        "        sensitivity = tp / (tp + fn)\n",
        "        specificity = tn / (tn + fp)\n",
        "\n",
        "        print(f\"Class {classes[i]}:\")\n",
        "        print(\"Sensitivity (True Positive Rate):\", sensitivity)\n",
        "        print(\"Specificity (True Negative Rate):\", specificity)\n",
        "        print()\n",
        "\n",
        "# Assuming y_test1 contains the true labels and predictions_test contains the predicted labels\n",
        "cm = confusion_matrix(y_test1, predictions_test)\n",
        "plot_confusion_matrix(cm, targetnames)\n",
        "\n",
        "# Print classification report\n",
        "print(classification_report(y_test1, predictions_test))"
      ],
      "metadata": {
        "colab": {
          "base_uri": "https://localhost:8080/",
          "height": 1000
        },
        "id": "AlYJ1JNSz0Vt",
        "outputId": "952bbe53-dfe4-49c5-c2a8-8650dc5df013"
      },
      "execution_count": 38,
      "outputs": [
        {
          "output_type": "display_data",
          "data": {
            "text/plain": [
              "<Figure size 700x600 with 2 Axes>"
            ],
            "image/png": "[encoded data removed]"
          },
          "metadata": {}
        },
        {
          "output_type": "stream",
          "name": "stdout",
          "text": [
            "Class Mild Dementia:\n",
            "Sensitivity (True Positive Rate): 0.05263157894736842\n",
            "Specificity (True Negative Rate): 0.9247787610619469\n",
            "\n",
            "Class Moderate Dementia:\n",
            "Sensitivity (True Positive Rate): 0.0\n",
            "Specificity (True Negative Rate): 0.9918032786885246\n",
            "\n",
            "Class Non Demented:\n",
            "Sensitivity (True Positive Rate): 0.5555555555555556\n",
            "Specificity (True Negative Rate): 0.5957446808510638\n",
            "\n",
            "Class Very mild Dementia:\n",
            "Sensitivity (True Positive Rate): 0.48148148148148145\n",
            "Specificity (True Negative Rate): 0.6192660550458715\n",
            "\n",
            "              precision    recall  f1-score   support\n",
            "\n",
            "           0       0.06      0.05      0.05        19\n",
            "           1       0.00      0.00      0.00         1\n",
            "           2       0.85      0.56      0.67       198\n",
            "           3       0.14      0.48      0.21        27\n",
            "\n",
            "    accuracy                           0.51       245\n",
            "   macro avg       0.26      0.27      0.23       245\n",
            "weighted avg       0.71      0.51      0.57       245\n",
            "\n"
          ]
        }
      ]
    },
    {
      "cell_type": "code",
      "source": [],
      "metadata": {
        "id": "9Flylc-F86Az"
      },
      "execution_count": null,
      "outputs": []
    },
    {
      "cell_type": "markdown",
      "source": [],
      "metadata": {
        "id": "TQ-WrH191BCP"
      }
    }
  ],
  "metadata": {
    "colab": {
      "machine_shape": "hm",
      "provenance": []
    },
    "kernelspec": {
      "display_name": "Python 3",
      "name": "python3"
    },
    "language_info": {
      "name": "python"
    }
  },
  "nbformat": 4,
  "nbformat_minor": 0
}